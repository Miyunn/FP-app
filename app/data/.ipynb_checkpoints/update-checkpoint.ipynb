{
 "cells": [
  {
   "cell_type": "code",
   "execution_count": 1,
   "id": "0314a1cb",
   "metadata": {},
   "outputs": [],
   "source": [
    "import numpy as np\n",
    "import tensorflow.keras\n",
    "import matplotlib.pyplot as plt\n",
    "from tensorflow.keras.models import Sequential\n",
    "from tensorflow.keras.layers import Conv2D, MaxPool2D, Flatten, Dense, Dropout\n",
    "from tensorflow.keras.utils import to_categorical\n",
    "from sklearn.model_selection import train_test_split"
   ]
  },
  {
   "cell_type": "code",
   "execution_count": 2,
   "id": "2f4ab61d",
   "metadata": {},
   "outputs": [],
   "source": [
    "img = np.load('images.npy')\n",
    "lbl = np.load('labels.npy')\n",
    "last_train_size = np.load('size.npy')"
   ]
  },
  {
   "cell_type": "code",
   "execution_count": 3,
   "id": "a18c34a7",
   "metadata": {},
   "outputs": [
    {
     "name": "stdout",
     "output_type": "stream",
     "text": [
      "Image size : 5263\n",
      "Lables Size:  5263\n",
      "Last trained size: 5250\n"
     ]
    }
   ],
   "source": [
    "print(\"Image size :\", img.shape[0])\n",
    "print(\"Lables Size: \", lbl.shape[0])\n",
    "print(\"Last trained size:\", last_train_size)"
   ]
  },
  {
   "cell_type": "code",
   "execution_count": 4,
   "id": "3de72e30",
   "metadata": {},
   "outputs": [
    {
     "name": "stdout",
     "output_type": "stream",
     "text": [
      "New data found :  13\n"
     ]
    }
   ],
   "source": [
    "new_data_size = lbl.size-last_train_size\n",
    "print(\"New data found : \", new_data_size)"
   ]
  },
  {
   "cell_type": "code",
   "execution_count": 6,
   "id": "84b33d40",
   "metadata": {},
   "outputs": [
    {
     "name": "stdout",
     "output_type": "stream",
     "text": [
      "19\n"
     ]
    },
    {
     "data": {
      "image/png": "[encoded data removed]",
      "text/plain": [
       "<Figure size 432x288 with 1 Axes>"
      ]
     },
     "metadata": {
      "needs_background": "light"
     },
     "output_type": "display_data"
    }
   ],
   "source": [
    "plt.imshow(img[5262], cmap=\"gray\")\n",
    "print(lbl[5262])"
   ]
  },
  {
   "cell_type": "code",
   "execution_count": 32,
   "id": "6da0d71a",
   "metadata": {},
   "outputs": [
    {
     "name": "stdout",
     "output_type": "stream",
     "text": [
      "Converting to binary\n",
      "Reshaping\n",
      "Convering to float32\n"
     ]
    },
    {
     "ename": "ValueError",
     "evalue": "invalid literal for int() with base 10: 'අ'",
     "output_type": "error",
     "traceback": [
      "\u001b[1;31m---------------------------------------------------------------------------\u001b[0m",
      "\u001b[1;31mValueError\u001b[0m                                Traceback (most recent call last)",
      "Input \u001b[1;32mIn [32]\u001b[0m, in \u001b[0;36m<cell line: 1>\u001b[1;34m()\u001b[0m\n\u001b[0;32m     17\u001b[0m img_train \u001b[38;5;241m=\u001b[39m img_train\u001b[38;5;241m.\u001b[39mastype(\u001b[38;5;124m'\u001b[39m\u001b[38;5;124mfloat32\u001b[39m\u001b[38;5;124m'\u001b[39m)\n\u001b[0;32m     18\u001b[0m img_test \u001b[38;5;241m=\u001b[39m img_test\u001b[38;5;241m.\u001b[39mastype(\u001b[38;5;124m'\u001b[39m\u001b[38;5;124mfloat32\u001b[39m\u001b[38;5;124m'\u001b[39m)\n\u001b[1;32m---> 20\u001b[0m lbl_train \u001b[38;5;241m=\u001b[39m \u001b[43mlbl_train\u001b[49m\u001b[38;5;241;43m.\u001b[39;49m\u001b[43mastype\u001b[49m\u001b[43m(\u001b[49m\u001b[38;5;124;43m'\u001b[39;49m\u001b[38;5;124;43mint\u001b[39;49m\u001b[38;5;124;43m'\u001b[39;49m\u001b[43m)\u001b[49m\n\u001b[0;32m     21\u001b[0m lbl_test \u001b[38;5;241m=\u001b[39m lbl_test\u001b[38;5;241m.\u001b[39mastype(\u001b[38;5;124m'\u001b[39m\u001b[38;5;124mint\u001b[39m\u001b[38;5;124m'\u001b[39m)\n\u001b[0;32m     23\u001b[0m \u001b[38;5;28mprint\u001b[39m(\u001b[38;5;124m\"\u001b[39m\u001b[38;5;124mEpochs : \u001b[39m\u001b[38;5;124m\"\u001b[39m,epochs)\n",
      "\u001b[1;31mValueError\u001b[0m: invalid literal for int() with base 10: 'අ'"
     ]
    }
   ],
   "source": [
    "if new_data_size!=0:\n",
    "        \n",
    "    epochs = 30\n",
    "    batch = 32\n",
    "    \n",
    "    img_train, img_test, lbl_train, lbl_test = train_test_split(img, lbl, random_state=0, train_size = .75)\n",
    "    \n",
    "    print(\"Converting to binary\")\n",
    "    img_train = img_train / 255\n",
    "    img_test = img_test / 255\n",
    "    \n",
    "    print(\"Reshaping\")\n",
    "    img_train = img_train.reshape(img_train.shape[0], img_train.shape[1], img_train.shape[2], 1)\n",
    "    img_test = img_test.reshape(img_test.shape[0], img_test.shape[1], img_test.shape[2], 1)\n",
    "    \n",
    "    print(\"Convering to float32\")\n",
    "    img_train = img_train.astype('float32')\n",
    "    img_test = img_test.astype('float32')\n",
    "    \n",
    "    lbl_train = lbl_train.astype('int')\n",
    "    lbl_test = lbl_test.astype('int')\n",
    "\n",
    "    print(\"Epochs : \",epochs)\n",
    "    print(\"Batch size : \",batch)\n",
    "    \n",
    "    model = Sequential()\n",
    "    model.add(Conv2D(256, kernel_size=5, activation='relu'))\n",
    "    model.add(MaxPool2D(pool_size=2))\n",
    "    model.add(Dropout(0.3))\n",
    "    model.add(Conv2D(512, kernel_size=5, activation='relu'))\n",
    "    model.add(MaxPool2D(pool_size=2))\n",
    "    model.add(Dropout(0.3))\n",
    "    model.add(Conv2D(1024, kernel_size=5, activation='relu'))\n",
    "    model.add(MaxPool2D(pool_size=2))\n",
    "    model.add(Dropout(0.3))\n",
    "    model.add(Flatten())\n",
    "    model.add(Dense(128, activation='relu'))\n",
    "    model.add(Dense(256, activation='relu'))\n",
    "    model.add(Dense(31, activation='softmax'))\n",
    "    \n",
    "    model.compile(optimizer=tensorflow.keras.optimizers.Adam(learning_rate=0.001),\n",
    "             loss=tensorflow.keras.losses.sparse_categorical_crossentropy, metrics=['accuracy'])\n",
    "    \n",
    "    print(\"Training....\")\n",
    "    model.fit(img_train, lbl_train, epochs=epochs, batch_size=batch, validation_data=(img_test, lbl_test))\n",
    "    \n",
    "    print('Loss : ',score[0])\n",
    "    print('Accuracy :',score[1])\n",
    "    print(model.summary()) \n",
    "    \n",
    "    model.save('../model.h5')\n",
    "    print(\"Model succesfully updated with new data\")\n",
    "    \n",
    "else:\n",
    "    print(\"No new data to update the model, program will exit now\")"
   ]
  },
  {
   "cell_type": "code",
   "execution_count": null,
   "id": "3cd77234",
   "metadata": {},
   "outputs": [],
   "source": []
  }
 ],
 "metadata": {
  "kernelspec": {
   "display_name": "Python 3 (ipykernel)",
   "language": "python",
   "name": "python3"
  },
  "language_info": {
   "codemirror_mode": {
    "name": "ipython",
    "version": 3
   },
   "file_extension": ".py",
   "mimetype": "text/x-python",
   "name": "python",
   "nbconvert_exporter": "python",
   "pygments_lexer": "ipython3",
   "version": "3.9.12"
  }
 },
 "nbformat": 4,
 "nbformat_minor": 5
}
