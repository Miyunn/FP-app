{
 "cells": [
  {
   "cell_type": "code",
   "execution_count": 1,
   "id": "ec44ec9e",
   "metadata": {},
   "outputs": [],
   "source": [
    "import os\n",
    "os.environ[\"TF_CPP_MIN_LOG_LEVEL\"] = \"2\"\n",
    "import tensorflow as tf\n",
    "from tensorflow import keras\n",
    "from tensorflow.keras import layers\n",
    "from tensorflow.keras.preprocessing.image import ImageDataGenerator"
   ]
  },
  {
   "cell_type": "code",
   "execution_count": 2,
   "id": "14f2b362",
   "metadata": {},
   "outputs": [],
   "source": [
    "img_height = 28\n",
    "img_width = 28\n",
    "batch_size = 2\n",
    "\n",
    "model = keras.Sequential([\n",
    "    layers.Input((28, 28, 1)),\n",
    "    layers.Conv2D(16, 3, padding ='same'),\n",
    "    layers.Conv2D(32, 3, padding ='same'),\n",
    "    layers.MaxPooling2D(),\n",
    "    layers.Flatten(),\n",
    "    layers.Dense(10),\n",
    "])"
   ]
  },
  {
   "cell_type": "code",
   "execution_count": 4,
   "id": "2e1bce9e",
   "metadata": {},
   "outputs": [
    {
     "name": "stdout",
     "output_type": "stream",
     "text": [
      "Found 1920 files belonging to 10 classes.\n",
      "Using 1728 files for training.\n",
      "Found 240 files belonging to 10 classes.\n",
      "Using 24 files for validation.\n",
      "Epoch 1/20\n",
      "864/864 - 4s - loss: 1.7255 - accuracy: 0.9456 - 4s/epoch - 4ms/step\n",
      "Epoch 2/20\n",
      "864/864 - 3s - loss: 0.8832 - accuracy: 0.9659 - 3s/epoch - 4ms/step\n",
      "Epoch 3/20\n",
      "864/864 - 3s - loss: 2.4167 - accuracy: 0.9363 - 3s/epoch - 3ms/step\n",
      "Epoch 4/20\n",
      "864/864 - 3s - loss: 1.2837 - accuracy: 0.9647 - 3s/epoch - 4ms/step\n",
      "Epoch 5/20\n",
      "864/864 - 4s - loss: 1.2325 - accuracy: 0.9705 - 4s/epoch - 5ms/step\n",
      "Epoch 6/20\n",
      "864/864 - 3s - loss: 2.0809 - accuracy: 0.9641 - 3s/epoch - 4ms/step\n",
      "Epoch 7/20\n",
      "864/864 - 3s - loss: 1.0099 - accuracy: 0.9711 - 3s/epoch - 4ms/step\n",
      "Epoch 8/20\n",
      "864/864 - 3s - loss: 1.4769 - accuracy: 0.9699 - 3s/epoch - 3ms/step\n",
      "Epoch 9/20\n",
      "864/864 - 3s - loss: 1.2057 - accuracy: 0.9693 - 3s/epoch - 4ms/step\n",
      "Epoch 10/20\n",
      "864/864 - 4s - loss: 1.6243 - accuracy: 0.9647 - 4s/epoch - 4ms/step\n",
      "Epoch 11/20\n",
      "864/864 - 3s - loss: 1.4252 - accuracy: 0.9786 - 3s/epoch - 3ms/step\n",
      "Epoch 12/20\n",
      "864/864 - 3s - loss: 1.0036 - accuracy: 0.9826 - 3s/epoch - 3ms/step\n",
      "Epoch 13/20\n",
      "864/864 - 3s - loss: 1.3669 - accuracy: 0.9797 - 3s/epoch - 3ms/step\n",
      "Epoch 14/20\n",
      "864/864 - 3s - loss: 2.2249 - accuracy: 0.9769 - 3s/epoch - 4ms/step\n",
      "Epoch 15/20\n",
      "864/864 - 3s - loss: 1.4777 - accuracy: 0.9809 - 3s/epoch - 4ms/step\n",
      "Epoch 16/20\n",
      "864/864 - 3s - loss: 1.5344 - accuracy: 0.9815 - 3s/epoch - 4ms/step\n",
      "Epoch 17/20\n",
      "864/864 - 3s - loss: 0.6968 - accuracy: 0.9890 - 3s/epoch - 4ms/step\n",
      "Epoch 18/20\n",
      "864/864 - 4s - loss: 1.5469 - accuracy: 0.9821 - 4s/epoch - 4ms/step\n",
      "Epoch 19/20\n",
      "864/864 - 4s - loss: 1.5284 - accuracy: 0.9826 - 4s/epoch - 5ms/step\n",
      "Epoch 20/20\n",
      "864/864 - 4s - loss: 1.3873 - accuracy: 0.9861 - 4s/epoch - 5ms/step\n"
     ]
    },
    {
     "data": {
      "text/plain": [
       "<keras.callbacks.History at 0x1c5b494ebb0>"
      ]
     },
     "execution_count": 4,
     "metadata": {},
     "output_type": "execute_result"
    }
   ],
   "source": [
    "ds_train = tf.keras.preprocessing.image_dataset_from_directory(\n",
    "    \"datasets/sinhala/train\",\n",
    "    labels=\"inferred\",\n",
    "    label_mode=\"int\",  # categorical, binary\n",
    "    # class_names=['0', '1', '2', '3', ...]\n",
    "    color_mode=\"grayscale\",\n",
    "    batch_size=batch_size,\n",
    "    image_size=(img_height, img_width),  # reshape if not in this size\n",
    "    shuffle=True,\n",
    "    seed=123,\n",
    "    validation_split=0.1,\n",
    "    subset=\"training\",\n",
    ")\n",
    "\n",
    "ds_validation = tf.keras.preprocessing.image_dataset_from_directory(\n",
    "    \"datasets/sinhala/test\",\n",
    "    labels=\"inferred\",\n",
    "    label_mode=\"int\",  # categorical, binary\n",
    "    # class_names=['0', '1', '2', '3', ...]\n",
    "    color_mode=\"grayscale\",\n",
    "    batch_size=batch_size,\n",
    "    image_size=(img_height, img_width),  # reshape if not in this size\n",
    "    shuffle=True,\n",
    "    seed=123,\n",
    "    validation_split=0.1,\n",
    "    subset=\"validation\",\n",
    ")\n",
    "\n",
    "\n",
    "def augment(x, y):\n",
    "    image = tf.image.random_brightness(x, max_delta=0.05)\n",
    "    return image, y\n",
    "\n",
    "\n",
    "ds_train = ds_train.map(augment)\n",
    "\n",
    "# Custom Loops\n",
    "for epochs in range(10):\n",
    "    for x, y in ds_train:\n",
    "        # train here\n",
    "        pass\n",
    "\n",
    "\n",
    "model.compile(\n",
    "    optimizer=keras.optimizers.Adam(),\n",
    "    loss=[keras.losses.SparseCategoricalCrossentropy(from_logits=True),],\n",
    "    metrics=[\"accuracy\"],\n",
    ")\n",
    "\n",
    "model.fit(ds_train, epochs=20, verbose=2)"
   ]
  },
  {
   "cell_type": "code",
   "execution_count": 5,
   "id": "57c198ef",
   "metadata": {},
   "outputs": [],
   "source": [
    "model.save('model.h5')"
   ]
  },
  {
   "cell_type": "code",
   "execution_count": null,
   "id": "d0df7a9f",
   "metadata": {},
   "outputs": [],
   "source": []
  }
 ],
 "metadata": {
  "kernelspec": {
   "display_name": "Python 3 (ipykernel)",
   "language": "python",
   "name": "python3"
  },
  "language_info": {
   "codemirror_mode": {
    "name": "ipython",
    "version": 3
   },
   "file_extension": ".py",
   "mimetype": "text/x-python",
   "name": "python",
   "nbconvert_exporter": "python",
   "pygments_lexer": "ipython3",
   "version": "3.9.12"
  }
 },
 "nbformat": 4,
 "nbformat_minor": 5
}
