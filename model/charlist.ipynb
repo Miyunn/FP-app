{
 "cells": [
  {
   "cell_type": "code",
   "execution_count": 45,
   "id": "1b2ce65e",
   "metadata": {},
   "outputs": [],
   "source": [
    "from numpy import asarray\n",
    "from numpy import save"
   ]
  },
  {
   "cell_type": "code",
   "execution_count": 46,
   "id": "366d57f0",
   "metadata": {},
   "outputs": [],
   "source": [
    "data = asarray([\n",
    "'අ',                 \n",
    "'ආ', \n",
    "'ඇ',\n",
    "'ඈ',\n",
    "'ඉ',\n",
    "'ඊ',\n",
    "'උ',\n",
    "'එ',\n",
    "'ඒ',\n",
    "'ඔ',\n",
    "'ඕ',\n",
    "'ක',\n",
    "'ග',\n",
    "'ච',\n",
    "'ජ',\n",
    "'ට',\n",
    "'ඩ',\n",
    "'ණ',\n",
    "'ත',\n",
    "'ද',\n",
    "'න',\n",
    "'ප',\n",
    "'බ',\n",
    "'ම',\n",
    "'ය',\n",
    "'ර',\n",
    "'ල',\n",
    "'ව',\n",
    "'ස',\n",
    "'හ',\n",
    "'ළ'  \n",
    "])"
   ]
  },
  {
   "cell_type": "code",
   "execution_count": 47,
   "id": "762b517e",
   "metadata": {},
   "outputs": [],
   "source": [
    "save('dataset/data.npy', data)"
   ]
  },
  {
   "cell_type": "code",
   "execution_count": 48,
   "id": "80f7d0b8",
   "metadata": {},
   "outputs": [
    {
     "name": "stdout",
     "output_type": "stream",
     "text": [
      "['අ' 'ආ' 'ඇ' 'ඈ' 'ඉ' 'ඊ' 'උ' 'එ' 'ඒ' 'ඔ' 'ඕ' 'ක' 'ග' 'ච' 'ජ' 'ට' 'ඩ' 'ණ'\n",
      " 'ත' 'ද' 'න' 'ප' 'බ' 'ම' 'ය' 'ර' 'ල' 'ව' 'ස' 'හ' 'ළ']\n"
     ]
    }
   ],
   "source": [
    "from numpy import load\n",
    "data = load('dataset/data.npy')\n",
    "print(data)"
   ]
  },
  {
   "cell_type": "code",
   "execution_count": 49,
   "id": "847cf2ac",
   "metadata": {},
   "outputs": [
    {
     "name": "stdout",
     "output_type": "stream",
     "text": [
      "<class 'numpy.ndarray'>\n"
     ]
    }
   ],
   "source": [
    "print(type(data))"
   ]
  },
  {
   "cell_type": "code",
   "execution_count": 50,
   "id": "2a81d2f6",
   "metadata": {},
   "outputs": [
    {
     "name": "stdout",
     "output_type": "stream",
     "text": [
      "ළ\n"
     ]
    }
   ],
   "source": [
    "print(data[30])"
   ]
  },
  {
   "cell_type": "code",
   "execution_count": null,
   "id": "46b8314f",
   "metadata": {},
   "outputs": [],
   "source": []
  }
 ],
 "metadata": {
  "kernelspec": {
   "display_name": "Python 3 (ipykernel)",
   "language": "python",
   "name": "python3"
  },
  "language_info": {
   "codemirror_mode": {
    "name": "ipython",
    "version": 3
   },
   "file_extension": ".py",
   "mimetype": "text/x-python",
   "name": "python",
   "nbconvert_exporter": "python",
   "pygments_lexer": "ipython3",
   "version": "3.9.12"
  }
 },
 "nbformat": 4,
 "nbformat_minor": 5
}
