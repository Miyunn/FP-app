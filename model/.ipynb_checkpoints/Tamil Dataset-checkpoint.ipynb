{
 "cells": [
  {
   "cell_type": "code",
   "execution_count": 5,
   "id": "db16d4cf",
   "metadata": {},
   "outputs": [
    {
     "name": "stdout",
     "output_type": "stream",
     "text": [
      "shuffled\n"
     ]
    },
    {
     "ename": "TypeError",
     "evalue": "unsupported operand type(s) for -: 'int' and 'NoneType'",
     "output_type": "error",
     "traceback": [
      "\u001b[1;31m---------------------------------------------------------------------------\u001b[0m",
      "\u001b[1;31mTypeError\u001b[0m                                 Traceback (most recent call last)",
      "Input \u001b[1;32mIn [5]\u001b[0m, in \u001b[0;36m<cell line: 4>\u001b[1;34m()\u001b[0m\n\u001b[0;32m      5\u001b[0m \u001b[38;5;28mprint\u001b[39m(files)\n\u001b[0;32m      6\u001b[0m img\u001b[38;5;241m=\u001b[39mcv2\u001b[38;5;241m.\u001b[39mimread(\u001b[38;5;124m'\u001b[39m\u001b[38;5;124m./dataset/\u001b[39m\u001b[38;5;124m'\u001b[39m\u001b[38;5;241m+\u001b[39m\u001b[38;5;28mstr\u001b[39m(files),\u001b[38;5;241m0\u001b[39m)\n\u001b[1;32m----> 7\u001b[0m img2\u001b[38;5;241m=\u001b[39m\u001b[38;5;241;43m255\u001b[39;49m\u001b[38;5;241;43m-\u001b[39;49m\u001b[43mimg\u001b[49m\n\u001b[0;32m      8\u001b[0m img2\u001b[38;5;241m=\u001b[39mcv2\u001b[38;5;241m.\u001b[39mresize(img2, (\u001b[38;5;241m224\u001b[39m, \u001b[38;5;241m224\u001b[39m))\n",
      "\u001b[1;31mTypeError\u001b[0m: unsupported operand type(s) for -: 'int' and 'NoneType'"
     ]
    }
   ],
   "source": [
    "import os\n",
    "os.sys.path\n",
    "import cv2 \n",
    "for files in  os.listdir(\"./dataset\"):\n",
    "    print(files)\n",
    "    img=cv2.imread('./dataset/tamil/'+str(files),0)\n",
    "    img2=255-img\n",
    "    img2=cv2.resize(img2, (224, 224))"
   ]
  },
  {
   "cell_type": "code",
   "execution_count": null,
   "id": "e52b9d17",
   "metadata": {},
   "outputs": [],
   "source": [
    "import re\n",
    "for files in  os.listdir(\"./processed_dataset\"):\n",
    "    index1=re.findall(r'\\d\\dt',files)\n",
    "    index=int(index1[0][0:2])\n",
    "    img=cv2.imread('./processed_dataset/'+str(files),0)\n",
    "    print(index)\n",
    "    if not os.path.exists('./classified_dataset/'+str(index)+'/'):\n",
    "        os.makedirs('./classified_dataset/'+str(index)+'/')\n",
    "    cv2.imwrite('./classified_dataset/'+str(index)+'/'+files,img)"
   ]
  },
  {
   "cell_type": "code",
   "execution_count": null,
   "id": "5d0353e8",
   "metadata": {},
   "outputs": [],
   "source": []
  }
 ],
 "metadata": {
  "kernelspec": {
   "display_name": "Python 3 (ipykernel)",
   "language": "python",
   "name": "python3"
  },
  "language_info": {
   "codemirror_mode": {
    "name": "ipython",
    "version": 3
   },
   "file_extension": ".py",
   "mimetype": "text/x-python",
   "name": "python",
   "nbconvert_exporter": "python",
   "pygments_lexer": "ipython3",
   "version": "3.9.12"
  }
 },
 "nbformat": 4,
 "nbformat_minor": 5
}
