{
 "cells": [
  {
   "cell_type": "code",
   "execution_count": 1,
   "id": "3187014a",
   "metadata": {},
   "outputs": [],
   "source": [
    "import tensorflow.keras\n",
    "import pandas as pd\n",
    "from tensorflow.keras.models import Sequential\n",
    "from tensorflow.keras.layers import Conv2D, MaxPool2D, Flatten, Dense, Dropout\n",
    "from tensorflow.keras.utils import to_categorical\n",
    "import matplotlib.pyplot as plt\n",
    "import numpy as np\n",
    "import cv2\n",
    "import os"
   ]
  },
  {
   "cell_type": "code",
   "execution_count": 2,
   "id": "dec0fbb7",
   "metadata": {},
   "outputs": [
    {
     "name": "stdout",
     "output_type": "stream",
     "text": [
      "Importing data from directory...\n"
     ]
    }
   ],
   "source": [
    "print(\"Importing data from directory...\")\n",
    "\n",
    "path = \"dataset/train/\"\n",
    "path_test = \"dataset/test/\"\n",
    "files = os.listdir(path)[:31]\n",
    "files_test = os.listdir(path_test)[:31]\n",
    "\n",
    "classes={'1':0, '2':1, '3':2, '4':3, '5':4, '6':5, '7':6, '8':7, '9':8, '10':9, '11':10, '12':11, '25':12, '38':13, '51':14,\n",
    "        '64':15, '77':16, '90':17, '93':18, '105':19, '120':20, '134':21, '149':22, '164':23, '179':24, '190':25, '198':26,\n",
    "        '208':27, '250':28, '264':29, '274':30 }\n"
   ]
  },
  {
   "cell_type": "code",
   "execution_count": 3,
   "id": "fb5ea3bb",
   "metadata": {},
   "outputs": [
    {
     "name": "stdout",
     "output_type": "stream",
     "text": [
      "Labeling train data...\n"
     ]
    }
   ],
   "source": [
    "print(\"Labeling train data...\")\n",
    "img_train=[]\n",
    "lbl_train=[]\n",
    "\n",
    "for cl in classes:\n",
    "    pth = path+cl\n",
    "    for img_name in os.listdir(pth):\n",
    "        img = cv2.imread(pth+\"/\"+img_name,0)\n",
    "        img_train.append(img)\n",
    "        lbl_train.append(classes[cl])"
   ]
  },
  {
   "cell_type": "code",
   "execution_count": 4,
   "id": "17926f9a",
   "metadata": {},
   "outputs": [
    {
     "name": "stdout",
     "output_type": "stream",
     "text": [
      "Labeling test data...\n"
     ]
    }
   ],
   "source": [
    "print(\"Labeling test data...\")\n",
    "img_test=[]\n",
    "lbl_test=[]\n",
    "\n",
    "for cl in classes:\n",
    "    pth = path_test+cl\n",
    "    for img_name in os.listdir(pth):\n",
    "        img = cv2.imread(pth+\"/\"+img_name,0)\n",
    "        img_test.append(img)\n",
    "        lbl_test.append(classes[cl])"
   ]
  },
  {
   "cell_type": "code",
   "execution_count": 5,
   "id": "392af76c",
   "metadata": {},
   "outputs": [
    {
     "name": "stdout",
     "output_type": "stream",
     "text": [
      "converting to np array\n",
      "5250\n"
     ]
    }
   ],
   "source": [
    "print(\"converting to np array\")\n",
    "\n",
    "img_train = np.array(img_train)\n",
    "lbl_train = np.array(lbl_train)\n",
    "\n",
    "img_test = np.array(img_test)\n",
    "lbl_test = np.array(lbl_test)\n",
    "\n",
    "save_size = lbl_train.size\n",
    "\n",
    "print(save_size)"
   ]
  },
  {
   "cell_type": "code",
   "execution_count": 6,
   "id": "3cc3280e",
   "metadata": {},
   "outputs": [
    {
     "name": "stdout",
     "output_type": "stream",
     "text": [
      "Saved for updating\n"
     ]
    }
   ],
   "source": [
    "np.save('../data/images', img_train)\n",
    "np.save('../data/labels', lbl_train)\n",
    "np.save('../data/size', save_size)\n",
    "print(\"Saved for updating\")"
   ]
  },
  {
   "cell_type": "code",
   "execution_count": 7,
   "id": "457c0521",
   "metadata": {},
   "outputs": [
    {
     "name": "stdout",
     "output_type": "stream",
     "text": [
      "0\n"
     ]
    },
    {
     "data": {
      "image/png": "[encoded data removed]",
      "text/plain": [
       "<Figure size 432x288 with 1 Axes>"
      ]
     },
     "metadata": {
      "needs_background": "light"
     },
     "output_type": "display_data"
    }
   ],
   "source": [
    "plt.imshow(img_train[1], cmap='gray')\n",
    "print(lbl_train[1])"
   ]
  },
  {
   "cell_type": "code",
   "execution_count": 8,
   "id": "8eef341d",
   "metadata": {},
   "outputs": [
    {
     "name": "stdout",
     "output_type": "stream",
     "text": [
      "Preprocessing data for training....\n"
     ]
    }
   ],
   "source": [
    "print(\"Preprocessing data for training....\")"
   ]
  },
  {
   "cell_type": "code",
   "execution_count": 9,
   "id": "39b7403d",
   "metadata": {},
   "outputs": [],
   "source": [
    "img_train = img_train.reshape(img_train.shape[0], img_train.shape[1], img_train.shape[2], 1)\n",
    "img_test = img_test.reshape(img_test.shape[0], img_test.shape[1], img_test.shape[2], 1)"
   ]
  },
  {
   "cell_type": "code",
   "execution_count": 10,
   "id": "fc3cd634",
   "metadata": {},
   "outputs": [],
   "source": [
    "img_train = img_train / 255\n",
    "img_test = img_test / 255"
   ]
  },
  {
   "cell_type": "code",
   "execution_count": 11,
   "id": "328a45c7",
   "metadata": {},
   "outputs": [],
   "source": [
    "img_train = img_train.astype('float32')\n",
    "img_test = img_test.astype('float32')"
   ]
  },
  {
   "cell_type": "code",
   "execution_count": 12,
   "id": "f4b794df",
   "metadata": {},
   "outputs": [
    {
     "name": "stdout",
     "output_type": "stream",
     "text": [
      "Train shape (5250, 50, 50, 1)\n",
      "Test shape (688, 50, 50, 1)\n"
     ]
    }
   ],
   "source": [
    "print(\"Train shape\", img_train.shape)\n",
    "print(\"Test shape\", img_test.shape)"
   ]
  },
  {
   "cell_type": "code",
   "execution_count": 13,
   "id": "71889340",
   "metadata": {},
   "outputs": [
    {
     "name": "stdout",
     "output_type": "stream",
     "text": [
      "Epochs :  100\n",
      "Batch size :  32\n"
     ]
    }
   ],
   "source": [
    "epochs = 100\n",
    "batch = 32\n",
    "\n",
    "print(\"Epochs : \",epochs)\n",
    "print(\"Batch size : \",batch)"
   ]
  },
  {
   "cell_type": "code",
   "execution_count": 14,
   "id": "5ee57bb7",
   "metadata": {},
   "outputs": [],
   "source": [
    "model = Sequential()\n",
    "model.add(Conv2D(64, kernel_size=5, activation='relu'))\n",
    "model.add(MaxPool2D(pool_size=2))\n",
    "model.add(Dropout(0.3))\n",
    "model.add(Conv2D(128, kernel_size=5, activation='relu'))\n",
    "model.add(MaxPool2D(pool_size=2))\n",
    "model.add(Dropout(0.3))\n",
    "model.add(Conv2D(256, kernel_size=5, activation='relu'))\n",
    "model.add(MaxPool2D(pool_size=2))\n",
    "model.add(Dropout(0.3))\n",
    "model.add(Flatten())\n",
    "model.add(Dense(128, activation='relu'))\n",
    "model.add(Dense(256, activation='relu'))\n",
    "model.add(Dense(31, activation='softmax'))\n"
   ]
  },
  {
   "cell_type": "code",
   "execution_count": 15,
   "id": "4efa1f76",
   "metadata": {},
   "outputs": [],
   "source": [
    "model.compile(optimizer=tensorflow.keras.optimizers.Adadelta(learning_rate=0.1),\n",
    "             loss=tensorflow.keras.losses.sparse_categorical_crossentropy, metrics=['accuracy'])"
   ]
  },
  {
   "cell_type": "code",
   "execution_count": 16,
   "id": "2bc8b257",
   "metadata": {},
   "outputs": [
    {
     "name": "stdout",
     "output_type": "stream",
     "text": [
      "Training....\n",
      "Epoch 1/100\n",
      "165/165 [==============================] - 2s 11ms/step - loss: 3.4357 - accuracy: 0.0297 - val_loss: 3.4323 - val_accuracy: 0.0349\n",
      "Epoch 2/100\n",
      "165/165 [==============================] - 2s 9ms/step - loss: 3.4325 - accuracy: 0.0328 - val_loss: 3.4304 - val_accuracy: 0.0436\n",
      "Epoch 3/100\n",
      "165/165 [==============================] - 2s 9ms/step - loss: 3.4289 - accuracy: 0.0366 - val_loss: 3.4283 - val_accuracy: 0.0451\n",
      "Epoch 4/100\n",
      "165/165 [==============================] - 2s 9ms/step - loss: 3.4262 - accuracy: 0.0450 - val_loss: 3.4257 - val_accuracy: 0.0349\n",
      "Epoch 5/100\n",
      "165/165 [==============================] - 2s 9ms/step - loss: 3.4218 - accuracy: 0.0408 - val_loss: 3.4229 - val_accuracy: 0.0509\n",
      "Epoch 6/100\n",
      "165/165 [==============================] - 2s 9ms/step - loss: 3.4173 - accuracy: 0.0482 - val_loss: 3.4196 - val_accuracy: 0.0451\n",
      "Epoch 7/100\n",
      "165/165 [==============================] - 2s 9ms/step - loss: 3.4124 - accuracy: 0.0486 - val_loss: 3.4147 - val_accuracy: 0.0480\n",
      "Epoch 8/100\n",
      "165/165 [==============================] - 2s 9ms/step - loss: 3.4065 - accuracy: 0.0531 - val_loss: 3.4088 - val_accuracy: 0.0552\n",
      "Epoch 9/100\n",
      "165/165 [==============================] - 2s 9ms/step - loss: 3.3971 - accuracy: 0.0516 - val_loss: 3.4003 - val_accuracy: 0.0538\n",
      "Epoch 10/100\n",
      "165/165 [==============================] - 2s 9ms/step - loss: 3.3876 - accuracy: 0.0577 - val_loss: 3.3903 - val_accuracy: 0.0538\n",
      "Epoch 11/100\n",
      "165/165 [==============================] - 2s 9ms/step - loss: 3.3748 - accuracy: 0.0617 - val_loss: 3.3774 - val_accuracy: 0.0596\n",
      "Epoch 12/100\n",
      "165/165 [==============================] - 2s 9ms/step - loss: 3.3618 - accuracy: 0.0669 - val_loss: 3.3632 - val_accuracy: 0.0698\n",
      "Epoch 13/100\n",
      "165/165 [==============================] - 2s 9ms/step - loss: 3.3415 - accuracy: 0.0775 - val_loss: 3.3445 - val_accuracy: 0.0785\n",
      "Epoch 14/100\n",
      "165/165 [==============================] - 2s 9ms/step - loss: 3.3268 - accuracy: 0.0817 - val_loss: 3.3241 - val_accuracy: 0.1047\n",
      "Epoch 15/100\n",
      "165/165 [==============================] - 2s 9ms/step - loss: 3.3058 - accuracy: 0.0815 - val_loss: 3.3026 - val_accuracy: 0.1047\n",
      "Epoch 16/100\n",
      "165/165 [==============================] - 2s 9ms/step - loss: 3.2859 - accuracy: 0.0853 - val_loss: 3.2784 - val_accuracy: 0.1221\n",
      "Epoch 17/100\n",
      "165/165 [==============================] - 2s 9ms/step - loss: 3.2581 - accuracy: 0.1013 - val_loss: 3.2505 - val_accuracy: 0.1148\n",
      "Epoch 18/100\n",
      "165/165 [==============================] - 2s 9ms/step - loss: 3.2292 - accuracy: 0.1053 - val_loss: 3.2284 - val_accuracy: 0.1235\n",
      "Epoch 19/100\n",
      "165/165 [==============================] - 2s 9ms/step - loss: 3.2011 - accuracy: 0.1154 - val_loss: 3.1971 - val_accuracy: 0.1294\n",
      "Epoch 20/100\n",
      "165/165 [==============================] - 2s 9ms/step - loss: 3.1797 - accuracy: 0.1164 - val_loss: 3.1737 - val_accuracy: 0.1352\n",
      "Epoch 21/100\n",
      "165/165 [==============================] - 2s 9ms/step - loss: 3.1568 - accuracy: 0.1225 - val_loss: 3.1399 - val_accuracy: 0.1483\n",
      "Epoch 22/100\n",
      "165/165 [==============================] - 2s 9ms/step - loss: 3.1334 - accuracy: 0.1244 - val_loss: 3.1148 - val_accuracy: 0.1628\n",
      "Epoch 23/100\n",
      "165/165 [==============================] - 2s 9ms/step - loss: 3.1015 - accuracy: 0.1387 - val_loss: 3.0900 - val_accuracy: 0.1570\n",
      "Epoch 24/100\n",
      "165/165 [==============================] - 2s 9ms/step - loss: 3.0882 - accuracy: 0.1360 - val_loss: 3.0636 - val_accuracy: 0.1657\n",
      "Epoch 25/100\n",
      "165/165 [==============================] - 2s 9ms/step - loss: 3.0717 - accuracy: 0.1436 - val_loss: 3.0429 - val_accuracy: 0.1672\n",
      "Epoch 26/100\n",
      "165/165 [==============================] - 2s 9ms/step - loss: 3.0517 - accuracy: 0.1522 - val_loss: 3.0195 - val_accuracy: 0.1599\n",
      "Epoch 27/100\n",
      "165/165 [==============================] - 2s 9ms/step - loss: 3.0155 - accuracy: 0.1592 - val_loss: 2.9876 - val_accuracy: 0.1831\n",
      "Epoch 28/100\n",
      "165/165 [==============================] - 2s 9ms/step - loss: 3.0007 - accuracy: 0.1690 - val_loss: 2.9687 - val_accuracy: 0.1831\n",
      "Epoch 29/100\n",
      "165/165 [==============================] - 2s 9ms/step - loss: 2.9712 - accuracy: 0.1714 - val_loss: 2.9416 - val_accuracy: 0.1846\n",
      "Epoch 30/100\n",
      "165/165 [==============================] - 2s 9ms/step - loss: 2.9567 - accuracy: 0.1739 - val_loss: 2.9155 - val_accuracy: 0.1904\n",
      "Epoch 31/100\n",
      "165/165 [==============================] - 2s 9ms/step - loss: 2.9353 - accuracy: 0.1733 - val_loss: 2.8895 - val_accuracy: 0.1904\n",
      "Epoch 32/100\n",
      "165/165 [==============================] - 2s 9ms/step - loss: 2.9083 - accuracy: 0.1808 - val_loss: 2.8605 - val_accuracy: 0.1977\n",
      "Epoch 33/100\n",
      "165/165 [==============================] - 2s 9ms/step - loss: 2.8865 - accuracy: 0.1844 - val_loss: 2.8385 - val_accuracy: 0.2049\n",
      "Epoch 34/100\n",
      "165/165 [==============================] - 2s 9ms/step - loss: 2.8619 - accuracy: 0.1970 - val_loss: 2.8114 - val_accuracy: 0.2122\n",
      "Epoch 35/100\n",
      "165/165 [==============================] - 2s 9ms/step - loss: 2.8285 - accuracy: 0.1996 - val_loss: 2.7853 - val_accuracy: 0.2224\n",
      "Epoch 36/100\n",
      "165/165 [==============================] - 2s 9ms/step - loss: 2.8225 - accuracy: 0.1954 - val_loss: 2.7575 - val_accuracy: 0.2238\n",
      "Epoch 37/100\n",
      "165/165 [==============================] - 2s 9ms/step - loss: 2.7975 - accuracy: 0.2023 - val_loss: 2.7362 - val_accuracy: 0.2340\n",
      "Epoch 38/100\n",
      "165/165 [==============================] - 2s 9ms/step - loss: 2.7791 - accuracy: 0.2103 - val_loss: 2.7066 - val_accuracy: 0.2253\n",
      "Epoch 39/100\n",
      "165/165 [==============================] - 2s 9ms/step - loss: 2.7549 - accuracy: 0.2099 - val_loss: 2.6883 - val_accuracy: 0.2326\n",
      "Epoch 40/100\n",
      "165/165 [==============================] - 2s 9ms/step - loss: 2.7447 - accuracy: 0.2263 - val_loss: 2.6651 - val_accuracy: 0.2456\n",
      "Epoch 41/100\n",
      "165/165 [==============================] - 2s 10ms/step - loss: 2.7060 - accuracy: 0.2282 - val_loss: 2.6439 - val_accuracy: 0.2616\n",
      "Epoch 42/100\n",
      "165/165 [==============================] - 2s 10ms/step - loss: 2.7003 - accuracy: 0.2362 - val_loss: 2.6207 - val_accuracy: 0.2689\n",
      "Epoch 43/100\n",
      "165/165 [==============================] - 2s 9ms/step - loss: 2.6868 - accuracy: 0.2404 - val_loss: 2.5987 - val_accuracy: 0.2500\n",
      "Epoch 44/100\n",
      "165/165 [==============================] - 2s 9ms/step - loss: 2.6492 - accuracy: 0.2415 - val_loss: 2.5785 - val_accuracy: 0.2573\n",
      "Epoch 45/100\n",
      "165/165 [==============================] - 2s 9ms/step - loss: 2.6551 - accuracy: 0.2368 - val_loss: 2.5541 - val_accuracy: 0.2733\n",
      "Epoch 46/100\n",
      "165/165 [==============================] - 2s 9ms/step - loss: 2.6291 - accuracy: 0.2430 - val_loss: 2.5381 - val_accuracy: 0.2703\n",
      "Epoch 47/100\n",
      "165/165 [==============================] - 2s 9ms/step - loss: 2.5980 - accuracy: 0.2531 - val_loss: 2.5108 - val_accuracy: 0.2791\n",
      "Epoch 48/100\n",
      "165/165 [==============================] - 2s 9ms/step - loss: 2.5746 - accuracy: 0.2570 - val_loss: 2.4906 - val_accuracy: 0.2660\n",
      "Epoch 49/100\n",
      "165/165 [==============================] - 2s 9ms/step - loss: 2.5541 - accuracy: 0.2619 - val_loss: 2.4705 - val_accuracy: 0.2645\n",
      "Epoch 50/100\n",
      "165/165 [==============================] - 2s 9ms/step - loss: 2.5477 - accuracy: 0.2642 - val_loss: 2.4485 - val_accuracy: 0.2791\n",
      "Epoch 51/100\n",
      "165/165 [==============================] - 2s 9ms/step - loss: 2.5294 - accuracy: 0.2642 - val_loss: 2.4313 - val_accuracy: 0.2892\n",
      "Epoch 52/100\n",
      "165/165 [==============================] - 2s 9ms/step - loss: 2.5070 - accuracy: 0.2762 - val_loss: 2.4020 - val_accuracy: 0.3140\n",
      "Epoch 53/100\n",
      "165/165 [==============================] - 2s 9ms/step - loss: 2.4818 - accuracy: 0.2859 - val_loss: 2.3880 - val_accuracy: 0.3154\n",
      "Epoch 54/100\n",
      "165/165 [==============================] - 2s 9ms/step - loss: 2.4833 - accuracy: 0.2842 - val_loss: 2.3667 - val_accuracy: 0.3169\n",
      "Epoch 55/100\n",
      "165/165 [==============================] - 2s 9ms/step - loss: 2.4425 - accuracy: 0.2979 - val_loss: 2.3631 - val_accuracy: 0.3096\n",
      "Epoch 56/100\n",
      "165/165 [==============================] - 2s 9ms/step - loss: 2.4304 - accuracy: 0.2987 - val_loss: 2.3380 - val_accuracy: 0.3241\n",
      "Epoch 57/100\n",
      "165/165 [==============================] - 2s 9ms/step - loss: 2.4164 - accuracy: 0.2985 - val_loss: 2.3077 - val_accuracy: 0.3328\n"
     ]
    },
    {
     "name": "stdout",
     "output_type": "stream",
     "text": [
      "Epoch 58/100\n",
      "165/165 [==============================] - 2s 9ms/step - loss: 2.4031 - accuracy: 0.3070 - val_loss: 2.2973 - val_accuracy: 0.3430\n",
      "Epoch 59/100\n",
      "165/165 [==============================] - 2s 9ms/step - loss: 2.3981 - accuracy: 0.3019 - val_loss: 2.2751 - val_accuracy: 0.3474\n",
      "Epoch 60/100\n",
      "165/165 [==============================] - 2s 10ms/step - loss: 2.3625 - accuracy: 0.3107 - val_loss: 2.2527 - val_accuracy: 0.3459\n",
      "Epoch 61/100\n",
      "165/165 [==============================] - 2s 9ms/step - loss: 2.3465 - accuracy: 0.3189 - val_loss: 2.2323 - val_accuracy: 0.3648\n",
      "Epoch 62/100\n",
      "165/165 [==============================] - 2s 9ms/step - loss: 2.3196 - accuracy: 0.3166 - val_loss: 2.2124 - val_accuracy: 0.3808\n",
      "Epoch 63/100\n",
      "165/165 [==============================] - 2s 9ms/step - loss: 2.3184 - accuracy: 0.3183 - val_loss: 2.1953 - val_accuracy: 0.3794\n",
      "Epoch 64/100\n",
      "165/165 [==============================] - 2s 9ms/step - loss: 2.3010 - accuracy: 0.3272 - val_loss: 2.1744 - val_accuracy: 0.3779\n",
      "Epoch 65/100\n",
      "165/165 [==============================] - 2s 9ms/step - loss: 2.2685 - accuracy: 0.3389 - val_loss: 2.1563 - val_accuracy: 0.3910\n",
      "Epoch 66/100\n",
      "165/165 [==============================] - 2s 9ms/step - loss: 2.2569 - accuracy: 0.3373 - val_loss: 2.1507 - val_accuracy: 0.3823\n",
      "Epoch 67/100\n",
      "165/165 [==============================] - 2s 9ms/step - loss: 2.2372 - accuracy: 0.3457 - val_loss: 2.1168 - val_accuracy: 0.4215\n",
      "Epoch 68/100\n",
      "165/165 [==============================] - 2s 9ms/step - loss: 2.2159 - accuracy: 0.3554 - val_loss: 2.1038 - val_accuracy: 0.4026\n",
      "Epoch 69/100\n",
      "165/165 [==============================] - 1s 9ms/step - loss: 2.2085 - accuracy: 0.3451 - val_loss: 2.0823 - val_accuracy: 0.4099\n",
      "Epoch 70/100\n",
      "165/165 [==============================] - 2s 9ms/step - loss: 2.1889 - accuracy: 0.3533 - val_loss: 2.0677 - val_accuracy: 0.4201\n",
      "Epoch 71/100\n",
      "165/165 [==============================] - 2s 9ms/step - loss: 2.1534 - accuracy: 0.3667 - val_loss: 2.0483 - val_accuracy: 0.4259\n",
      "Epoch 72/100\n",
      "165/165 [==============================] - 2s 9ms/step - loss: 2.1473 - accuracy: 0.3707 - val_loss: 2.0455 - val_accuracy: 0.4317\n",
      "Epoch 73/100\n",
      "165/165 [==============================] - 2s 9ms/step - loss: 2.1271 - accuracy: 0.3760 - val_loss: 2.0090 - val_accuracy: 0.4491\n",
      "Epoch 74/100\n",
      "165/165 [==============================] - 2s 9ms/step - loss: 2.1097 - accuracy: 0.3846 - val_loss: 2.0084 - val_accuracy: 0.4419\n",
      "Epoch 75/100\n",
      "165/165 [==============================] - 2s 9ms/step - loss: 2.0979 - accuracy: 0.3810 - val_loss: 1.9695 - val_accuracy: 0.4462\n",
      "Epoch 76/100\n",
      "165/165 [==============================] - 2s 9ms/step - loss: 2.0837 - accuracy: 0.3920 - val_loss: 1.9602 - val_accuracy: 0.4404\n",
      "Epoch 77/100\n",
      "165/165 [==============================] - 2s 9ms/step - loss: 2.0604 - accuracy: 0.3931 - val_loss: 1.9367 - val_accuracy: 0.4651\n",
      "Epoch 78/100\n",
      "165/165 [==============================] - 2s 9ms/step - loss: 2.0515 - accuracy: 0.3945 - val_loss: 1.9237 - val_accuracy: 0.4724\n",
      "Epoch 79/100\n",
      "165/165 [==============================] - 2s 9ms/step - loss: 2.0258 - accuracy: 0.4076 - val_loss: 1.9103 - val_accuracy: 0.4608\n",
      "Epoch 80/100\n",
      "165/165 [==============================] - 2s 9ms/step - loss: 2.0255 - accuracy: 0.4030 - val_loss: 1.8929 - val_accuracy: 0.4666\n",
      "Epoch 81/100\n",
      "165/165 [==============================] - 2s 9ms/step - loss: 1.9908 - accuracy: 0.4101 - val_loss: 1.8716 - val_accuracy: 0.4724\n",
      "Epoch 82/100\n",
      "165/165 [==============================] - 2s 9ms/step - loss: 1.9829 - accuracy: 0.4072 - val_loss: 1.8541 - val_accuracy: 0.4855\n",
      "Epoch 83/100\n",
      "165/165 [==============================] - 2s 9ms/step - loss: 1.9497 - accuracy: 0.4274 - val_loss: 1.8482 - val_accuracy: 0.4898\n",
      "Epoch 84/100\n",
      "165/165 [==============================] - 2s 9ms/step - loss: 1.9505 - accuracy: 0.4270 - val_loss: 1.8210 - val_accuracy: 0.4782\n",
      "Epoch 85/100\n",
      "165/165 [==============================] - 2s 9ms/step - loss: 1.9360 - accuracy: 0.4314 - val_loss: 1.8032 - val_accuracy: 0.4884\n",
      "Epoch 86/100\n",
      "165/165 [==============================] - 2s 9ms/step - loss: 1.9331 - accuracy: 0.4343 - val_loss: 1.7904 - val_accuracy: 0.5015\n",
      "Epoch 87/100\n",
      "165/165 [==============================] - 2s 9ms/step - loss: 1.8992 - accuracy: 0.4434 - val_loss: 1.7907 - val_accuracy: 0.5029\n",
      "Epoch 88/100\n",
      "165/165 [==============================] - 2s 9ms/step - loss: 1.8837 - accuracy: 0.4448 - val_loss: 1.7590 - val_accuracy: 0.4956\n",
      "Epoch 89/100\n",
      "165/165 [==============================] - 2s 9ms/step - loss: 1.8689 - accuracy: 0.4442 - val_loss: 1.7392 - val_accuracy: 0.5174\n",
      "Epoch 90/100\n",
      "165/165 [==============================] - 1s 9ms/step - loss: 1.8456 - accuracy: 0.4528 - val_loss: 1.7265 - val_accuracy: 0.5131\n",
      "Epoch 91/100\n",
      "165/165 [==============================] - 1s 9ms/step - loss: 1.8341 - accuracy: 0.4535 - val_loss: 1.7133 - val_accuracy: 0.5174\n",
      "Epoch 92/100\n",
      "165/165 [==============================] - 2s 9ms/step - loss: 1.8301 - accuracy: 0.4476 - val_loss: 1.7055 - val_accuracy: 0.5262\n",
      "Epoch 93/100\n",
      "165/165 [==============================] - 2s 9ms/step - loss: 1.8093 - accuracy: 0.4726 - val_loss: 1.6949 - val_accuracy: 0.5247\n",
      "Epoch 94/100\n",
      "165/165 [==============================] - 2s 9ms/step - loss: 1.7800 - accuracy: 0.4684 - val_loss: 1.6745 - val_accuracy: 0.5451\n",
      "Epoch 95/100\n",
      "165/165 [==============================] - 2s 9ms/step - loss: 1.7816 - accuracy: 0.4640 - val_loss: 1.6717 - val_accuracy: 0.5392\n",
      "Epoch 96/100\n",
      "165/165 [==============================] - 2s 9ms/step - loss: 1.7677 - accuracy: 0.4684 - val_loss: 1.6800 - val_accuracy: 0.5407\n",
      "Epoch 97/100\n",
      "165/165 [==============================] - 2s 9ms/step - loss: 1.7420 - accuracy: 0.4768 - val_loss: 1.6277 - val_accuracy: 0.5480\n",
      "Epoch 98/100\n",
      "165/165 [==============================] - 2s 9ms/step - loss: 1.7457 - accuracy: 0.4808 - val_loss: 1.6251 - val_accuracy: 0.5480\n",
      "Epoch 99/100\n",
      "165/165 [==============================] - 2s 9ms/step - loss: 1.7211 - accuracy: 0.4869 - val_loss: 1.6205 - val_accuracy: 0.5407\n",
      "Epoch 100/100\n",
      "165/165 [==============================] - 2s 9ms/step - loss: 1.6918 - accuracy: 0.4985 - val_loss: 1.6087 - val_accuracy: 0.5552\n"
     ]
    }
   ],
   "source": [
    "print(\"Training....\")\n",
    "acc = model.fit(img_train, lbl_train, epochs=epochs, batch_size=batch, validation_data=(img_test, lbl_test))"
   ]
  },
  {
   "cell_type": "code",
   "execution_count": 17,
   "id": "3f7111a0",
   "metadata": {},
   "outputs": [
    {
     "name": "stdout",
     "output_type": "stream",
     "text": [
      "22/22 [==============================] - 0s 3ms/step - loss: 1.6087 - accuracy: 0.5552\n"
     ]
    }
   ],
   "source": [
    "score = model.evaluate(img_test, lbl_test)"
   ]
  },
  {
   "cell_type": "code",
   "execution_count": 18,
   "id": "36b1b3b1",
   "metadata": {},
   "outputs": [
    {
     "data": {
      "text/plain": [
       "<Figure size 576x360 with 0 Axes>"
      ]
     },
     "metadata": {},
     "output_type": "display_data"
    },
    {
     "data": {
      "image/png": "[encoded data removed]",
      "text/plain": [
       "<Figure size 432x288 with 1 Axes>"
      ]
     },
     "metadata": {
      "needs_background": "light"
     },
     "output_type": "display_data"
    }
   ],
   "source": [
    "plt.figure(figsize=(8,5))\n",
    "pd.DataFrame(acc.history).plot()\n",
    "plt.show()"
   ]
  },
  {
   "cell_type": "code",
   "execution_count": 19,
   "id": "958c90a9",
   "metadata": {
    "scrolled": false
   },
   "outputs": [
    {
     "name": "stdout",
     "output_type": "stream",
     "text": [
      "Model: \"sequential\"\n",
      "_________________________________________________________________\n",
      " Layer (type)                Output Shape              Param #   \n",
      "=================================================================\n",
      " conv2d (Conv2D)             (None, 46, 46, 64)        1664      \n",
      "                                                                 \n",
      " max_pooling2d (MaxPooling2D  (None, 23, 23, 64)       0         \n",
      " )                                                               \n",
      "                                                                 \n",
      " dropout (Dropout)           (None, 23, 23, 64)        0         \n",
      "                                                                 \n",
      " conv2d_1 (Conv2D)           (None, 19, 19, 128)       204928    \n",
      "                                                                 \n",
      " max_pooling2d_1 (MaxPooling  (None, 9, 9, 128)        0         \n",
      " 2D)                                                             \n",
      "                                                                 \n",
      " dropout_1 (Dropout)         (None, 9, 9, 128)         0         \n",
      "                                                                 \n",
      " conv2d_2 (Conv2D)           (None, 5, 5, 256)         819456    \n",
      "                                                                 \n",
      " max_pooling2d_2 (MaxPooling  (None, 2, 2, 256)        0         \n",
      " 2D)                                                             \n",
      "                                                                 \n",
      " dropout_2 (Dropout)         (None, 2, 2, 256)         0         \n",
      "                                                                 \n",
      " flatten (Flatten)           (None, 1024)              0         \n",
      "                                                                 \n",
      " dense (Dense)               (None, 128)               131200    \n",
      "                                                                 \n",
      " dense_1 (Dense)             (None, 256)               33024     \n",
      "                                                                 \n",
      " dense_2 (Dense)             (None, 31)                7967      \n",
      "                                                                 \n",
      "=================================================================\n",
      "Total params: 1,198,239\n",
      "Trainable params: 1,198,239\n",
      "Non-trainable params: 0\n",
      "_________________________________________________________________\n",
      "None\n",
      "Loss :  1.608677864074707\n",
      "Accuracy : 0.555232584476471\n"
     ]
    }
   ],
   "source": [
    "print(model.summary()) \n",
    "print('Loss : ', score[0])\n",
    "print('Accuracy :',score[1])"
   ]
  },
  {
   "cell_type": "code",
   "execution_count": 20,
   "id": "6935283f",
   "metadata": {},
   "outputs": [
    {
     "name": "stdout",
     "output_type": "stream",
     "text": [
      "Model saved\n"
     ]
    }
   ],
   "source": [
    "model.save('../model.h5')\n",
    "print(\"Model saved\")"
   ]
  },
  {
   "cell_type": "code",
   "execution_count": null,
   "id": "26f9a198",
   "metadata": {},
   "outputs": [],
   "source": []
  }
 ],
 "metadata": {
  "kernelspec": {
   "display_name": "Python 3 (ipykernel)",
   "language": "python",
   "name": "python3"
  },
  "language_info": {
   "codemirror_mode": {
    "name": "ipython",
    "version": 3
   },
   "file_extension": ".py",
   "mimetype": "text/x-python",
   "name": "python",
   "nbconvert_exporter": "python",
   "pygments_lexer": "ipython3",
   "version": "3.9.12"
  },
  "vscode": {
   "interpreter": {
    "hash": "429daceb1b7ca5b0fd445a5943d4d38a9d461d446f33489cc90d4dffb75cd92c"
   }
  }
 },
 "nbformat": 4,
 "nbformat_minor": 5
}
