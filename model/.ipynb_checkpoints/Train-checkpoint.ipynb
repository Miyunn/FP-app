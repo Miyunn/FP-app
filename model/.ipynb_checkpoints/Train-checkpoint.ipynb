{
 "cells": [
  {
   "cell_type": "code",
   "execution_count": 1,
   "id": "3187014a",
   "metadata": {},
   "outputs": [],
   "source": [
    "import tensorflow.keras\n",
    "import pandas as pd\n",
    "from tensorflow.keras.models import Sequential\n",
    "from tensorflow.keras.layers import Conv2D, MaxPool2D, Flatten, Dense, Dropout\n",
    "from tensorflow.keras.utils import to_categorical\n",
    "import matplotlib.pyplot as plt\n",
    "import numpy as np\n",
    "import cv2\n",
    "import os"
   ]
  },
  {
   "cell_type": "code",
   "execution_count": 2,
   "id": "dec0fbb7",
   "metadata": {},
   "outputs": [
    {
     "name": "stdout",
     "output_type": "stream",
     "text": [
      "Importing data from directory...\n"
     ]
    }
   ],
   "source": [
    "print(\"Importing data from directory...\")\n",
    "\n",
    "path = \"dataset/train/\"\n",
    "path_test = \"dataset/test/\"\n",
    "files = os.listdir(path)[:31]\n",
    "files_test = os.listdir(path_test)[:31]\n",
    "\n",
    "classes={'1':0, '2':1, '3':2, '4':3, '5':4, '6':5, '7':6, '8':7, '9':8, '10':9, '11':10, '12':11, '25':12, '38':13, '51':14,\n",
    "        '64':15, '77':16, '90':17, '93':18, '105':19, '120':20, '134':21, '149':22, '164':23, '179':24, '190':25, '198':26,\n",
    "        '208':27, '250':28, '264':29, '274':30 }\n"
   ]
  },
  {
   "cell_type": "code",
   "execution_count": 3,
   "id": "fb5ea3bb",
   "metadata": {},
   "outputs": [
    {
     "name": "stdout",
     "output_type": "stream",
     "text": [
      "Labeling train data...\n"
     ]
    }
   ],
   "source": [
    "print(\"Labeling train data...\")\n",
    "img_train=[]\n",
    "lbl_train=[]\n",
    "\n",
    "for cl in classes:\n",
    "    pth = path+cl\n",
    "    for img_name in os.listdir(pth):\n",
    "        img = cv2.imread(pth+\"/\"+img_name,0)\n",
    "        img_train.append(img)\n",
    "        lbl_train.append(classes[cl])"
   ]
  },
  {
   "cell_type": "code",
   "execution_count": 4,
   "id": "17926f9a",
   "metadata": {},
   "outputs": [
    {
     "name": "stdout",
     "output_type": "stream",
     "text": [
      "Labeling test data...\n"
     ]
    }
   ],
   "source": [
    "print(\"Labeling test data...\")\n",
    "img_test=[]\n",
    "lbl_test=[]\n",
    "\n",
    "for cl in classes:\n",
    "    pth = path_test+cl\n",
    "    for img_name in os.listdir(pth):\n",
    "        img = cv2.imread(pth+\"/\"+img_name,0)\n",
    "        img_test.append(img)\n",
    "        lbl_test.append(classes[cl])"
   ]
  },
  {
   "cell_type": "code",
   "execution_count": 5,
   "id": "392af76c",
   "metadata": {},
   "outputs": [
    {
     "name": "stdout",
     "output_type": "stream",
     "text": [
      "converting to np array\n",
      "5250\n"
     ]
    }
   ],
   "source": [
    "print(\"converting to np array\")\n",
    "\n",
    "img_train = np.array(img_train)\n",
    "lbl_train = np.array(lbl_train)\n",
    "\n",
    "img_test = np.array(img_test)\n",
    "lbl_test = np.array(lbl_test)\n",
    "\n",
    "save_size = lbl_train.size\n",
    "\n",
    "print(save_size)"
   ]
  },
  {
   "cell_type": "code",
   "execution_count": 6,
   "id": "3cc3280e",
   "metadata": {},
   "outputs": [
    {
     "name": "stdout",
     "output_type": "stream",
     "text": [
      "Saved for updating\n"
     ]
    }
   ],
   "source": [
    "np.save('../data/images', img_train)\n",
    "np.save('../data/labels', lbl_train)\n",
    "np.save('../data/size', save_size)\n",
    "print(\"Saved for updating\")"
   ]
  },
  {
   "cell_type": "code",
   "execution_count": 7,
   "id": "457c0521",
   "metadata": {},
   "outputs": [
    {
     "name": "stdout",
     "output_type": "stream",
     "text": [
      "0\n"
     ]
    },
    {
     "data": {
      "image/png": "[encoded data removed]",
      "text/plain": [
       "<Figure size 432x288 with 1 Axes>"
      ]
     },
     "metadata": {
      "needs_background": "light"
     },
     "output_type": "display_data"
    }
   ],
   "source": [
    "plt.imshow(img_train[1], cmap='gray')\n",
    "print(lbl_train[1])"
   ]
  },
  {
   "cell_type": "code",
   "execution_count": 8,
   "id": "8eef341d",
   "metadata": {},
   "outputs": [
    {
     "name": "stdout",
     "output_type": "stream",
     "text": [
      "Preprocessing data for training....\n"
     ]
    }
   ],
   "source": [
    "print(\"Preprocessing data for training....\")"
   ]
  },
  {
   "cell_type": "code",
   "execution_count": 9,
   "id": "39b7403d",
   "metadata": {},
   "outputs": [],
   "source": [
    "img_train = img_train.reshape(img_train.shape[0], img_train.shape[1], img_train.shape[2], 1)\n",
    "img_test = img_test.reshape(img_test.shape[0], img_test.shape[1], img_test.shape[2], 1)"
   ]
  },
  {
   "cell_type": "code",
   "execution_count": 10,
   "id": "fc3cd634",
   "metadata": {},
   "outputs": [],
   "source": [
    "img_train = img_train / 255\n",
    "img_test = img_test / 255"
   ]
  },
  {
   "cell_type": "code",
   "execution_count": 11,
   "id": "328a45c7",
   "metadata": {},
   "outputs": [],
   "source": [
    "img_train = img_train.astype('float32')\n",
    "img_test = img_test.astype('float32')"
   ]
  },
  {
   "cell_type": "code",
   "execution_count": 12,
   "id": "f4b794df",
   "metadata": {},
   "outputs": [
    {
     "name": "stdout",
     "output_type": "stream",
     "text": [
      "Train shape (5250, 50, 50, 1)\n",
      "Test shape (688, 50, 50, 1)\n"
     ]
    }
   ],
   "source": [
    "print(\"Train shape\", img_train.shape)\n",
    "print(\"Test shape\", img_test.shape)"
   ]
  },
  {
   "cell_type": "code",
   "execution_count": 13,
   "id": "71889340",
   "metadata": {},
   "outputs": [
    {
     "name": "stdout",
     "output_type": "stream",
     "text": [
      "Epochs :  100\n",
      "Batch size :  32\n"
     ]
    }
   ],
   "source": [
    "epochs = 100\n",
    "batch = 32\n",
    "\n",
    "print(\"Epochs : \",epochs)\n",
    "print(\"Batch size : \",batch)"
   ]
  },
  {
   "cell_type": "code",
   "execution_count": 14,
   "id": "5ee57bb7",
   "metadata": {},
   "outputs": [],
   "source": [
    "model = Sequential()\n",
    "model.add(Conv2D(64, kernel_size=5, activation='relu'))\n",
    "model.add(MaxPool2D(pool_size=2))\n",
    "model.add(Dropout(0.3))\n",
    "model.add(Conv2D(128, kernel_size=5, activation='relu'))\n",
    "model.add(MaxPool2D(pool_size=2))\n",
    "model.add(Dropout(0.3))\n",
    "model.add(Conv2D(256, kernel_size=5, activation='relu'))\n",
    "model.add(MaxPool2D(pool_size=2))\n",
    "model.add(Dropout(0.3))\n",
    "model.add(Flatten())\n",
    "model.add(Dense(128, activation='relu'))\n",
    "model.add(Dense(256, activation='relu'))\n",
    "model.add(Dense(31, activation='softmax'))\n"
   ]
  },
  {
   "cell_type": "code",
   "execution_count": 15,
   "id": "4efa1f76",
   "metadata": {},
   "outputs": [],
   "source": [
    "model.compile(optimizer=tensorflow.keras.optimizers.RMSprop(learning_rate=0.001),\n",
    "             loss=tensorflow.keras.losses.sparse_categorical_crossentropy, metrics=['accuracy'])"
   ]
  },
  {
   "cell_type": "code",
   "execution_count": 16,
   "id": "2bc8b257",
   "metadata": {},
   "outputs": [
    {
     "name": "stdout",
     "output_type": "stream",
     "text": [
      "Training....\n",
      "Epoch 1/100\n",
      "165/165 [==============================] - 2s 10ms/step - loss: 3.4228 - accuracy: 0.0350 - val_loss: 3.3955 - val_accuracy: 0.0610\n",
      "Epoch 2/100\n",
      "165/165 [==============================] - 1s 9ms/step - loss: 3.2997 - accuracy: 0.0762 - val_loss: 3.1315 - val_accuracy: 0.1308\n",
      "Epoch 3/100\n",
      "165/165 [==============================] - 1s 9ms/step - loss: 2.9586 - accuracy: 0.1670 - val_loss: 2.6905 - val_accuracy: 0.2311\n",
      "Epoch 4/100\n",
      "165/165 [==============================] - 1s 9ms/step - loss: 2.5641 - accuracy: 0.2682 - val_loss: 2.3300 - val_accuracy: 0.3038\n",
      "Epoch 5/100\n",
      "165/165 [==============================] - 1s 9ms/step - loss: 2.2159 - accuracy: 0.3516 - val_loss: 2.0448 - val_accuracy: 0.4172\n",
      "Epoch 6/100\n",
      "165/165 [==============================] - 1s 9ms/step - loss: 1.9377 - accuracy: 0.4211 - val_loss: 1.6890 - val_accuracy: 0.5116\n",
      "Epoch 7/100\n",
      "165/165 [==============================] - 1s 9ms/step - loss: 1.6895 - accuracy: 0.4912 - val_loss: 1.5156 - val_accuracy: 0.5567\n",
      "Epoch 8/100\n",
      "165/165 [==============================] - 1s 9ms/step - loss: 1.4996 - accuracy: 0.5470 - val_loss: 1.2990 - val_accuracy: 0.6076\n",
      "Epoch 9/100\n",
      "165/165 [==============================] - 1s 9ms/step - loss: 1.3229 - accuracy: 0.5973 - val_loss: 1.1314 - val_accuracy: 0.6831\n",
      "Epoch 10/100\n",
      "165/165 [==============================] - 1s 9ms/step - loss: 1.2081 - accuracy: 0.6347 - val_loss: 1.0366 - val_accuracy: 0.7006\n",
      "Epoch 11/100\n",
      "165/165 [==============================] - 1s 9ms/step - loss: 1.0948 - accuracy: 0.6646 - val_loss: 0.9393 - val_accuracy: 0.7413\n",
      "Epoch 12/100\n",
      "165/165 [==============================] - 1s 9ms/step - loss: 0.9673 - accuracy: 0.7048 - val_loss: 0.8643 - val_accuracy: 0.7500\n",
      "Epoch 13/100\n",
      "165/165 [==============================] - 1s 9ms/step - loss: 0.9214 - accuracy: 0.7225 - val_loss: 0.7541 - val_accuracy: 0.8038\n",
      "Epoch 14/100\n",
      "165/165 [==============================] - 1s 9ms/step - loss: 0.8268 - accuracy: 0.7484 - val_loss: 0.6855 - val_accuracy: 0.8038\n",
      "Epoch 15/100\n",
      "165/165 [==============================] - 1s 9ms/step - loss: 0.7426 - accuracy: 0.7802 - val_loss: 0.6524 - val_accuracy: 0.8227\n",
      "Epoch 16/100\n",
      "165/165 [==============================] - 1s 9ms/step - loss: 0.6914 - accuracy: 0.7905 - val_loss: 0.6181 - val_accuracy: 0.8430\n",
      "Epoch 17/100\n",
      "165/165 [==============================] - 1s 9ms/step - loss: 0.6344 - accuracy: 0.8078 - val_loss: 0.5575 - val_accuracy: 0.8430\n",
      "Epoch 18/100\n",
      "165/165 [==============================] - 1s 9ms/step - loss: 0.5944 - accuracy: 0.8181 - val_loss: 0.5405 - val_accuracy: 0.8576\n",
      "Epoch 19/100\n",
      "165/165 [==============================] - 1s 9ms/step - loss: 0.5324 - accuracy: 0.8358 - val_loss: 0.5111 - val_accuracy: 0.8663\n",
      "Epoch 20/100\n",
      "165/165 [==============================] - 1s 9ms/step - loss: 0.5036 - accuracy: 0.8436 - val_loss: 0.4769 - val_accuracy: 0.8794\n",
      "Epoch 21/100\n",
      "165/165 [==============================] - 1s 9ms/step - loss: 0.4777 - accuracy: 0.8509 - val_loss: 0.4561 - val_accuracy: 0.8750\n",
      "Epoch 22/100\n",
      "165/165 [==============================] - 1s 9ms/step - loss: 0.4287 - accuracy: 0.8724 - val_loss: 0.4566 - val_accuracy: 0.8765\n",
      "Epoch 23/100\n",
      "165/165 [==============================] - 1s 9ms/step - loss: 0.3977 - accuracy: 0.8775 - val_loss: 0.4130 - val_accuracy: 0.8881\n",
      "Epoch 24/100\n",
      "165/165 [==============================] - 1s 9ms/step - loss: 0.3841 - accuracy: 0.8796 - val_loss: 0.4100 - val_accuracy: 0.8939\n",
      "Epoch 25/100\n",
      "165/165 [==============================] - 1s 9ms/step - loss: 0.3749 - accuracy: 0.8844 - val_loss: 0.4153 - val_accuracy: 0.8794\n",
      "Epoch 26/100\n",
      "165/165 [==============================] - 1s 9ms/step - loss: 0.3621 - accuracy: 0.8867 - val_loss: 0.3737 - val_accuracy: 0.8983\n",
      "Epoch 27/100\n",
      "165/165 [==============================] - 1s 9ms/step - loss: 0.3141 - accuracy: 0.9067 - val_loss: 0.3621 - val_accuracy: 0.9113\n",
      "Epoch 28/100\n",
      "165/165 [==============================] - 1s 9ms/step - loss: 0.2910 - accuracy: 0.9105 - val_loss: 0.3483 - val_accuracy: 0.9070\n",
      "Epoch 29/100\n",
      "165/165 [==============================] - 1s 9ms/step - loss: 0.2784 - accuracy: 0.9074 - val_loss: 0.3484 - val_accuracy: 0.9099\n",
      "Epoch 30/100\n",
      "165/165 [==============================] - 1s 9ms/step - loss: 0.2718 - accuracy: 0.9175 - val_loss: 0.3302 - val_accuracy: 0.9186\n",
      "Epoch 31/100\n",
      "165/165 [==============================] - 1s 9ms/step - loss: 0.2400 - accuracy: 0.9270 - val_loss: 0.3394 - val_accuracy: 0.9026\n",
      "Epoch 32/100\n",
      "165/165 [==============================] - 1s 9ms/step - loss: 0.2518 - accuracy: 0.9189 - val_loss: 0.3049 - val_accuracy: 0.9201\n",
      "Epoch 33/100\n",
      "165/165 [==============================] - 1s 9ms/step - loss: 0.2261 - accuracy: 0.9314 - val_loss: 0.3188 - val_accuracy: 0.9230\n",
      "Epoch 34/100\n",
      "165/165 [==============================] - 1s 9ms/step - loss: 0.2247 - accuracy: 0.9310 - val_loss: 0.3011 - val_accuracy: 0.9317\n",
      "Epoch 35/100\n",
      "165/165 [==============================] - 1s 9ms/step - loss: 0.1988 - accuracy: 0.9389 - val_loss: 0.3251 - val_accuracy: 0.9215\n",
      "Epoch 36/100\n",
      "165/165 [==============================] - 1s 9ms/step - loss: 0.1882 - accuracy: 0.9385 - val_loss: 0.3164 - val_accuracy: 0.9186\n",
      "Epoch 37/100\n",
      "165/165 [==============================] - 1s 9ms/step - loss: 0.1932 - accuracy: 0.9362 - val_loss: 0.2984 - val_accuracy: 0.9302\n",
      "Epoch 38/100\n",
      "165/165 [==============================] - 1s 9ms/step - loss: 0.1936 - accuracy: 0.9404 - val_loss: 0.2788 - val_accuracy: 0.9273\n",
      "Epoch 39/100\n",
      "165/165 [==============================] - 1s 9ms/step - loss: 0.1622 - accuracy: 0.9501 - val_loss: 0.2789 - val_accuracy: 0.9404\n",
      "Epoch 40/100\n",
      "165/165 [==============================] - 1s 9ms/step - loss: 0.1763 - accuracy: 0.9459 - val_loss: 0.2956 - val_accuracy: 0.9288\n",
      "Epoch 41/100\n",
      "165/165 [==============================] - 1s 9ms/step - loss: 0.1469 - accuracy: 0.9570 - val_loss: 0.2705 - val_accuracy: 0.9433\n",
      "Epoch 42/100\n",
      "165/165 [==============================] - 1s 9ms/step - loss: 0.1376 - accuracy: 0.9562 - val_loss: 0.3002 - val_accuracy: 0.9360\n",
      "Epoch 43/100\n",
      "165/165 [==============================] - 1s 9ms/step - loss: 0.1416 - accuracy: 0.9562 - val_loss: 0.2925 - val_accuracy: 0.9404\n",
      "Epoch 44/100\n",
      "165/165 [==============================] - 1s 9ms/step - loss: 0.1407 - accuracy: 0.9577 - val_loss: 0.3012 - val_accuracy: 0.9360\n",
      "Epoch 45/100\n",
      "165/165 [==============================] - 1s 9ms/step - loss: 0.1385 - accuracy: 0.9564 - val_loss: 0.2935 - val_accuracy: 0.9317\n",
      "Epoch 46/100\n",
      "165/165 [==============================] - 1s 9ms/step - loss: 0.1326 - accuracy: 0.9587 - val_loss: 0.2747 - val_accuracy: 0.9390\n",
      "Epoch 47/100\n",
      "165/165 [==============================] - 1s 9ms/step - loss: 0.1357 - accuracy: 0.9554 - val_loss: 0.2716 - val_accuracy: 0.9390\n",
      "Epoch 48/100\n",
      "165/165 [==============================] - 1s 9ms/step - loss: 0.1103 - accuracy: 0.9667 - val_loss: 0.2513 - val_accuracy: 0.9462\n",
      "Epoch 49/100\n",
      "165/165 [==============================] - 1s 9ms/step - loss: 0.1102 - accuracy: 0.9661 - val_loss: 0.2673 - val_accuracy: 0.9419\n",
      "Epoch 50/100\n",
      "165/165 [==============================] - 1s 9ms/step - loss: 0.0981 - accuracy: 0.9741 - val_loss: 0.2450 - val_accuracy: 0.9491\n",
      "Epoch 51/100\n",
      "165/165 [==============================] - 1s 9ms/step - loss: 0.1025 - accuracy: 0.9682 - val_loss: 0.2541 - val_accuracy: 0.9477\n",
      "Epoch 52/100\n",
      "165/165 [==============================] - 1s 9ms/step - loss: 0.1004 - accuracy: 0.9716 - val_loss: 0.2565 - val_accuracy: 0.9448\n",
      "Epoch 53/100\n",
      "165/165 [==============================] - 1s 9ms/step - loss: 0.1407 - accuracy: 0.9589 - val_loss: 0.2451 - val_accuracy: 0.9506\n",
      "Epoch 54/100\n",
      "165/165 [==============================] - 1s 9ms/step - loss: 0.0805 - accuracy: 0.9775 - val_loss: 0.2592 - val_accuracy: 0.9520\n",
      "Epoch 55/100\n",
      "165/165 [==============================] - 1s 9ms/step - loss: 0.0838 - accuracy: 0.9752 - val_loss: 0.2671 - val_accuracy: 0.9448\n",
      "Epoch 56/100\n",
      "165/165 [==============================] - 1s 9ms/step - loss: 0.0808 - accuracy: 0.9771 - val_loss: 0.2599 - val_accuracy: 0.9419\n",
      "Epoch 57/100\n",
      "165/165 [==============================] - 1s 9ms/step - loss: 0.0797 - accuracy: 0.9756 - val_loss: 0.2512 - val_accuracy: 0.9520\n"
     ]
    },
    {
     "name": "stdout",
     "output_type": "stream",
     "text": [
      "Epoch 58/100\n",
      "165/165 [==============================] - 1s 9ms/step - loss: 0.0762 - accuracy: 0.9785 - val_loss: 0.3000 - val_accuracy: 0.9419\n",
      "Epoch 59/100\n",
      "165/165 [==============================] - 1s 9ms/step - loss: 0.0775 - accuracy: 0.9752 - val_loss: 0.2964 - val_accuracy: 0.9491\n",
      "Epoch 60/100\n",
      "165/165 [==============================] - 1s 9ms/step - loss: 0.0715 - accuracy: 0.9792 - val_loss: 0.2970 - val_accuracy: 0.9462\n",
      "Epoch 61/100\n",
      "165/165 [==============================] - 1s 9ms/step - loss: 0.0745 - accuracy: 0.9779 - val_loss: 0.2321 - val_accuracy: 0.9564\n",
      "Epoch 62/100\n",
      "165/165 [==============================] - 1s 9ms/step - loss: 0.0735 - accuracy: 0.9787 - val_loss: 0.2575 - val_accuracy: 0.9506\n",
      "Epoch 63/100\n",
      "165/165 [==============================] - 1s 9ms/step - loss: 0.0689 - accuracy: 0.9798 - val_loss: 0.2360 - val_accuracy: 0.9549\n",
      "Epoch 64/100\n",
      "165/165 [==============================] - 1s 9ms/step - loss: 0.0647 - accuracy: 0.9792 - val_loss: 0.2580 - val_accuracy: 0.9506\n",
      "Epoch 65/100\n",
      "165/165 [==============================] - 1s 9ms/step - loss: 0.0659 - accuracy: 0.9810 - val_loss: 0.2702 - val_accuracy: 0.9433\n",
      "Epoch 66/100\n",
      "165/165 [==============================] - 1s 9ms/step - loss: 0.0631 - accuracy: 0.9792 - val_loss: 0.2511 - val_accuracy: 0.9520\n",
      "Epoch 67/100\n",
      "165/165 [==============================] - 1s 9ms/step - loss: 0.0572 - accuracy: 0.9811 - val_loss: 0.2823 - val_accuracy: 0.9462\n",
      "Epoch 68/100\n",
      "165/165 [==============================] - 1s 9ms/step - loss: 0.0589 - accuracy: 0.9823 - val_loss: 0.2768 - val_accuracy: 0.9549\n",
      "Epoch 69/100\n",
      "165/165 [==============================] - 1s 9ms/step - loss: 0.0577 - accuracy: 0.9830 - val_loss: 0.2848 - val_accuracy: 0.9535\n",
      "Epoch 70/100\n",
      "165/165 [==============================] - 1s 9ms/step - loss: 0.0623 - accuracy: 0.9817 - val_loss: 0.2709 - val_accuracy: 0.9520\n",
      "Epoch 71/100\n",
      "165/165 [==============================] - 1s 9ms/step - loss: 0.0661 - accuracy: 0.9792 - val_loss: 0.2722 - val_accuracy: 0.9491\n",
      "Epoch 72/100\n",
      "165/165 [==============================] - 1s 9ms/step - loss: 0.0580 - accuracy: 0.9819 - val_loss: 0.3051 - val_accuracy: 0.9462\n",
      "Epoch 73/100\n",
      "165/165 [==============================] - 1s 9ms/step - loss: 0.0463 - accuracy: 0.9853 - val_loss: 0.2980 - val_accuracy: 0.9506\n",
      "Epoch 74/100\n",
      "165/165 [==============================] - 1s 9ms/step - loss: 0.0488 - accuracy: 0.9867 - val_loss: 0.2620 - val_accuracy: 0.9477\n",
      "Epoch 75/100\n",
      "165/165 [==============================] - 1s 9ms/step - loss: 0.0501 - accuracy: 0.9838 - val_loss: 0.3205 - val_accuracy: 0.9477\n",
      "Epoch 76/100\n",
      "165/165 [==============================] - 1s 9ms/step - loss: 0.0409 - accuracy: 0.9867 - val_loss: 0.2750 - val_accuracy: 0.9578\n",
      "Epoch 77/100\n",
      "165/165 [==============================] - 2s 9ms/step - loss: 0.0496 - accuracy: 0.9825 - val_loss: 0.2579 - val_accuracy: 0.9564\n",
      "Epoch 78/100\n",
      "165/165 [==============================] - 1s 9ms/step - loss: 0.0505 - accuracy: 0.9844 - val_loss: 0.2892 - val_accuracy: 0.9491\n",
      "Epoch 79/100\n",
      "165/165 [==============================] - 1s 9ms/step - loss: 0.0501 - accuracy: 0.9850 - val_loss: 0.3009 - val_accuracy: 0.9506\n",
      "Epoch 80/100\n",
      "165/165 [==============================] - 1s 9ms/step - loss: 0.0624 - accuracy: 0.9829 - val_loss: 0.3034 - val_accuracy: 0.9564\n",
      "Epoch 81/100\n",
      "165/165 [==============================] - 2s 9ms/step - loss: 0.0478 - accuracy: 0.9848 - val_loss: 0.3237 - val_accuracy: 0.9433\n",
      "Epoch 82/100\n",
      "165/165 [==============================] - 1s 9ms/step - loss: 0.0439 - accuracy: 0.9888 - val_loss: 0.2847 - val_accuracy: 0.9506\n",
      "Epoch 83/100\n",
      "165/165 [==============================] - 1s 9ms/step - loss: 0.0398 - accuracy: 0.9890 - val_loss: 0.2871 - val_accuracy: 0.9506\n",
      "Epoch 84/100\n",
      "165/165 [==============================] - 1s 9ms/step - loss: 0.0427 - accuracy: 0.9890 - val_loss: 0.3202 - val_accuracy: 0.9448\n",
      "Epoch 85/100\n",
      "165/165 [==============================] - 1s 9ms/step - loss: 0.0436 - accuracy: 0.9870 - val_loss: 0.3073 - val_accuracy: 0.9506\n",
      "Epoch 86/100\n",
      "165/165 [==============================] - 1s 9ms/step - loss: 0.0355 - accuracy: 0.9888 - val_loss: 0.3008 - val_accuracy: 0.9535\n",
      "Epoch 87/100\n",
      "165/165 [==============================] - 1s 9ms/step - loss: 0.0422 - accuracy: 0.9890 - val_loss: 0.3288 - val_accuracy: 0.9535\n",
      "Epoch 88/100\n",
      "165/165 [==============================] - 1s 9ms/step - loss: 0.0406 - accuracy: 0.9872 - val_loss: 0.3037 - val_accuracy: 0.9491\n",
      "Epoch 89/100\n",
      "165/165 [==============================] - 1s 9ms/step - loss: 0.0363 - accuracy: 0.9895 - val_loss: 0.3270 - val_accuracy: 0.9520\n",
      "Epoch 90/100\n",
      "165/165 [==============================] - 1s 9ms/step - loss: 0.0449 - accuracy: 0.9861 - val_loss: 0.2841 - val_accuracy: 0.9506\n",
      "Epoch 91/100\n",
      "165/165 [==============================] - 2s 9ms/step - loss: 0.0358 - accuracy: 0.9895 - val_loss: 0.3070 - val_accuracy: 0.9506\n",
      "Epoch 92/100\n",
      "165/165 [==============================] - 2s 9ms/step - loss: 0.0503 - accuracy: 0.9840 - val_loss: 0.2805 - val_accuracy: 0.9549\n",
      "Epoch 93/100\n",
      "165/165 [==============================] - 1s 9ms/step - loss: 0.0365 - accuracy: 0.9903 - val_loss: 0.3102 - val_accuracy: 0.9535\n",
      "Epoch 94/100\n",
      "165/165 [==============================] - 1s 9ms/step - loss: 0.0343 - accuracy: 0.9890 - val_loss: 0.3340 - val_accuracy: 0.9390\n",
      "Epoch 95/100\n",
      "165/165 [==============================] - 1s 9ms/step - loss: 0.0369 - accuracy: 0.9891 - val_loss: 0.2727 - val_accuracy: 0.9564\n",
      "Epoch 96/100\n",
      "165/165 [==============================] - 1s 9ms/step - loss: 0.0287 - accuracy: 0.9920 - val_loss: 0.3149 - val_accuracy: 0.9549\n",
      "Epoch 97/100\n",
      "165/165 [==============================] - 1s 9ms/step - loss: 0.0263 - accuracy: 0.9916 - val_loss: 0.3222 - val_accuracy: 0.9535\n",
      "Epoch 98/100\n",
      "165/165 [==============================] - 1s 9ms/step - loss: 0.0263 - accuracy: 0.9916 - val_loss: 0.3391 - val_accuracy: 0.9520\n",
      "Epoch 99/100\n",
      "165/165 [==============================] - 1s 9ms/step - loss: 0.0548 - accuracy: 0.9834 - val_loss: 0.3211 - val_accuracy: 0.9520\n",
      "Epoch 100/100\n",
      "165/165 [==============================] - 1s 9ms/step - loss: 0.0371 - accuracy: 0.9893 - val_loss: 0.3047 - val_accuracy: 0.9535\n"
     ]
    }
   ],
   "source": [
    "print(\"Training....\")\n",
    "acc = model.fit(img_train, lbl_train, epochs=epochs, batch_size=batch, validation_data=(img_test, lbl_test))"
   ]
  },
  {
   "cell_type": "code",
   "execution_count": 17,
   "id": "3f7111a0",
   "metadata": {},
   "outputs": [
    {
     "name": "stdout",
     "output_type": "stream",
     "text": [
      "22/22 [==============================] - 0s 3ms/step - loss: 0.3047 - accuracy: 0.9535\n"
     ]
    }
   ],
   "source": [
    "score = model.evaluate(img_test, lbl_test)"
   ]
  },
  {
   "cell_type": "code",
   "execution_count": 18,
   "id": "48e35f18",
   "metadata": {},
   "outputs": [
    {
     "data": {
      "text/plain": [
       "<Figure size 576x360 with 0 Axes>"
      ]
     },
     "metadata": {},
     "output_type": "display_data"
    },
    {
     "data": {
      "image/png": "[encoded data removed]",
      "text/plain": [
       "<Figure size 432x288 with 1 Axes>"
      ]
     },
     "metadata": {
      "needs_background": "light"
     },
     "output_type": "display_data"
    }
   ],
   "source": [
    "plt.figure(figsize=(8,5))\n",
    "pd.DataFrame(acc.history).plot()\n",
    "plt.show()"
   ]
  },
  {
   "cell_type": "code",
   "execution_count": 19,
   "id": "958c90a9",
   "metadata": {
    "scrolled": false
   },
   "outputs": [
    {
     "name": "stdout",
     "output_type": "stream",
     "text": [
      "Model: \"sequential\"\n",
      "_________________________________________________________________\n",
      " Layer (type)                Output Shape              Param #   \n",
      "=================================================================\n",
      " conv2d (Conv2D)             (None, 46, 46, 64)        1664      \n",
      "                                                                 \n",
      " max_pooling2d (MaxPooling2D  (None, 23, 23, 64)       0         \n",
      " )                                                               \n",
      "                                                                 \n",
      " dropout (Dropout)           (None, 23, 23, 64)        0         \n",
      "                                                                 \n",
      " conv2d_1 (Conv2D)           (None, 19, 19, 128)       204928    \n",
      "                                                                 \n",
      " max_pooling2d_1 (MaxPooling  (None, 9, 9, 128)        0         \n",
      " 2D)                                                             \n",
      "                                                                 \n",
      " dropout_1 (Dropout)         (None, 9, 9, 128)         0         \n",
      "                                                                 \n",
      " conv2d_2 (Conv2D)           (None, 5, 5, 256)         819456    \n",
      "                                                                 \n",
      " max_pooling2d_2 (MaxPooling  (None, 2, 2, 256)        0         \n",
      " 2D)                                                             \n",
      "                                                                 \n",
      " dropout_2 (Dropout)         (None, 2, 2, 256)         0         \n",
      "                                                                 \n",
      " flatten (Flatten)           (None, 1024)              0         \n",
      "                                                                 \n",
      " dense (Dense)               (None, 128)               131200    \n",
      "                                                                 \n",
      " dense_1 (Dense)             (None, 256)               33024     \n",
      "                                                                 \n",
      " dense_2 (Dense)             (None, 31)                7967      \n",
      "                                                                 \n",
      "=================================================================\n",
      "Total params: 1,198,239\n",
      "Trainable params: 1,198,239\n",
      "Non-trainable params: 0\n",
      "_________________________________________________________________\n",
      "None\n",
      "Loss :  0.30469855666160583\n",
      "Accuracy : 0.9534883499145508\n"
     ]
    }
   ],
   "source": [
    "print(model.summary()) \n",
    "print('Loss : ', score[0])\n",
    "print('Accuracy :',score[1])"
   ]
  },
  {
   "cell_type": "code",
   "execution_count": 20,
   "id": "6935283f",
   "metadata": {},
   "outputs": [
    {
     "name": "stdout",
     "output_type": "stream",
     "text": [
      "Model saved\n"
     ]
    }
   ],
   "source": [
    "model.save('../model.h5')\n",
    "print(\"Model saved\")"
   ]
  },
  {
   "cell_type": "code",
   "execution_count": null,
   "id": "26f9a198",
   "metadata": {},
   "outputs": [],
   "source": []
  }
 ],
 "metadata": {
  "kernelspec": {
   "display_name": "Python 3 (ipykernel)",
   "language": "python",
   "name": "python3"
  },
  "language_info": {
   "codemirror_mode": {
    "name": "ipython",
    "version": 3
   },
   "file_extension": ".py",
   "mimetype": "text/x-python",
   "name": "python",
   "nbconvert_exporter": "python",
   "pygments_lexer": "ipython3",
   "version": "3.9.12"
  },
  "vscode": {
   "interpreter": {
    "hash": "429daceb1b7ca5b0fd445a5943d4d38a9d461d446f33489cc90d4dffb75cd92c"
   }
  }
 },
 "nbformat": 4,
 "nbformat_minor": 5
}
