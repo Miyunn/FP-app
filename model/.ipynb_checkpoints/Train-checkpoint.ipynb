{
 "cells": [
  {
   "cell_type": "code",
   "execution_count": 1,
   "id": "3187014a",
   "metadata": {},
   "outputs": [],
   "source": [
    "import tensorflow.keras\n",
    "from tensorflow.keras.datasets import mnist\n",
    "from tensorflow.keras.models import Sequential\n",
    "from tensorflow.keras.layers import Conv2D, MaxPool2D, Flatten, Dense, Dropout\n",
    "from tensorflow.keras.utils import to_categorical\n",
    "import matplotlib.pyplot as plt\n",
    "import numpy as np\n",
    "import cv2"
   ]
  },
  {
   "cell_type": "code",
   "execution_count": 2,
   "id": "dec0fbb7",
   "metadata": {},
   "outputs": [
    {
     "name": "stdout",
     "output_type": "stream",
     "text": [
      "['1', '2', '3', '4', '5', '6']\n",
      "['1', '2', '3', '4', '5', '6']\n"
     ]
    }
   ],
   "source": [
    "import os\n",
    "\n",
    "path = \"dataset/train/\"\n",
    "path_test = \"dataset/test/\"\n",
    "files = os.listdir(path)[:6]\n",
    "files_test = os.listdir(path_test)[:6]\n",
    "print(files)\n",
    "print(files_test)\n",
    "\n",
    "classes={'1':0, '2':1, '3':2, '4':3, '5':4, '6':5}"
   ]
  },
  {
   "cell_type": "code",
   "execution_count": 3,
   "id": "fb5ea3bb",
   "metadata": {},
   "outputs": [
    {
     "name": "stdout",
     "output_type": "stream",
     "text": [
      "Dataset created succesfully!\n"
     ]
    }
   ],
   "source": [
    "img_train=[]\n",
    "lbl_train=[]\n",
    "\n",
    "for cl in classes:\n",
    "    pth = path+cl\n",
    "    for img_name in os.listdir(pth):\n",
    "        img = cv2.imread(pth+\"/\"+img_name,0)\n",
    "        img_train.append(img)\n",
    "        lbl_train.append(classes[cl])\n",
    "print(\"Dataset created succesfully!\")  "
   ]
  },
  {
   "cell_type": "code",
   "execution_count": 4,
   "id": "17926f9a",
   "metadata": {},
   "outputs": [
    {
     "name": "stdout",
     "output_type": "stream",
     "text": [
      "Test Data imported\n"
     ]
    }
   ],
   "source": [
    "img_test=[]\n",
    "lbl_test=[]\n",
    "\n",
    "for cl in classes:\n",
    "    pth = path_test+cl\n",
    "    for img_name in os.listdir(pth):\n",
    "        img = cv2.imread(pth+\"/\"+img_name,0)\n",
    "        img_test.append(img)\n",
    "        lbl_test.append(classes[cl])\n",
    "print(\"Test Data imported\")"
   ]
  },
  {
   "cell_type": "code",
   "execution_count": 5,
   "id": "392af76c",
   "metadata": {},
   "outputs": [
    {
     "name": "stdout",
     "output_type": "stream",
     "text": [
      "Train data type\n",
      "<class 'numpy.ndarray'>\n",
      "<class 'numpy.ndarray'>\n",
      "Train data type\n",
      "<class 'numpy.ndarray'>\n",
      "<class 'numpy.ndarray'>\n"
     ]
    }
   ],
   "source": [
    "#Converting in to array\n",
    "img_train = np.array(img_train)\n",
    "lbl_train = np.array(lbl_train)\n",
    "print(\"Train data type\")\n",
    "print(type(img_train))\n",
    "print(type(lbl_train))\n",
    "\n",
    "img_test = np.array(img_test)\n",
    "lbl_test = np.array(lbl_test)\n",
    "print(\"Train data type\")\n",
    "print(type(img_test))\n",
    "print(type(lbl_test))\n",
    "\n"
   ]
  },
  {
   "cell_type": "code",
   "execution_count": 6,
   "id": "457c0521",
   "metadata": {},
   "outputs": [
    {
     "name": "stdout",
     "output_type": "stream",
     "text": [
      "1\n"
     ]
    },
    {
     "data": {
      "image/png": "[encoded data removed]",
      "text/plain": [
       "<Figure size 432x288 with 1 Axes>"
      ]
     },
     "metadata": {
      "needs_background": "light"
     },
     "output_type": "display_data"
    }
   ],
   "source": [
    "plt.imshow(img_train[257], cmap='gray')\n",
    "print(lbl_train[257])"
   ]
  },
  {
   "cell_type": "code",
   "execution_count": 7,
   "id": "39b7403d",
   "metadata": {},
   "outputs": [],
   "source": [
    "img_train = img_train.reshape(img_train.shape[0], img_train.shape[1], img_train.shape[2], 1)\n",
    "img_test = img_test.reshape(img_test.shape[0], img_test.shape[1], img_test.shape[2], 1)"
   ]
  },
  {
   "cell_type": "code",
   "execution_count": 8,
   "id": "f4b794df",
   "metadata": {},
   "outputs": [
    {
     "name": "stdout",
     "output_type": "stream",
     "text": [
      "(1152, 80, 80, 1)\n",
      "(144, 80, 80, 1)\n"
     ]
    }
   ],
   "source": [
    "print(img_train.shape)\n",
    "print(img_test.shape)"
   ]
  },
  {
   "cell_type": "code",
   "execution_count": 9,
   "id": "72e97204",
   "metadata": {},
   "outputs": [],
   "source": [
    "lbl_train = to_categorical(lbl_train, 6)\n",
    "lbl_test = to_categorical(lbl_test, 6)"
   ]
  },
  {
   "cell_type": "code",
   "execution_count": 10,
   "id": "ccbc59db",
   "metadata": {},
   "outputs": [
    {
     "name": "stdout",
     "output_type": "stream",
     "text": [
      "[0. 1. 0. 0. 0. 0.]\n"
     ]
    },
    {
     "data": {
      "text/plain": [
       "<matplotlib.image.AxesImage at 0x1a71f62e5b0>"
      ]
     },
     "execution_count": 10,
     "metadata": {},
     "output_type": "execute_result"
    },
    {
     "data": {
      "image/png": "[encoded data removed]",
      "text/plain": [
       "<Figure size 432x288 with 1 Axes>"
      ]
     },
     "metadata": {
      "needs_background": "light"
     },
     "output_type": "display_data"
    }
   ],
   "source": [
    "print(lbl_train[200])\n",
    "plt.imshow(img_train[200], cmap='gray')"
   ]
  },
  {
   "cell_type": "code",
   "execution_count": 11,
   "id": "a59a01e0",
   "metadata": {},
   "outputs": [
    {
     "name": "stdout",
     "output_type": "stream",
     "text": [
      "255\n",
      "0\n"
     ]
    }
   ],
   "source": [
    "print(np.max(img_train[0]))\n",
    "print(np.min(img_train[0]))"
   ]
  },
  {
   "cell_type": "code",
   "execution_count": 12,
   "id": "fc3cd634",
   "metadata": {},
   "outputs": [],
   "source": [
    "img_train = img_train / 255\n",
    "img_test = img_test / 255"
   ]
  },
  {
   "cell_type": "code",
   "execution_count": 13,
   "id": "1c9db0fb",
   "metadata": {},
   "outputs": [
    {
     "name": "stdout",
     "output_type": "stream",
     "text": [
      "1.0\n",
      "0.0\n"
     ]
    }
   ],
   "source": [
    "print(np.max(img_train[0]))\n",
    "print(np.min(img_train[0]))"
   ]
  },
  {
   "cell_type": "code",
   "execution_count": 14,
   "id": "b04b2b37",
   "metadata": {},
   "outputs": [
    {
     "name": "stdout",
     "output_type": "stream",
     "text": [
      "<class 'numpy.float64'>\n",
      "<class 'numpy.float64'>\n"
     ]
    }
   ],
   "source": [
    "print(type(img_train[0][0][0][0]))\n",
    "print(type(img_test[0][0][0][0]))"
   ]
  },
  {
   "cell_type": "code",
   "execution_count": 15,
   "id": "328a45c7",
   "metadata": {},
   "outputs": [],
   "source": [
    "img_train = img_train.astype('float32')\n",
    "img_test = img_test.astype('float32')"
   ]
  },
  {
   "cell_type": "code",
   "execution_count": 16,
   "id": "24116748",
   "metadata": {},
   "outputs": [
    {
     "name": "stdout",
     "output_type": "stream",
     "text": [
      "<class 'numpy.float32'>\n"
     ]
    }
   ],
   "source": [
    "print(type(img_train[0][0][0][0]))"
   ]
  },
  {
   "cell_type": "code",
   "execution_count": 18,
   "id": "5ee57bb7",
   "metadata": {},
   "outputs": [],
   "source": [
    "model = Sequential()\n",
    "model.add(Conv2D(16, (5, 5), input_shape=(80, 80, 1), activation='relu'))\n",
    "model.add(MaxPool2D(pool_size=(2,2)))\n",
    "model.add(Conv2D(32, (3, 3), activation='relu'))\n",
    "model.add(MaxPool2D(pool_size=(2,2)))\n",
    "model.add(Conv2D(64, (2, 2), activation='relu'))\n",
    "model.add(MaxPool2D(pool_size=(2,2)))\n",
    "model.add(Dropout(0.2))\n",
    "model.add(Flatten())\n",
    "model.add(Dense(128, activation='relu'))\n",
    "model.add(Dense(50, activation='relu'))\n",
    "model.add(Dense(6, activation='softmax'))"
   ]
  },
  {
   "cell_type": "code",
   "execution_count": 19,
   "id": "4efa1f76",
   "metadata": {},
   "outputs": [],
   "source": [
    "model.compile(optimizer=tensorflow.keras.optimizers.Adadelta(learning_rate=0.1),\n",
    "             loss=tensorflow.keras.losses.categorical_crossentropy, metrics=['accuracy'])"
   ]
  },
  {
   "cell_type": "code",
   "execution_count": 20,
   "id": "2bc8b257",
   "metadata": {},
   "outputs": [
    {
     "name": "stdout",
     "output_type": "stream",
     "text": [
      "Epoch 1/10\n",
      "1152/1152 [==============================] - 10s 8ms/step - loss: 1.6288 - accuracy: 0.3038 - val_loss: 1.9633 - val_accuracy: 0.2222\n",
      "Epoch 2/10\n",
      "1152/1152 [==============================] - 8s 7ms/step - loss: 1.2551 - accuracy: 0.4983 - val_loss: 2.1916 - val_accuracy: 0.3611\n",
      "Epoch 3/10\n",
      "1152/1152 [==============================] - 9s 8ms/step - loss: 1.0218 - accuracy: 0.6233 - val_loss: 2.4059 - val_accuracy: 0.4444\n",
      "Epoch 4/10\n",
      "1152/1152 [==============================] - 8s 7ms/step - loss: 0.8186 - accuracy: 0.7049 - val_loss: 2.8298 - val_accuracy: 0.4028\n",
      "Epoch 5/10\n",
      "1152/1152 [==============================] - 9s 7ms/step - loss: 0.6872 - accuracy: 0.7595 - val_loss: 2.8243 - val_accuracy: 0.5278\n",
      "Epoch 6/10\n",
      "1152/1152 [==============================] - 8s 7ms/step - loss: 0.5763 - accuracy: 0.8021 - val_loss: 3.3616 - val_accuracy: 0.4792\n",
      "Epoch 7/10\n",
      "1152/1152 [==============================] - 9s 8ms/step - loss: 0.4705 - accuracy: 0.8420 - val_loss: 3.5980 - val_accuracy: 0.5347\n",
      "Epoch 8/10\n",
      "1152/1152 [==============================] - 8s 7ms/step - loss: 0.4136 - accuracy: 0.8637 - val_loss: 3.7042 - val_accuracy: 0.5556\n",
      "Epoch 9/10\n",
      "1152/1152 [==============================] - 9s 8ms/step - loss: 0.3654 - accuracy: 0.8811 - val_loss: 4.1347 - val_accuracy: 0.5208\n",
      "Epoch 10/10\n",
      "1152/1152 [==============================] - 9s 7ms/step - loss: 0.3091 - accuracy: 0.9019 - val_loss: 4.0778 - val_accuracy: 0.5486\n"
     ]
    },
    {
     "data": {
      "text/plain": [
       "<keras.callbacks.History at 0x1a71eea1190>"
      ]
     },
     "execution_count": 20,
     "metadata": {},
     "output_type": "execute_result"
    }
   ],
   "source": [
    "model.fit(img_train, lbl_train, epochs=100, batch_size=1, validation_data=(img_test, lbl_test))"
   ]
  },
  {
   "cell_type": "code",
   "execution_count": 21,
   "id": "3f7111a0",
   "metadata": {},
   "outputs": [
    {
     "name": "stdout",
     "output_type": "stream",
     "text": [
      "5/5 [==============================] - 0s 25ms/step - loss: 4.0778 - accuracy: 0.5486\n"
     ]
    }
   ],
   "source": [
    "score = model.evaluate(img_test, lbl_test)"
   ]
  },
  {
   "cell_type": "code",
   "execution_count": 22,
   "id": "958c90a9",
   "metadata": {},
   "outputs": [
    {
     "name": "stdout",
     "output_type": "stream",
     "text": [
      "Test Loss :  4.077829360961914\n",
      "Test Accuracy : 0.5486111044883728\n"
     ]
    }
   ],
   "source": [
    "print('Test Loss : ', score[0])\n",
    "print('Test Accuracy :',score[1])"
   ]
  },
  {
   "cell_type": "code",
   "execution_count": 23,
   "id": "6935283f",
   "metadata": {},
   "outputs": [],
   "source": [
    "model.save('test/model.h5')"
   ]
  },
  {
   "cell_type": "code",
   "execution_count": null,
   "id": "805439a9",
   "metadata": {},
   "outputs": [],
   "source": []
  }
 ],
 "metadata": {
  "kernelspec": {
   "display_name": "Python 3 (ipykernel)",
   "language": "python",
   "name": "python3"
  },
  "language_info": {
   "codemirror_mode": {
    "name": "ipython",
    "version": 3
   },
   "file_extension": ".py",
   "mimetype": "text/x-python",
   "name": "python",
   "nbconvert_exporter": "python",
   "pygments_lexer": "ipython3",
   "version": "3.9.12"
  }
 },
 "nbformat": 4,
 "nbformat_minor": 5
}
