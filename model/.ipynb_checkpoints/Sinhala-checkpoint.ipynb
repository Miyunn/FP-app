{
 "cells": [
  {
   "cell_type": "code",
   "execution_count": 1,
   "id": "c4cc27ea",
   "metadata": {},
   "outputs": [],
   "source": [
    "import os\n",
    "os.environ[\"TF_CPP_MIN_LOG_LEVEL\"] = \"2\"\n",
    "import tensorflow as tf\n",
    "from tensorflow import keras\n",
    "from tensorflow.keras import layers\n",
    "from tensorflow.keras.preprocessing.image import ImageDataGenerator"
   ]
  },
  {
   "cell_type": "code",
   "execution_count": 4,
   "id": "9864548c",
   "metadata": {},
   "outputs": [],
   "source": [
    "img_height = 28\n",
    "img_width = 28\n",
    "batch_size = 2\n",
    "\n",
    "model = keras.Sequential([\n",
    "    layers.Input((28, 28, 1)),\n",
    "    layers.Conv2D(16, 3, padding ='same'),\n",
    "    layers.Conv2D(32, 3, padding ='same'),\n",
    "    layers.MaxPooling2D(),\n",
    "    layers.Flatten(),\n",
    "    layers.Dense(10),\n",
    "])"
   ]
  },
  {
   "cell_type": "code",
   "execution_count": null,
   "id": "e854b06d",
   "metadata": {},
   "outputs": [],
   "source": [
    "ds_train = tf.keras.preprocessing.image_dataset_from_directory(\n",
    "    'datasets/sinhala/train',\n",
    "    labels='inferred',\n",
    "    lable_mode = \"int\",\n",
    "    #class_names\n",
    "    color_mode='greyscale',\n",
    "    batch_size=batch_size,\n",
    "    image_size=(img_height, img_width), #reshaper if not in this size\n",
    "    shuffle=True,\n",
    "    seed=123,\n",
    "    validation_split=0.1\n",
    "    subset=\"training\"\n",
    ")\n",
    "\n",
    "ds_validation = tf.keras.preprocessing.image_dataset_from_directory(\n",
    "    'datasets/sinhala/test',\n",
    "    labels='inferred',\n",
    "    lable_mode = \"int\",\n",
    "    #class_names\n",
    "    color_mode='greyscale',\n",
    "    batch_size=batch_size,\n",
    "    image_size=(img_height, img_width), #reshaper if not in this size\n",
    "    shuffle=True,\n",
    "    seed=123,\n",
    "    validation_split=0.1\n",
    "    subset=\"validation\"\n",
    ")"
   ]
  }
 ],
 "metadata": {
  "kernelspec": {
   "display_name": "Python 3 (ipykernel)",
   "language": "python",
   "name": "python3"
  },
  "language_info": {
   "codemirror_mode": {
    "name": "ipython",
    "version": 3
   },
   "file_extension": ".py",
   "mimetype": "text/x-python",
   "name": "python",
   "nbconvert_exporter": "python",
   "pygments_lexer": "ipython3",
   "version": "3.9.12"
  }
 },
 "nbformat": 4,
 "nbformat_minor": 5
}
