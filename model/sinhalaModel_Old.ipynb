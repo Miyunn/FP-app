{
 "cells": [
  {
   "cell_type": "code",
   "execution_count": 12,
   "id": "0dfc1eea",
   "metadata": {},
   "outputs": [],
   "source": [
    "import os\n",
    "import cv2\n",
    "import numpy as np\n",
    "from sklearn.preprocessing import LabelBinarizer\n",
    "from imutils import paths"
   ]
  },
  {
   "cell_type": "code",
   "execution_count": 13,
   "id": "eec5541c",
   "metadata": {},
   "outputs": [],
   "source": [
    "datapath = './dataset/sinhala/train'\n",
    "outputmodel = './outputmodels/sinhalaModel'\n",
    "outputlables = './outputmodels/sinhalaModelLables'\n"
   ]
  },
  {
   "cell_type": "code",
   "execution_count": 14,
   "id": "4d26e743",
   "metadata": {},
   "outputs": [
    {
     "name": "stdout",
     "output_type": "stream",
     "text": [
      "Some shit is happening\n"
     ]
    }
   ],
   "source": [
    "Sinhala_Lables = set(['1', '2', '3', '4', '5', '6'])\n",
    "print(\"Some shit is happening\")\n",
    "pathToImages = list(paths.list_images(datapath))\n",
    "data = []\n",
    "labels = []\n",
    "\n",
    "for images in pathToImages:\n",
    "    label = images.split(os.path.sep)[-2]\n",
    "    if label not in Sinhala_Lables:\n",
    "        continue\n",
    "    image = cv2.imread(images)\n",
    "    image = cv2.cvtColor(image, cv2.COLOR_BGR2RGB)\n",
    "    image = cv2.resize(image, (24,24))\n",
    "    data.append(image)\n",
    "    labels.append(label)"
   ]
  },
  {
   "cell_type": "code",
   "execution_count": null,
   "id": "552789fc",
   "metadata": {},
   "outputs": [],
   "source": [
    "data = np.array(data)\n",
    "labels = np.array(labels)\n",
    "#hot encoded valeus as 0,1,2,3,4\n",
    "\n",
    "lb = labelBinarizer()\n",
    "labels = lb.fit_transform(labels)"
   ]
  }
 ],
 "metadata": {
  "kernelspec": {
   "display_name": "Python 3 (ipykernel)",
   "language": "python",
   "name": "python3"
  },
  "language_info": {
   "codemirror_mode": {
    "name": "ipython",
    "version": 3
   },
   "file_extension": ".py",
   "mimetype": "text/x-python",
   "name": "python",
   "nbconvert_exporter": "python",
   "pygments_lexer": "ipython3",
   "version": "3.9.12"
  }
 },
 "nbformat": 4,
 "nbformat_minor": 5
}
