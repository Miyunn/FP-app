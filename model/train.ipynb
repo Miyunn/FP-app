{
 "cells": [
  {
   "cell_type": "code",
   "execution_count": 1,
   "id": "3187014a",
   "metadata": {},
   "outputs": [],
   "source": [
    "import tensorflow.keras\n",
    "import pandas as pd\n",
    "from tensorflow.keras.models import Sequential\n",
    "from tensorflow.keras.layers import Conv2D, MaxPool2D, Flatten, Dense, Dropout\n",
    "from tensorflow.keras.utils import to_categorical\n",
    "import matplotlib.pyplot as plt\n",
    "import numpy as np\n",
    "import cv2\n",
    "import os"
   ]
  },
  {
   "cell_type": "code",
   "execution_count": 2,
   "id": "dec0fbb7",
   "metadata": {},
   "outputs": [
    {
     "name": "stdout",
     "output_type": "stream",
     "text": [
      "Importing data from directory...\n"
     ]
    }
   ],
   "source": [
    "print(\"Importing data from directory...\")\n",
    "\n",
    "path = \"dataset/train/\"\n",
    "path_test = \"dataset/test/\"\n",
    "files = os.listdir(path)[:31]\n",
    "files_test = os.listdir(path_test)[:31]\n",
    "\n",
    "classes={'1':0, '2':1, '3':2, '4':3, '5':4, '6':5, '7':6, '8':7, '9':8, '10':9, '11':10, '12':11, '25':12, '38':13, '51':14,\n",
    "        '64':15, '77':16, '90':17, '93':18, '105':19, '120':20, '134':21, '149':22, '164':23, '179':24, '190':25, '198':26,\n",
    "        '208':27, '250':28, '264':29, '274':30 }\n"
   ]
  },
  {
   "cell_type": "code",
   "execution_count": 3,
   "id": "fb5ea3bb",
   "metadata": {},
   "outputs": [
    {
     "name": "stdout",
     "output_type": "stream",
     "text": [
      "Labeling train data...\n"
     ]
    }
   ],
   "source": [
    "print(\"Labeling train data...\")\n",
    "img_train=[]\n",
    "lbl_train=[]\n",
    "\n",
    "for cl in classes:\n",
    "    pth = path+cl\n",
    "    for img_name in os.listdir(pth):\n",
    "        img = cv2.imread(pth+\"/\"+img_name,0)\n",
    "        img_train.append(img)\n",
    "        lbl_train.append(classes[cl])"
   ]
  },
  {
   "cell_type": "code",
   "execution_count": 4,
   "id": "17926f9a",
   "metadata": {},
   "outputs": [
    {
     "name": "stdout",
     "output_type": "stream",
     "text": [
      "Labeling test data...\n"
     ]
    }
   ],
   "source": [
    "print(\"Labeling test data...\")\n",
    "img_test=[]\n",
    "lbl_test=[]\n",
    "\n",
    "for cl in classes:\n",
    "    pth = path_test+cl\n",
    "    for img_name in os.listdir(pth):\n",
    "        img = cv2.imread(pth+\"/\"+img_name,0)\n",
    "        img_test.append(img)\n",
    "        lbl_test.append(classes[cl])"
   ]
  },
  {
   "cell_type": "code",
   "execution_count": 5,
   "id": "392af76c",
   "metadata": {},
   "outputs": [
    {
     "name": "stdout",
     "output_type": "stream",
     "text": [
      "converting to np array\n",
      "5250\n"
     ]
    }
   ],
   "source": [
    "print(\"converting to np array\")\n",
    "\n",
    "img_train = np.array(img_train)\n",
    "lbl_train = np.array(lbl_train)\n",
    "\n",
    "img_test = np.array(img_test)\n",
    "lbl_test = np.array(lbl_test)\n",
    "\n",
    "save_size = lbl_train.size\n",
    "\n",
    "print(save_size)"
   ]
  },
  {
   "cell_type": "code",
   "execution_count": 6,
   "id": "3cc3280e",
   "metadata": {},
   "outputs": [
    {
     "name": "stdout",
     "output_type": "stream",
     "text": [
      "Saved for updating\n"
     ]
    }
   ],
   "source": [
    "np.save('../data/images', img_train)\n",
    "np.save('../data/labels', lbl_train)\n",
    "np.save('../data/size', save_size)\n",
    "print(\"Saved for updating\")"
   ]
  },
  {
   "cell_type": "code",
   "execution_count": 7,
   "id": "457c0521",
   "metadata": {},
   "outputs": [
    {
     "name": "stdout",
     "output_type": "stream",
     "text": [
      "0\n"
     ]
    },
    {
     "data": {
      "image/png": "[encoded data removed]",
      "text/plain": [
       "<Figure size 432x288 with 1 Axes>"
      ]
     },
     "metadata": {
      "needs_background": "light"
     },
     "output_type": "display_data"
    }
   ],
   "source": [
    "plt.imshow(img_train[1], cmap='gray')\n",
    "print(lbl_train[1])"
   ]
  },
  {
   "cell_type": "code",
   "execution_count": 8,
   "id": "8eef341d",
   "metadata": {},
   "outputs": [
    {
     "name": "stdout",
     "output_type": "stream",
     "text": [
      "Preprocessing data for training....\n"
     ]
    }
   ],
   "source": [
    "print(\"Preprocessing data for training....\")"
   ]
  },
  {
   "cell_type": "code",
   "execution_count": 9,
   "id": "39b7403d",
   "metadata": {},
   "outputs": [],
   "source": [
    "img_train = img_train.reshape(img_train.shape[0], img_train.shape[1], img_train.shape[2], 1)\n",
    "img_test = img_test.reshape(img_test.shape[0], img_test.shape[1], img_test.shape[2], 1)"
   ]
  },
  {
   "cell_type": "code",
   "execution_count": 10,
   "id": "fc3cd634",
   "metadata": {},
   "outputs": [],
   "source": [
    "img_train = img_train / 255\n",
    "img_test = img_test / 255"
   ]
  },
  {
   "cell_type": "code",
   "execution_count": 11,
   "id": "328a45c7",
   "metadata": {},
   "outputs": [],
   "source": [
    "img_train = img_train.astype('float32')\n",
    "img_test = img_test.astype('float32')"
   ]
  },
  {
   "cell_type": "code",
   "execution_count": 12,
   "id": "f4b794df",
   "metadata": {},
   "outputs": [
    {
     "name": "stdout",
     "output_type": "stream",
     "text": [
      "Train shape (5250, 50, 50, 1)\n",
      "Test shape (688, 50, 50, 1)\n"
     ]
    }
   ],
   "source": [
    "print(\"Train shape\", img_train.shape)\n",
    "print(\"Test shape\", img_test.shape)"
   ]
  },
  {
   "cell_type": "code",
   "execution_count": 13,
   "id": "71889340",
   "metadata": {},
   "outputs": [
    {
     "name": "stdout",
     "output_type": "stream",
     "text": [
      "Epochs :  100\n",
      "Batch size :  32\n"
     ]
    }
   ],
   "source": [
    "epochs = 100\n",
    "batch = 32\n",
    "\n",
    "print(\"Epochs : \",epochs)\n",
    "print(\"Batch size : \",batch)"
   ]
  },
  {
   "cell_type": "code",
   "execution_count": 14,
   "id": "5ee57bb7",
   "metadata": {},
   "outputs": [],
   "source": [
    "model = Sequential()\n",
    "model.add(Conv2D(64, kernel_size=5, activation='relu'))\n",
    "model.add(MaxPool2D(pool_size=2))\n",
    "model.add(Dropout(0.3))\n",
    "model.add(Conv2D(128, kernel_size=5, activation='relu'))\n",
    "model.add(MaxPool2D(pool_size=2))\n",
    "model.add(Dropout(0.3))\n",
    "model.add(Conv2D(256, kernel_size=5, activation='relu'))\n",
    "model.add(MaxPool2D(pool_size=2))\n",
    "model.add(Dropout(0.3))\n",
    "model.add(Flatten())\n",
    "model.add(Dense(128, activation='relu'))\n",
    "model.add(Dense(256, activation='relu'))\n",
    "model.add(Dense(31, activation='softmax'))\n"
   ]
  },
  {
   "cell_type": "code",
   "execution_count": 15,
   "id": "4efa1f76",
   "metadata": {},
   "outputs": [],
   "source": [
    "model.compile(optimizer=tensorflow.keras.optimizers.Adam(learning_rate=0.001),\n",
    "             loss=tensorflow.keras.losses.sparse_categorical_crossentropy, metrics=['accuracy'])"
   ]
  },
  {
   "cell_type": "code",
   "execution_count": 16,
   "id": "2bc8b257",
   "metadata": {},
   "outputs": [
    {
     "name": "stdout",
     "output_type": "stream",
     "text": [
      "Training....\n",
      "Epoch 1/100\n",
      "165/165 [==============================] - 2s 11ms/step - loss: 3.4229 - accuracy: 0.0398 - val_loss: 3.4090 - val_accuracy: 0.0451\n",
      "Epoch 2/100\n",
      "165/165 [==============================] - 2s 9ms/step - loss: 3.3668 - accuracy: 0.0606 - val_loss: 3.3357 - val_accuracy: 0.0451\n",
      "Epoch 3/100\n",
      "165/165 [==============================] - 2s 9ms/step - loss: 3.1830 - accuracy: 0.1154 - val_loss: 3.1720 - val_accuracy: 0.0916\n",
      "Epoch 4/100\n",
      "165/165 [==============================] - 2s 9ms/step - loss: 2.9415 - accuracy: 0.1718 - val_loss: 2.8458 - val_accuracy: 0.1672\n",
      "Epoch 5/100\n",
      "165/165 [==============================] - 2s 9ms/step - loss: 2.6669 - accuracy: 0.2478 - val_loss: 2.6885 - val_accuracy: 0.2282\n",
      "Epoch 6/100\n",
      "165/165 [==============================] - 2s 10ms/step - loss: 2.4085 - accuracy: 0.3076 - val_loss: 2.4440 - val_accuracy: 0.2718\n",
      "Epoch 7/100\n",
      "165/165 [==============================] - 2s 9ms/step - loss: 2.1758 - accuracy: 0.3653 - val_loss: 2.1111 - val_accuracy: 0.3794\n",
      "Epoch 8/100\n",
      "165/165 [==============================] - 2s 9ms/step - loss: 1.9866 - accuracy: 0.4166 - val_loss: 1.8632 - val_accuracy: 0.4390\n",
      "Epoch 9/100\n",
      "165/165 [==============================] - 2s 9ms/step - loss: 1.8128 - accuracy: 0.4663 - val_loss: 1.6927 - val_accuracy: 0.5015\n",
      "Epoch 10/100\n",
      "165/165 [==============================] - 2s 9ms/step - loss: 1.6620 - accuracy: 0.5021 - val_loss: 1.5390 - val_accuracy: 0.5581\n",
      "Epoch 11/100\n",
      "165/165 [==============================] - 2s 9ms/step - loss: 1.5111 - accuracy: 0.5390 - val_loss: 1.4861 - val_accuracy: 0.5625\n",
      "Epoch 12/100\n",
      "165/165 [==============================] - 2s 9ms/step - loss: 1.4145 - accuracy: 0.5730 - val_loss: 1.2605 - val_accuracy: 0.6366\n",
      "Epoch 13/100\n",
      "165/165 [==============================] - 2s 9ms/step - loss: 1.3015 - accuracy: 0.6122 - val_loss: 1.2048 - val_accuracy: 0.6657\n",
      "Epoch 14/100\n",
      "165/165 [==============================] - 2s 9ms/step - loss: 1.2018 - accuracy: 0.6341 - val_loss: 1.0584 - val_accuracy: 0.7035\n",
      "Epoch 15/100\n",
      "165/165 [==============================] - 2s 9ms/step - loss: 1.1000 - accuracy: 0.6615 - val_loss: 0.9716 - val_accuracy: 0.7238\n",
      "Epoch 16/100\n",
      "165/165 [==============================] - 2s 9ms/step - loss: 1.0178 - accuracy: 0.6943 - val_loss: 0.9049 - val_accuracy: 0.7616\n",
      "Epoch 17/100\n",
      "165/165 [==============================] - 2s 9ms/step - loss: 0.9602 - accuracy: 0.7082 - val_loss: 0.8462 - val_accuracy: 0.7573\n",
      "Epoch 18/100\n",
      "165/165 [==============================] - 2s 9ms/step - loss: 0.8935 - accuracy: 0.7345 - val_loss: 0.9288 - val_accuracy: 0.7311\n",
      "Epoch 19/100\n",
      "165/165 [==============================] - 2s 9ms/step - loss: 0.8252 - accuracy: 0.7535 - val_loss: 0.7331 - val_accuracy: 0.8067\n",
      "Epoch 20/100\n",
      "165/165 [==============================] - 1s 9ms/step - loss: 0.7687 - accuracy: 0.7690 - val_loss: 0.7188 - val_accuracy: 0.8081\n",
      "Epoch 21/100\n",
      "165/165 [==============================] - 2s 9ms/step - loss: 0.7344 - accuracy: 0.7760 - val_loss: 0.6900 - val_accuracy: 0.7980\n",
      "Epoch 22/100\n",
      "165/165 [==============================] - 2s 9ms/step - loss: 0.6704 - accuracy: 0.7882 - val_loss: 0.6528 - val_accuracy: 0.8314\n",
      "Epoch 23/100\n",
      "165/165 [==============================] - 2s 9ms/step - loss: 0.6539 - accuracy: 0.7950 - val_loss: 0.6431 - val_accuracy: 0.8212\n",
      "Epoch 24/100\n",
      "165/165 [==============================] - 2s 9ms/step - loss: 0.6010 - accuracy: 0.8141 - val_loss: 0.7087 - val_accuracy: 0.8081\n",
      "Epoch 25/100\n",
      "165/165 [==============================] - 2s 9ms/step - loss: 0.5568 - accuracy: 0.8272 - val_loss: 0.5485 - val_accuracy: 0.8561\n",
      "Epoch 26/100\n",
      "165/165 [==============================] - 2s 9ms/step - loss: 0.5575 - accuracy: 0.8253 - val_loss: 0.5125 - val_accuracy: 0.8692\n",
      "Epoch 27/100\n",
      "165/165 [==============================] - 2s 9ms/step - loss: 0.5245 - accuracy: 0.8389 - val_loss: 0.5216 - val_accuracy: 0.8648\n",
      "Epoch 28/100\n",
      "165/165 [==============================] - 2s 9ms/step - loss: 0.4977 - accuracy: 0.8486 - val_loss: 0.5199 - val_accuracy: 0.8779\n",
      "Epoch 29/100\n",
      "165/165 [==============================] - 2s 9ms/step - loss: 0.4621 - accuracy: 0.8571 - val_loss: 0.5055 - val_accuracy: 0.8677\n",
      "Epoch 30/100\n",
      "165/165 [==============================] - 2s 9ms/step - loss: 0.4388 - accuracy: 0.8665 - val_loss: 0.5046 - val_accuracy: 0.8677\n",
      "Epoch 31/100\n",
      "165/165 [==============================] - 2s 9ms/step - loss: 0.4234 - accuracy: 0.8665 - val_loss: 0.4610 - val_accuracy: 0.8765\n",
      "Epoch 32/100\n",
      "165/165 [==============================] - 2s 9ms/step - loss: 0.4135 - accuracy: 0.8749 - val_loss: 0.5294 - val_accuracy: 0.8692\n",
      "Epoch 33/100\n",
      "165/165 [==============================] - 2s 9ms/step - loss: 0.3768 - accuracy: 0.8846 - val_loss: 0.4663 - val_accuracy: 0.8823\n",
      "Epoch 34/100\n",
      "165/165 [==============================] - 2s 9ms/step - loss: 0.3597 - accuracy: 0.8878 - val_loss: 0.4366 - val_accuracy: 0.8997\n",
      "Epoch 35/100\n",
      "165/165 [==============================] - 2s 9ms/step - loss: 0.3470 - accuracy: 0.8882 - val_loss: 0.4406 - val_accuracy: 0.8953\n",
      "Epoch 36/100\n",
      "165/165 [==============================] - 2s 9ms/step - loss: 0.3551 - accuracy: 0.8933 - val_loss: 0.4856 - val_accuracy: 0.8794\n",
      "Epoch 37/100\n",
      "165/165 [==============================] - 1s 9ms/step - loss: 0.3218 - accuracy: 0.8996 - val_loss: 0.4224 - val_accuracy: 0.9055\n",
      "Epoch 38/100\n",
      "165/165 [==============================] - 2s 9ms/step - loss: 0.3062 - accuracy: 0.9076 - val_loss: 0.4528 - val_accuracy: 0.8866\n",
      "Epoch 39/100\n",
      "165/165 [==============================] - 2s 9ms/step - loss: 0.2794 - accuracy: 0.9131 - val_loss: 0.3990 - val_accuracy: 0.9128\n",
      "Epoch 40/100\n",
      "165/165 [==============================] - 2s 9ms/step - loss: 0.2895 - accuracy: 0.9101 - val_loss: 0.3867 - val_accuracy: 0.9084\n",
      "Epoch 41/100\n",
      "165/165 [==============================] - 2s 9ms/step - loss: 0.2624 - accuracy: 0.9162 - val_loss: 0.3774 - val_accuracy: 0.9201\n",
      "Epoch 42/100\n",
      "165/165 [==============================] - 2s 9ms/step - loss: 0.2632 - accuracy: 0.9219 - val_loss: 0.4115 - val_accuracy: 0.9142\n",
      "Epoch 43/100\n",
      "165/165 [==============================] - 2s 9ms/step - loss: 0.2572 - accuracy: 0.9156 - val_loss: 0.3800 - val_accuracy: 0.9142\n",
      "Epoch 44/100\n",
      "165/165 [==============================] - 2s 9ms/step - loss: 0.2495 - accuracy: 0.9196 - val_loss: 0.3555 - val_accuracy: 0.9259\n",
      "Epoch 45/100\n",
      "165/165 [==============================] - 2s 9ms/step - loss: 0.2389 - accuracy: 0.9272 - val_loss: 0.3723 - val_accuracy: 0.9201\n",
      "Epoch 46/100\n",
      "165/165 [==============================] - 2s 9ms/step - loss: 0.2187 - accuracy: 0.9331 - val_loss: 0.3466 - val_accuracy: 0.9273\n",
      "Epoch 47/100\n",
      "165/165 [==============================] - 2s 9ms/step - loss: 0.2228 - accuracy: 0.9291 - val_loss: 0.3825 - val_accuracy: 0.9201\n",
      "Epoch 48/100\n",
      "165/165 [==============================] - 2s 9ms/step - loss: 0.2127 - accuracy: 0.9330 - val_loss: 0.3592 - val_accuracy: 0.9244\n",
      "Epoch 49/100\n",
      "165/165 [==============================] - 2s 9ms/step - loss: 0.1940 - accuracy: 0.9356 - val_loss: 0.3868 - val_accuracy: 0.9230\n",
      "Epoch 50/100\n",
      "165/165 [==============================] - 2s 9ms/step - loss: 0.1812 - accuracy: 0.9446 - val_loss: 0.3585 - val_accuracy: 0.9259\n",
      "Epoch 51/100\n",
      "165/165 [==============================] - 2s 9ms/step - loss: 0.1812 - accuracy: 0.9404 - val_loss: 0.3573 - val_accuracy: 0.9317\n",
      "Epoch 52/100\n",
      "165/165 [==============================] - 2s 9ms/step - loss: 0.1822 - accuracy: 0.9413 - val_loss: 0.3147 - val_accuracy: 0.9360\n",
      "Epoch 53/100\n",
      "165/165 [==============================] - 2s 9ms/step - loss: 0.1747 - accuracy: 0.9440 - val_loss: 0.3328 - val_accuracy: 0.9259\n",
      "Epoch 54/100\n",
      "165/165 [==============================] - 2s 9ms/step - loss: 0.1629 - accuracy: 0.9497 - val_loss: 0.3413 - val_accuracy: 0.9390\n",
      "Epoch 55/100\n",
      "165/165 [==============================] - 2s 9ms/step - loss: 0.1639 - accuracy: 0.9501 - val_loss: 0.3516 - val_accuracy: 0.9346\n",
      "Epoch 56/100\n",
      "165/165 [==============================] - 2s 9ms/step - loss: 0.1445 - accuracy: 0.9531 - val_loss: 0.3277 - val_accuracy: 0.9346\n",
      "Epoch 57/100\n",
      "165/165 [==============================] - 2s 10ms/step - loss: 0.1592 - accuracy: 0.9482 - val_loss: 0.3227 - val_accuracy: 0.9433\n"
     ]
    },
    {
     "name": "stdout",
     "output_type": "stream",
     "text": [
      "Epoch 58/100\n",
      "165/165 [==============================] - 2s 9ms/step - loss: 0.1418 - accuracy: 0.9587 - val_loss: 0.3508 - val_accuracy: 0.9390\n",
      "Epoch 59/100\n",
      "165/165 [==============================] - 2s 9ms/step - loss: 0.1462 - accuracy: 0.9577 - val_loss: 0.3336 - val_accuracy: 0.9404\n",
      "Epoch 60/100\n",
      "165/165 [==============================] - 2s 9ms/step - loss: 0.1434 - accuracy: 0.9528 - val_loss: 0.3347 - val_accuracy: 0.9390\n",
      "Epoch 61/100\n",
      "165/165 [==============================] - 2s 9ms/step - loss: 0.1349 - accuracy: 0.9589 - val_loss: 0.3470 - val_accuracy: 0.9360\n",
      "Epoch 62/100\n",
      "165/165 [==============================] - 2s 9ms/step - loss: 0.1355 - accuracy: 0.9575 - val_loss: 0.3279 - val_accuracy: 0.9433\n",
      "Epoch 63/100\n",
      "165/165 [==============================] - 2s 9ms/step - loss: 0.1307 - accuracy: 0.9573 - val_loss: 0.3193 - val_accuracy: 0.9433\n",
      "Epoch 64/100\n",
      "165/165 [==============================] - 2s 9ms/step - loss: 0.1276 - accuracy: 0.9589 - val_loss: 0.3225 - val_accuracy: 0.9375\n",
      "Epoch 65/100\n",
      "165/165 [==============================] - 2s 9ms/step - loss: 0.1236 - accuracy: 0.9590 - val_loss: 0.3068 - val_accuracy: 0.9433\n",
      "Epoch 66/100\n",
      "165/165 [==============================] - 2s 9ms/step - loss: 0.1162 - accuracy: 0.9663 - val_loss: 0.3204 - val_accuracy: 0.9506\n",
      "Epoch 67/100\n",
      "165/165 [==============================] - 2s 9ms/step - loss: 0.1149 - accuracy: 0.9638 - val_loss: 0.3413 - val_accuracy: 0.9390\n",
      "Epoch 68/100\n",
      "165/165 [==============================] - 2s 9ms/step - loss: 0.1078 - accuracy: 0.9655 - val_loss: 0.3325 - val_accuracy: 0.9462\n",
      "Epoch 69/100\n",
      "165/165 [==============================] - 2s 9ms/step - loss: 0.0957 - accuracy: 0.9710 - val_loss: 0.3247 - val_accuracy: 0.9448\n",
      "Epoch 70/100\n",
      "165/165 [==============================] - 2s 9ms/step - loss: 0.1104 - accuracy: 0.9661 - val_loss: 0.3264 - val_accuracy: 0.9433\n",
      "Epoch 71/100\n",
      "165/165 [==============================] - 2s 9ms/step - loss: 0.1062 - accuracy: 0.9669 - val_loss: 0.3225 - val_accuracy: 0.9491\n",
      "Epoch 72/100\n",
      "165/165 [==============================] - 2s 9ms/step - loss: 0.0895 - accuracy: 0.9701 - val_loss: 0.3625 - val_accuracy: 0.9404\n",
      "Epoch 73/100\n",
      "165/165 [==============================] - 2s 9ms/step - loss: 0.1046 - accuracy: 0.9670 - val_loss: 0.3500 - val_accuracy: 0.9448\n",
      "Epoch 74/100\n",
      "165/165 [==============================] - 2s 9ms/step - loss: 0.0975 - accuracy: 0.9688 - val_loss: 0.3511 - val_accuracy: 0.9448\n",
      "Epoch 75/100\n",
      "165/165 [==============================] - 2s 9ms/step - loss: 0.0890 - accuracy: 0.9714 - val_loss: 0.3265 - val_accuracy: 0.9491\n",
      "Epoch 76/100\n",
      "165/165 [==============================] - 2s 9ms/step - loss: 0.0966 - accuracy: 0.9680 - val_loss: 0.3273 - val_accuracy: 0.9506\n",
      "Epoch 77/100\n",
      "165/165 [==============================] - 2s 9ms/step - loss: 0.0870 - accuracy: 0.9733 - val_loss: 0.3524 - val_accuracy: 0.9375\n",
      "Epoch 78/100\n",
      "165/165 [==============================] - 2s 9ms/step - loss: 0.0900 - accuracy: 0.9722 - val_loss: 0.3300 - val_accuracy: 0.9462\n",
      "Epoch 79/100\n",
      "165/165 [==============================] - 2s 9ms/step - loss: 0.0892 - accuracy: 0.9720 - val_loss: 0.3337 - val_accuracy: 0.9462\n",
      "Epoch 80/100\n",
      "165/165 [==============================] - 2s 9ms/step - loss: 0.0820 - accuracy: 0.9758 - val_loss: 0.3149 - val_accuracy: 0.9477\n",
      "Epoch 81/100\n",
      "165/165 [==============================] - 2s 9ms/step - loss: 0.0767 - accuracy: 0.9792 - val_loss: 0.3316 - val_accuracy: 0.9491\n",
      "Epoch 82/100\n",
      "165/165 [==============================] - 2s 9ms/step - loss: 0.0777 - accuracy: 0.9770 - val_loss: 0.3454 - val_accuracy: 0.9491\n",
      "Epoch 83/100\n",
      "165/165 [==============================] - 2s 9ms/step - loss: 0.0753 - accuracy: 0.9787 - val_loss: 0.3322 - val_accuracy: 0.9477\n",
      "Epoch 84/100\n",
      "165/165 [==============================] - 2s 9ms/step - loss: 0.0711 - accuracy: 0.9777 - val_loss: 0.3480 - val_accuracy: 0.9506\n",
      "Epoch 85/100\n",
      "165/165 [==============================] - 2s 9ms/step - loss: 0.0742 - accuracy: 0.9768 - val_loss: 0.3604 - val_accuracy: 0.9462\n",
      "Epoch 86/100\n",
      "165/165 [==============================] - 2s 9ms/step - loss: 0.0646 - accuracy: 0.9792 - val_loss: 0.3396 - val_accuracy: 0.9535\n",
      "Epoch 87/100\n",
      "165/165 [==============================] - 2s 9ms/step - loss: 0.0638 - accuracy: 0.9819 - val_loss: 0.3245 - val_accuracy: 0.9520\n",
      "Epoch 88/100\n",
      "165/165 [==============================] - 2s 9ms/step - loss: 0.0710 - accuracy: 0.9770 - val_loss: 0.3317 - val_accuracy: 0.9520\n",
      "Epoch 89/100\n",
      "165/165 [==============================] - 2s 9ms/step - loss: 0.0709 - accuracy: 0.9798 - val_loss: 0.3202 - val_accuracy: 0.9535\n",
      "Epoch 90/100\n",
      "165/165 [==============================] - 2s 9ms/step - loss: 0.0734 - accuracy: 0.9770 - val_loss: 0.3417 - val_accuracy: 0.9448\n",
      "Epoch 91/100\n",
      "165/165 [==============================] - 2s 9ms/step - loss: 0.0791 - accuracy: 0.9745 - val_loss: 0.3301 - val_accuracy: 0.9448\n",
      "Epoch 92/100\n",
      "165/165 [==============================] - 2s 9ms/step - loss: 0.0563 - accuracy: 0.9846 - val_loss: 0.3393 - val_accuracy: 0.9477\n",
      "Epoch 93/100\n",
      "165/165 [==============================] - 2s 9ms/step - loss: 0.0634 - accuracy: 0.9781 - val_loss: 0.3243 - val_accuracy: 0.9506\n",
      "Epoch 94/100\n",
      "165/165 [==============================] - 2s 9ms/step - loss: 0.0581 - accuracy: 0.9823 - val_loss: 0.3425 - val_accuracy: 0.9433\n",
      "Epoch 95/100\n",
      "165/165 [==============================] - 2s 9ms/step - loss: 0.0668 - accuracy: 0.9813 - val_loss: 0.3324 - val_accuracy: 0.9491\n",
      "Epoch 96/100\n",
      "165/165 [==============================] - 2s 9ms/step - loss: 0.0540 - accuracy: 0.9836 - val_loss: 0.3098 - val_accuracy: 0.9448\n",
      "Epoch 97/100\n",
      "165/165 [==============================] - 2s 9ms/step - loss: 0.0604 - accuracy: 0.9806 - val_loss: 0.3550 - val_accuracy: 0.9535\n",
      "Epoch 98/100\n",
      "165/165 [==============================] - 2s 9ms/step - loss: 0.0478 - accuracy: 0.9855 - val_loss: 0.3507 - val_accuracy: 0.9477\n",
      "Epoch 99/100\n",
      "165/165 [==============================] - 2s 9ms/step - loss: 0.0568 - accuracy: 0.9832 - val_loss: 0.3469 - val_accuracy: 0.9506\n",
      "Epoch 100/100\n",
      "165/165 [==============================] - 2s 9ms/step - loss: 0.0586 - accuracy: 0.9834 - val_loss: 0.3426 - val_accuracy: 0.9549\n"
     ]
    }
   ],
   "source": [
    "print(\"Training....\")\n",
    "acc = model.fit(img_train, lbl_train, epochs=epochs, batch_size=batch, validation_data=(img_test, lbl_test))"
   ]
  },
  {
   "cell_type": "code",
   "execution_count": 17,
   "id": "3f7111a0",
   "metadata": {},
   "outputs": [
    {
     "name": "stdout",
     "output_type": "stream",
     "text": [
      "22/22 [==============================] - 0s 3ms/step - loss: 0.3426 - accuracy: 0.9549\n"
     ]
    }
   ],
   "source": [
    "score = model.evaluate(img_test, lbl_test)"
   ]
  },
  {
   "cell_type": "code",
   "execution_count": 18,
   "id": "36b1b3b1",
   "metadata": {},
   "outputs": [
    {
     "data": {
      "text/plain": [
       "<Figure size 576x360 with 0 Axes>"
      ]
     },
     "metadata": {},
     "output_type": "display_data"
    },
    {
     "data": {
      "image/png": "[encoded data removed]",
      "text/plain": [
       "<Figure size 432x288 with 1 Axes>"
      ]
     },
     "metadata": {
      "needs_background": "light"
     },
     "output_type": "display_data"
    }
   ],
   "source": [
    "plt.figure(figsize=(8,5))\n",
    "pd.DataFrame(acc.history).plot()\n",
    "plt.show()"
   ]
  },
  {
   "cell_type": "code",
   "execution_count": 19,
   "id": "958c90a9",
   "metadata": {
    "scrolled": false
   },
   "outputs": [
    {
     "name": "stdout",
     "output_type": "stream",
     "text": [
      "Model: \"sequential\"\n",
      "_________________________________________________________________\n",
      " Layer (type)                Output Shape              Param #   \n",
      "=================================================================\n",
      " conv2d (Conv2D)             (None, 46, 46, 64)        1664      \n",
      "                                                                 \n",
      " max_pooling2d (MaxPooling2D  (None, 23, 23, 64)       0         \n",
      " )                                                               \n",
      "                                                                 \n",
      " dropout (Dropout)           (None, 23, 23, 64)        0         \n",
      "                                                                 \n",
      " conv2d_1 (Conv2D)           (None, 19, 19, 128)       204928    \n",
      "                                                                 \n",
      " max_pooling2d_1 (MaxPooling  (None, 9, 9, 128)        0         \n",
      " 2D)                                                             \n",
      "                                                                 \n",
      " dropout_1 (Dropout)         (None, 9, 9, 128)         0         \n",
      "                                                                 \n",
      " conv2d_2 (Conv2D)           (None, 5, 5, 256)         819456    \n",
      "                                                                 \n",
      " max_pooling2d_2 (MaxPooling  (None, 2, 2, 256)        0         \n",
      " 2D)                                                             \n",
      "                                                                 \n",
      " dropout_2 (Dropout)         (None, 2, 2, 256)         0         \n",
      "                                                                 \n",
      " flatten (Flatten)           (None, 1024)              0         \n",
      "                                                                 \n",
      " dense (Dense)               (None, 128)               131200    \n",
      "                                                                 \n",
      " dense_1 (Dense)             (None, 256)               33024     \n",
      "                                                                 \n",
      " dense_2 (Dense)             (None, 31)                7967      \n",
      "                                                                 \n",
      "=================================================================\n",
      "Total params: 1,198,239\n",
      "Trainable params: 1,198,239\n",
      "Non-trainable params: 0\n",
      "_________________________________________________________________\n",
      "None\n",
      "Loss :  0.34256869554519653\n",
      "Accuracy : 0.9549418687820435\n"
     ]
    }
   ],
   "source": [
    "print(model.summary()) \n",
    "print('Loss : ', score[0])\n",
    "print('Accuracy :',score[1])"
   ]
  },
  {
   "cell_type": "code",
   "execution_count": 20,
   "id": "6935283f",
   "metadata": {},
   "outputs": [
    {
     "name": "stdout",
     "output_type": "stream",
     "text": [
      "Model saved\n"
     ]
    }
   ],
   "source": [
    "model.save('../model.h5')\n",
    "print(\"Model saved\")"
   ]
  },
  {
   "cell_type": "code",
   "execution_count": null,
   "id": "26f9a198",
   "metadata": {},
   "outputs": [],
   "source": []
  }
 ],
 "metadata": {
  "kernelspec": {
   "display_name": "Python 3 (ipykernel)",
   "language": "python",
   "name": "python3"
  },
  "language_info": {
   "codemirror_mode": {
    "name": "ipython",
    "version": 3
   },
   "file_extension": ".py",
   "mimetype": "text/x-python",
   "name": "python",
   "nbconvert_exporter": "python",
   "pygments_lexer": "ipython3",
   "version": "3.9.12"
  },
  "vscode": {
   "interpreter": {
    "hash": "429daceb1b7ca5b0fd445a5943d4d38a9d461d446f33489cc90d4dffb75cd92c"
   }
  }
 },
 "nbformat": 4,
 "nbformat_minor": 5
}
