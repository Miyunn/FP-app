{
 "cells": [
  {
   "cell_type": "code",
   "execution_count": 1,
   "id": "3187014a",
   "metadata": {},
   "outputs": [],
   "source": [
    "import tensorflow.keras\n",
    "import pandas as pd\n",
    "from tensorflow.keras.models import Sequential\n",
    "from tensorflow.keras.layers import Conv2D, MaxPool2D, Flatten, Dense, Dropout\n",
    "from tensorflow.keras.utils import to_categorical\n",
    "import matplotlib.pyplot as plt\n",
    "import numpy as np\n",
    "import cv2\n",
    "import os"
   ]
  },
  {
   "cell_type": "code",
   "execution_count": 2,
   "id": "dec0fbb7",
   "metadata": {},
   "outputs": [
    {
     "name": "stdout",
     "output_type": "stream",
     "text": [
      "Importing data from directory...\n"
     ]
    }
   ],
   "source": [
    "print(\"Importing data from directory...\")\n",
    "\n",
    "path = \"dataset/train/\"\n",
    "path_test = \"dataset/test/\"\n",
    "files = os.listdir(path)[:31]\n",
    "files_test = os.listdir(path_test)[:31]\n",
    "\n",
    "classes={'1':0, '2':1, '3':2, '4':3, '5':4, '6':5, '7':6, '8':7, '9':8, '10':9, '11':10, '12':11, '25':12, '38':13, '51':14,\n",
    "        '64':15, '77':16, '90':17, '93':18, '105':19, '120':20, '134':21, '149':22, '164':23, '179':24, '190':25, '198':26,\n",
    "        '208':27, '250':28, '264':29, '274':30 }\n"
   ]
  },
  {
   "cell_type": "code",
   "execution_count": 3,
   "id": "fb5ea3bb",
   "metadata": {},
   "outputs": [
    {
     "name": "stdout",
     "output_type": "stream",
     "text": [
      "Labeling train data...\n"
     ]
    }
   ],
   "source": [
    "print(\"Labeling train data...\")\n",
    "img_train=[]\n",
    "lbl_train=[]\n",
    "\n",
    "for cl in classes:\n",
    "    pth = path+cl\n",
    "    for img_name in os.listdir(pth):\n",
    "        img = cv2.imread(pth+\"/\"+img_name,0)\n",
    "        img_train.append(img)\n",
    "        lbl_train.append(classes[cl])"
   ]
  },
  {
   "cell_type": "code",
   "execution_count": 4,
   "id": "17926f9a",
   "metadata": {},
   "outputs": [
    {
     "name": "stdout",
     "output_type": "stream",
     "text": [
      "Labeling test data...\n"
     ]
    }
   ],
   "source": [
    "print(\"Labeling test data...\")\n",
    "img_test=[]\n",
    "lbl_test=[]\n",
    "\n",
    "for cl in classes:\n",
    "    pth = path_test+cl\n",
    "    for img_name in os.listdir(pth):\n",
    "        img = cv2.imread(pth+\"/\"+img_name,0)\n",
    "        img_test.append(img)\n",
    "        lbl_test.append(classes[cl])"
   ]
  },
  {
   "cell_type": "code",
   "execution_count": 5,
   "id": "392af76c",
   "metadata": {},
   "outputs": [
    {
     "name": "stdout",
     "output_type": "stream",
     "text": [
      "converting to np array\n",
      "5250\n"
     ]
    }
   ],
   "source": [
    "print(\"converting to np array\")\n",
    "\n",
    "img_train = np.array(img_train)\n",
    "lbl_train = np.array(lbl_train)\n",
    "\n",
    "img_test = np.array(img_test)\n",
    "lbl_test = np.array(lbl_test)\n",
    "\n",
    "save_size = lbl_train.size\n",
    "\n",
    "print(save_size)"
   ]
  },
  {
   "cell_type": "code",
   "execution_count": 6,
   "id": "3cc3280e",
   "metadata": {},
   "outputs": [
    {
     "name": "stdout",
     "output_type": "stream",
     "text": [
      "Saved for updating\n"
     ]
    }
   ],
   "source": [
    "np.save('../data/images', img_train)\n",
    "np.save('../data/labels', lbl_train)\n",
    "np.save('../data/size', save_size)\n",
    "print(\"Saved for updating\")"
   ]
  },
  {
   "cell_type": "code",
   "execution_count": 7,
   "id": "457c0521",
   "metadata": {},
   "outputs": [
    {
     "name": "stdout",
     "output_type": "stream",
     "text": [
      "0\n"
     ]
    },
    {
     "data": {
      "image/png": "[encoded data removed]",
      "text/plain": [
       "<Figure size 432x288 with 1 Axes>"
      ]
     },
     "metadata": {
      "needs_background": "light"
     },
     "output_type": "display_data"
    }
   ],
   "source": [
    "plt.imshow(img_train[1], cmap='gray')\n",
    "print(lbl_train[1])"
   ]
  },
  {
   "cell_type": "code",
   "execution_count": 8,
   "id": "8eef341d",
   "metadata": {},
   "outputs": [
    {
     "name": "stdout",
     "output_type": "stream",
     "text": [
      "Preprocessing data for training....\n"
     ]
    }
   ],
   "source": [
    "print(\"Preprocessing data for training....\")"
   ]
  },
  {
   "cell_type": "code",
   "execution_count": 9,
   "id": "39b7403d",
   "metadata": {},
   "outputs": [],
   "source": [
    "img_train = img_train.reshape(img_train.shape[0], img_train.shape[1], img_train.shape[2], 1)\n",
    "img_test = img_test.reshape(img_test.shape[0], img_test.shape[1], img_test.shape[2], 1)"
   ]
  },
  {
   "cell_type": "code",
   "execution_count": 10,
   "id": "fc3cd634",
   "metadata": {},
   "outputs": [],
   "source": [
    "img_train = img_train / 255\n",
    "img_test = img_test / 255"
   ]
  },
  {
   "cell_type": "code",
   "execution_count": 11,
   "id": "328a45c7",
   "metadata": {},
   "outputs": [],
   "source": [
    "img_train = img_train.astype('float32')\n",
    "img_test = img_test.astype('float32')"
   ]
  },
  {
   "cell_type": "code",
   "execution_count": 12,
   "id": "f4b794df",
   "metadata": {},
   "outputs": [
    {
     "name": "stdout",
     "output_type": "stream",
     "text": [
      "Train shape (5250, 50, 50, 1)\n",
      "Test shape (688, 50, 50, 1)\n"
     ]
    }
   ],
   "source": [
    "print(\"Train shape\", img_train.shape)\n",
    "print(\"Test shape\", img_test.shape)"
   ]
  },
  {
   "cell_type": "code",
   "execution_count": 13,
   "id": "71889340",
   "metadata": {},
   "outputs": [
    {
     "name": "stdout",
     "output_type": "stream",
     "text": [
      "Epochs :  100\n",
      "Batch size :  32\n"
     ]
    }
   ],
   "source": [
    "epochs = 100\n",
    "batch = 32\n",
    "\n",
    "print(\"Epochs : \",epochs)\n",
    "print(\"Batch size : \",batch)"
   ]
  },
  {
   "cell_type": "code",
   "execution_count": 14,
   "id": "5ee57bb7",
   "metadata": {},
   "outputs": [],
   "source": [
    "model = Sequential()\n",
    "model.add(Conv2D(64, kernel_size=5, activation='relu'))\n",
    "model.add(MaxPool2D(pool_size=2))\n",
    "model.add(Dropout(0.3))\n",
    "model.add(Conv2D(128, kernel_size=5, activation='relu'))\n",
    "model.add(MaxPool2D(pool_size=2))\n",
    "model.add(Dropout(0.3))\n",
    "model.add(Conv2D(256, kernel_size=5, activation='relu'))\n",
    "model.add(MaxPool2D(pool_size=2))\n",
    "model.add(Dropout(0.3))\n",
    "model.add(Flatten())\n",
    "model.add(Dense(128, activation='relu'))\n",
    "model.add(Dense(256, activation='relu'))\n",
    "model.add(Dense(31, activation='softmax'))\n"
   ]
  },
  {
   "cell_type": "code",
   "execution_count": 15,
   "id": "4efa1f76",
   "metadata": {},
   "outputs": [],
   "source": [
    "model.compile(optimizer=tensorflow.keras.optimizers.Adam(learning_rate=0.0001),\n",
    "             loss=tensorflow.keras.losses.sparse_categorical_crossentropy, metrics=['accuracy'])"
   ]
  },
  {
   "cell_type": "code",
   "execution_count": 16,
   "id": "2bc8b257",
   "metadata": {
    "scrolled": false
   },
   "outputs": [
    {
     "name": "stdout",
     "output_type": "stream",
     "text": [
      "Training....\n",
      "Epoch 1/100\n",
      "165/165 [==============================] - 2s 10ms/step - loss: 3.4177 - accuracy: 0.0377 - val_loss: 3.3981 - val_accuracy: 0.0538\n",
      "Epoch 2/100\n",
      "165/165 [==============================] - 1s 9ms/step - loss: 3.3135 - accuracy: 0.0857 - val_loss: 3.1863 - val_accuracy: 0.0988\n",
      "Epoch 3/100\n",
      "165/165 [==============================] - 1s 9ms/step - loss: 2.9796 - accuracy: 0.1731 - val_loss: 2.7074 - val_accuracy: 0.2544\n",
      "Epoch 4/100\n",
      "165/165 [==============================] - 1s 9ms/step - loss: 2.5778 - accuracy: 0.2636 - val_loss: 2.3887 - val_accuracy: 0.3140\n",
      "Epoch 5/100\n",
      "165/165 [==============================] - 1s 9ms/step - loss: 2.2373 - accuracy: 0.3533 - val_loss: 2.0162 - val_accuracy: 0.4041\n",
      "Epoch 6/100\n",
      "165/165 [==============================] - 1s 9ms/step - loss: 1.9502 - accuracy: 0.4145 - val_loss: 1.7707 - val_accuracy: 0.4622\n",
      "Epoch 7/100\n",
      "165/165 [==============================] - 1s 9ms/step - loss: 1.7297 - accuracy: 0.4802 - val_loss: 1.5187 - val_accuracy: 0.5640\n",
      "Epoch 8/100\n",
      "165/165 [==============================] - 1s 9ms/step - loss: 1.5214 - accuracy: 0.5488 - val_loss: 1.3467 - val_accuracy: 0.6119\n",
      "Epoch 9/100\n",
      "165/165 [==============================] - 1s 9ms/step - loss: 1.3923 - accuracy: 0.5804 - val_loss: 1.2280 - val_accuracy: 0.6497\n",
      "Epoch 10/100\n",
      "165/165 [==============================] - 1s 9ms/step - loss: 1.2245 - accuracy: 0.6337 - val_loss: 1.1086 - val_accuracy: 0.6890\n",
      "Epoch 11/100\n",
      "165/165 [==============================] - 1s 9ms/step - loss: 1.1257 - accuracy: 0.6600 - val_loss: 1.0031 - val_accuracy: 0.7108\n",
      "Epoch 12/100\n",
      "165/165 [==============================] - 1s 9ms/step - loss: 1.0499 - accuracy: 0.6888 - val_loss: 0.9070 - val_accuracy: 0.7456\n",
      "Epoch 13/100\n",
      "165/165 [==============================] - 1s 9ms/step - loss: 0.9417 - accuracy: 0.7099 - val_loss: 0.8236 - val_accuracy: 0.7674\n",
      "Epoch 14/100\n",
      "165/165 [==============================] - 1s 9ms/step - loss: 0.8776 - accuracy: 0.7320 - val_loss: 0.7607 - val_accuracy: 0.7980\n",
      "Epoch 15/100\n",
      "165/165 [==============================] - 1s 9ms/step - loss: 0.8107 - accuracy: 0.7507 - val_loss: 0.7600 - val_accuracy: 0.7820\n",
      "Epoch 16/100\n",
      "165/165 [==============================] - 1s 9ms/step - loss: 0.7293 - accuracy: 0.7745 - val_loss: 0.7107 - val_accuracy: 0.7965\n",
      "Epoch 17/100\n",
      "165/165 [==============================] - 1s 9ms/step - loss: 0.6693 - accuracy: 0.7931 - val_loss: 0.6452 - val_accuracy: 0.8183\n",
      "Epoch 18/100\n",
      "165/165 [==============================] - 1s 9ms/step - loss: 0.7000 - accuracy: 0.7931 - val_loss: 0.6084 - val_accuracy: 0.8401\n",
      "Epoch 19/100\n",
      "165/165 [==============================] - 1s 9ms/step - loss: 0.5953 - accuracy: 0.8187 - val_loss: 0.5822 - val_accuracy: 0.8416\n",
      "Epoch 20/100\n",
      "165/165 [==============================] - 1s 9ms/step - loss: 0.5474 - accuracy: 0.8320 - val_loss: 0.5557 - val_accuracy: 0.8445\n",
      "Epoch 21/100\n",
      "165/165 [==============================] - 1s 9ms/step - loss: 0.5140 - accuracy: 0.8392 - val_loss: 0.5021 - val_accuracy: 0.8765\n",
      "Epoch 22/100\n",
      "165/165 [==============================] - 1s 9ms/step - loss: 0.4938 - accuracy: 0.8434 - val_loss: 0.5021 - val_accuracy: 0.8779\n",
      "Epoch 23/100\n",
      "165/165 [==============================] - 1s 9ms/step - loss: 0.4423 - accuracy: 0.8670 - val_loss: 0.4773 - val_accuracy: 0.8794\n",
      "Epoch 24/100\n",
      "165/165 [==============================] - 1s 9ms/step - loss: 0.4332 - accuracy: 0.8707 - val_loss: 0.4689 - val_accuracy: 0.8837\n",
      "Epoch 25/100\n",
      "165/165 [==============================] - 1s 9ms/step - loss: 0.3996 - accuracy: 0.8815 - val_loss: 0.4351 - val_accuracy: 0.8794\n",
      "Epoch 26/100\n",
      "165/165 [==============================] - 1s 9ms/step - loss: 0.3830 - accuracy: 0.8829 - val_loss: 0.4219 - val_accuracy: 0.8837\n",
      "Epoch 27/100\n",
      "165/165 [==============================] - 1s 9ms/step - loss: 0.3537 - accuracy: 0.8869 - val_loss: 0.4218 - val_accuracy: 0.8808\n",
      "Epoch 28/100\n",
      "165/165 [==============================] - 1s 9ms/step - loss: 0.3334 - accuracy: 0.8968 - val_loss: 0.3889 - val_accuracy: 0.8808\n",
      "Epoch 29/100\n",
      "165/165 [==============================] - 1s 9ms/step - loss: 0.3240 - accuracy: 0.8990 - val_loss: 0.3875 - val_accuracy: 0.8895\n",
      "Epoch 30/100\n",
      "165/165 [==============================] - 1s 9ms/step - loss: 0.3071 - accuracy: 0.9013 - val_loss: 0.3839 - val_accuracy: 0.9055\n",
      "Epoch 31/100\n",
      "165/165 [==============================] - 1s 9ms/step - loss: 0.2913 - accuracy: 0.9107 - val_loss: 0.3497 - val_accuracy: 0.9084\n",
      "Epoch 32/100\n",
      "165/165 [==============================] - 1s 9ms/step - loss: 0.3239 - accuracy: 0.9046 - val_loss: 0.3554 - val_accuracy: 0.9012\n",
      "Epoch 33/100\n",
      "165/165 [==============================] - 1s 9ms/step - loss: 0.2635 - accuracy: 0.9170 - val_loss: 0.3385 - val_accuracy: 0.9128\n",
      "Epoch 34/100\n",
      "165/165 [==============================] - 1s 9ms/step - loss: 0.2690 - accuracy: 0.9147 - val_loss: 0.3393 - val_accuracy: 0.9055\n",
      "Epoch 35/100\n",
      "165/165 [==============================] - 1s 9ms/step - loss: 0.2339 - accuracy: 0.9280 - val_loss: 0.3557 - val_accuracy: 0.9084\n",
      "Epoch 36/100\n",
      "165/165 [==============================] - 1s 9ms/step - loss: 0.2212 - accuracy: 0.9322 - val_loss: 0.3155 - val_accuracy: 0.9157\n",
      "Epoch 37/100\n",
      "165/165 [==============================] - 1s 9ms/step - loss: 0.2061 - accuracy: 0.9385 - val_loss: 0.3412 - val_accuracy: 0.9128\n",
      "Epoch 38/100\n",
      "165/165 [==============================] - 1s 9ms/step - loss: 0.2147 - accuracy: 0.9312 - val_loss: 0.3071 - val_accuracy: 0.9186\n",
      "Epoch 39/100\n",
      "165/165 [==============================] - 1s 9ms/step - loss: 0.2283 - accuracy: 0.9330 - val_loss: 0.3231 - val_accuracy: 0.9128\n",
      "Epoch 40/100\n",
      "165/165 [==============================] - 1s 9ms/step - loss: 0.1938 - accuracy: 0.9400 - val_loss: 0.3084 - val_accuracy: 0.9157\n",
      "Epoch 41/100\n",
      "165/165 [==============================] - 1s 9ms/step - loss: 0.1730 - accuracy: 0.9467 - val_loss: 0.2739 - val_accuracy: 0.9230\n",
      "Epoch 42/100\n",
      "165/165 [==============================] - 1s 9ms/step - loss: 0.1977 - accuracy: 0.9423 - val_loss: 0.2923 - val_accuracy: 0.9273\n",
      "Epoch 43/100\n",
      "165/165 [==============================] - 1s 9ms/step - loss: 0.1600 - accuracy: 0.9526 - val_loss: 0.3077 - val_accuracy: 0.9230\n",
      "Epoch 44/100\n",
      "165/165 [==============================] - 1s 9ms/step - loss: 0.1541 - accuracy: 0.9531 - val_loss: 0.2934 - val_accuracy: 0.9302\n",
      "Epoch 45/100\n",
      "165/165 [==============================] - 1s 9ms/step - loss: 0.1542 - accuracy: 0.9524 - val_loss: 0.2953 - val_accuracy: 0.9317\n",
      "Epoch 46/100\n",
      "165/165 [==============================] - 1s 9ms/step - loss: 0.1446 - accuracy: 0.9592 - val_loss: 0.2980 - val_accuracy: 0.9230\n",
      "Epoch 47/100\n",
      "165/165 [==============================] - 1s 9ms/step - loss: 0.1465 - accuracy: 0.9566 - val_loss: 0.2936 - val_accuracy: 0.9346\n",
      "Epoch 48/100\n",
      "165/165 [==============================] - 1s 9ms/step - loss: 0.1230 - accuracy: 0.9615 - val_loss: 0.2631 - val_accuracy: 0.9419\n",
      "Epoch 49/100\n",
      "165/165 [==============================] - 1s 9ms/step - loss: 0.1312 - accuracy: 0.9575 - val_loss: 0.2595 - val_accuracy: 0.9360\n",
      "Epoch 50/100\n",
      "165/165 [==============================] - 1s 9ms/step - loss: 0.1194 - accuracy: 0.9650 - val_loss: 0.2912 - val_accuracy: 0.9346\n",
      "Epoch 51/100\n",
      "165/165 [==============================] - 1s 9ms/step - loss: 0.1277 - accuracy: 0.9606 - val_loss: 0.3231 - val_accuracy: 0.9230\n",
      "Epoch 52/100\n",
      "165/165 [==============================] - 1s 9ms/step - loss: 0.1280 - accuracy: 0.9596 - val_loss: 0.3110 - val_accuracy: 0.9273\n",
      "Epoch 53/100\n",
      "165/165 [==============================] - 1s 9ms/step - loss: 0.1179 - accuracy: 0.9634 - val_loss: 0.2859 - val_accuracy: 0.9346\n",
      "Epoch 54/100\n",
      "165/165 [==============================] - 1s 9ms/step - loss: 0.1254 - accuracy: 0.9617 - val_loss: 0.2609 - val_accuracy: 0.9448\n",
      "Epoch 55/100\n",
      "165/165 [==============================] - 1s 9ms/step - loss: 0.1030 - accuracy: 0.9690 - val_loss: 0.2876 - val_accuracy: 0.9390\n",
      "Epoch 56/100\n",
      "165/165 [==============================] - 1s 9ms/step - loss: 0.1084 - accuracy: 0.9670 - val_loss: 0.2924 - val_accuracy: 0.9390\n",
      "Epoch 57/100\n",
      "165/165 [==============================] - 1s 9ms/step - loss: 0.0879 - accuracy: 0.9714 - val_loss: 0.2604 - val_accuracy: 0.9477\n"
     ]
    },
    {
     "name": "stdout",
     "output_type": "stream",
     "text": [
      "Epoch 58/100\n",
      "165/165 [==============================] - 1s 9ms/step - loss: 0.1009 - accuracy: 0.9693 - val_loss: 0.2777 - val_accuracy: 0.9346\n",
      "Epoch 59/100\n",
      "165/165 [==============================] - 1s 9ms/step - loss: 0.1020 - accuracy: 0.9690 - val_loss: 0.2761 - val_accuracy: 0.9346\n",
      "Epoch 60/100\n",
      "165/165 [==============================] - 1s 9ms/step - loss: 0.0841 - accuracy: 0.9758 - val_loss: 0.3515 - val_accuracy: 0.9201\n",
      "Epoch 61/100\n",
      "165/165 [==============================] - 1s 9ms/step - loss: 0.0927 - accuracy: 0.9691 - val_loss: 0.2553 - val_accuracy: 0.9419\n",
      "Epoch 62/100\n",
      "165/165 [==============================] - 1s 9ms/step - loss: 0.0895 - accuracy: 0.9726 - val_loss: 0.2671 - val_accuracy: 0.9448\n",
      "Epoch 63/100\n",
      "165/165 [==============================] - 1s 9ms/step - loss: 0.0731 - accuracy: 0.9773 - val_loss: 0.2630 - val_accuracy: 0.9419\n",
      "Epoch 64/100\n",
      "165/165 [==============================] - 1s 9ms/step - loss: 0.0778 - accuracy: 0.9773 - val_loss: 0.2495 - val_accuracy: 0.9404\n",
      "Epoch 65/100\n",
      "165/165 [==============================] - 1s 9ms/step - loss: 0.0813 - accuracy: 0.9771 - val_loss: 0.2422 - val_accuracy: 0.9419\n",
      "Epoch 66/100\n",
      "165/165 [==============================] - 1s 9ms/step - loss: 0.0848 - accuracy: 0.9749 - val_loss: 0.2647 - val_accuracy: 0.9390\n",
      "Epoch 67/100\n",
      "165/165 [==============================] - 1s 9ms/step - loss: 0.1029 - accuracy: 0.9695 - val_loss: 0.2438 - val_accuracy: 0.9433\n",
      "Epoch 68/100\n",
      "165/165 [==============================] - 1s 9ms/step - loss: 0.0803 - accuracy: 0.9770 - val_loss: 0.2940 - val_accuracy: 0.9433\n",
      "Epoch 69/100\n",
      "165/165 [==============================] - 1s 9ms/step - loss: 0.0657 - accuracy: 0.9802 - val_loss: 0.3083 - val_accuracy: 0.9404\n",
      "Epoch 70/100\n",
      "165/165 [==============================] - 1s 9ms/step - loss: 0.0697 - accuracy: 0.9781 - val_loss: 0.2471 - val_accuracy: 0.9520\n",
      "Epoch 71/100\n",
      "165/165 [==============================] - 1s 9ms/step - loss: 0.0665 - accuracy: 0.9779 - val_loss: 0.2951 - val_accuracy: 0.9360\n",
      "Epoch 72/100\n",
      "165/165 [==============================] - 1s 9ms/step - loss: 0.0652 - accuracy: 0.9787 - val_loss: 0.2812 - val_accuracy: 0.9462\n",
      "Epoch 73/100\n",
      "165/165 [==============================] - 1s 9ms/step - loss: 0.0716 - accuracy: 0.9789 - val_loss: 0.2579 - val_accuracy: 0.9549\n",
      "Epoch 74/100\n",
      "165/165 [==============================] - 1s 9ms/step - loss: 0.0595 - accuracy: 0.9829 - val_loss: 0.2954 - val_accuracy: 0.9433\n",
      "Epoch 75/100\n",
      "165/165 [==============================] - 2s 9ms/step - loss: 0.0612 - accuracy: 0.9792 - val_loss: 0.2999 - val_accuracy: 0.9346\n",
      "Epoch 76/100\n",
      "165/165 [==============================] - 1s 9ms/step - loss: 0.0653 - accuracy: 0.9806 - val_loss: 0.2988 - val_accuracy: 0.9390\n",
      "Epoch 77/100\n",
      "165/165 [==============================] - 1s 9ms/step - loss: 0.0616 - accuracy: 0.9794 - val_loss: 0.2754 - val_accuracy: 0.9419\n",
      "Epoch 78/100\n",
      "165/165 [==============================] - 1s 9ms/step - loss: 0.0637 - accuracy: 0.9808 - val_loss: 0.2574 - val_accuracy: 0.9477\n",
      "Epoch 79/100\n",
      "165/165 [==============================] - 1s 9ms/step - loss: 0.0582 - accuracy: 0.9842 - val_loss: 0.2427 - val_accuracy: 0.9520\n",
      "Epoch 80/100\n",
      "165/165 [==============================] - 1s 9ms/step - loss: 0.0584 - accuracy: 0.9817 - val_loss: 0.2592 - val_accuracy: 0.9506\n",
      "Epoch 81/100\n",
      "165/165 [==============================] - 1s 9ms/step - loss: 0.0512 - accuracy: 0.9842 - val_loss: 0.2563 - val_accuracy: 0.9506\n",
      "Epoch 82/100\n",
      "165/165 [==============================] - 1s 9ms/step - loss: 0.0423 - accuracy: 0.9870 - val_loss: 0.2855 - val_accuracy: 0.9433\n",
      "Epoch 83/100\n",
      "165/165 [==============================] - 2s 9ms/step - loss: 0.0625 - accuracy: 0.9804 - val_loss: 0.2806 - val_accuracy: 0.9462\n",
      "Epoch 84/100\n",
      "165/165 [==============================] - 1s 9ms/step - loss: 0.0543 - accuracy: 0.9836 - val_loss: 0.2720 - val_accuracy: 0.9491\n",
      "Epoch 85/100\n",
      "165/165 [==============================] - 1s 9ms/step - loss: 0.0454 - accuracy: 0.9869 - val_loss: 0.2903 - val_accuracy: 0.9520\n",
      "Epoch 86/100\n",
      "165/165 [==============================] - 2s 9ms/step - loss: 0.0489 - accuracy: 0.9867 - val_loss: 0.2843 - val_accuracy: 0.9491\n",
      "Epoch 87/100\n",
      "165/165 [==============================] - 1s 9ms/step - loss: 0.0464 - accuracy: 0.9870 - val_loss: 0.2728 - val_accuracy: 0.9506\n",
      "Epoch 88/100\n",
      "165/165 [==============================] - 1s 9ms/step - loss: 0.0407 - accuracy: 0.9891 - val_loss: 0.3063 - val_accuracy: 0.9419\n",
      "Epoch 89/100\n",
      "165/165 [==============================] - 1s 9ms/step - loss: 0.0505 - accuracy: 0.9821 - val_loss: 0.2795 - val_accuracy: 0.9462\n",
      "Epoch 90/100\n",
      "165/165 [==============================] - 1s 9ms/step - loss: 0.0517 - accuracy: 0.9846 - val_loss: 0.2797 - val_accuracy: 0.9520\n",
      "Epoch 91/100\n",
      "165/165 [==============================] - 1s 9ms/step - loss: 0.0455 - accuracy: 0.9840 - val_loss: 0.2757 - val_accuracy: 0.9520\n",
      "Epoch 92/100\n",
      "165/165 [==============================] - 1s 9ms/step - loss: 0.0435 - accuracy: 0.9874 - val_loss: 0.2839 - val_accuracy: 0.9506\n",
      "Epoch 93/100\n",
      "165/165 [==============================] - 1s 9ms/step - loss: 0.0522 - accuracy: 0.9850 - val_loss: 0.3340 - val_accuracy: 0.9404\n",
      "Epoch 94/100\n",
      "165/165 [==============================] - 1s 9ms/step - loss: 0.0426 - accuracy: 0.9853 - val_loss: 0.2860 - val_accuracy: 0.9491\n",
      "Epoch 95/100\n",
      "165/165 [==============================] - 1s 9ms/step - loss: 0.0349 - accuracy: 0.9897 - val_loss: 0.2701 - val_accuracy: 0.9520\n",
      "Epoch 96/100\n",
      "165/165 [==============================] - 2s 9ms/step - loss: 0.0393 - accuracy: 0.9890 - val_loss: 0.2969 - val_accuracy: 0.9535\n",
      "Epoch 97/100\n",
      "165/165 [==============================] - 2s 9ms/step - loss: 0.0477 - accuracy: 0.9863 - val_loss: 0.3054 - val_accuracy: 0.9520\n",
      "Epoch 98/100\n",
      "165/165 [==============================] - 1s 9ms/step - loss: 0.0390 - accuracy: 0.9874 - val_loss: 0.2721 - val_accuracy: 0.9564\n",
      "Epoch 99/100\n",
      "165/165 [==============================] - 1s 9ms/step - loss: 0.0400 - accuracy: 0.9878 - val_loss: 0.2857 - val_accuracy: 0.9549\n",
      "Epoch 100/100\n",
      "165/165 [==============================] - 1s 9ms/step - loss: 0.0388 - accuracy: 0.9882 - val_loss: 0.2543 - val_accuracy: 0.9578\n"
     ]
    }
   ],
   "source": [
    "print(\"Training....\")\n",
    "acc = model.fit(img_train, lbl_train, epochs=epochs, batch_size=batch, validation_data=(img_test, lbl_test))"
   ]
  },
  {
   "cell_type": "code",
   "execution_count": 17,
   "id": "3f7111a0",
   "metadata": {},
   "outputs": [
    {
     "name": "stdout",
     "output_type": "stream",
     "text": [
      "22/22 [==============================] - 0s 3ms/step - loss: 0.2543 - accuracy: 0.9578\n"
     ]
    }
   ],
   "source": [
    "score = model.evaluate(img_test, lbl_test)"
   ]
  },
  {
   "cell_type": "code",
   "execution_count": 18,
   "id": "36b1b3b1",
   "metadata": {},
   "outputs": [
    {
     "data": {
      "text/plain": [
       "<Figure size 576x360 with 0 Axes>"
      ]
     },
     "metadata": {},
     "output_type": "display_data"
    },
    {
     "data": {
      "image/png": "[encoded data removed]",
      "text/plain": [
       "<Figure size 432x288 with 1 Axes>"
      ]
     },
     "metadata": {
      "needs_background": "light"
     },
     "output_type": "display_data"
    }
   ],
   "source": [
    "plt.figure(figsize=(8,5))\n",
    "pd.DataFrame(acc.history).plot()\n",
    "plt.show()"
   ]
  },
  {
   "cell_type": "code",
   "execution_count": 19,
   "id": "958c90a9",
   "metadata": {
    "scrolled": false
   },
   "outputs": [
    {
     "name": "stdout",
     "output_type": "stream",
     "text": [
      "Model: \"sequential\"\n",
      "_________________________________________________________________\n",
      " Layer (type)                Output Shape              Param #   \n",
      "=================================================================\n",
      " conv2d (Conv2D)             (None, 46, 46, 64)        1664      \n",
      "                                                                 \n",
      " max_pooling2d (MaxPooling2D  (None, 23, 23, 64)       0         \n",
      " )                                                               \n",
      "                                                                 \n",
      " dropout (Dropout)           (None, 23, 23, 64)        0         \n",
      "                                                                 \n",
      " conv2d_1 (Conv2D)           (None, 19, 19, 128)       204928    \n",
      "                                                                 \n",
      " max_pooling2d_1 (MaxPooling  (None, 9, 9, 128)        0         \n",
      " 2D)                                                             \n",
      "                                                                 \n",
      " dropout_1 (Dropout)         (None, 9, 9, 128)         0         \n",
      "                                                                 \n",
      " conv2d_2 (Conv2D)           (None, 5, 5, 256)         819456    \n",
      "                                                                 \n",
      " max_pooling2d_2 (MaxPooling  (None, 2, 2, 256)        0         \n",
      " 2D)                                                             \n",
      "                                                                 \n",
      " dropout_2 (Dropout)         (None, 2, 2, 256)         0         \n",
      "                                                                 \n",
      " flatten (Flatten)           (None, 1024)              0         \n",
      "                                                                 \n",
      " dense (Dense)               (None, 128)               131200    \n",
      "                                                                 \n",
      " dense_1 (Dense)             (None, 256)               33024     \n",
      "                                                                 \n",
      " dense_2 (Dense)             (None, 31)                7967      \n",
      "                                                                 \n",
      "=================================================================\n",
      "Total params: 1,198,239\n",
      "Trainable params: 1,198,239\n",
      "Non-trainable params: 0\n",
      "_________________________________________________________________\n",
      "None\n",
      "Loss :  0.2542757987976074\n",
      "Accuracy : 0.957848846912384\n"
     ]
    }
   ],
   "source": [
    "print(model.summary()) \n",
    "print('Loss : ', score[0])\n",
    "print('Accuracy :',score[1])"
   ]
  },
  {
   "cell_type": "code",
   "execution_count": 20,
   "id": "6935283f",
   "metadata": {},
   "outputs": [
    {
     "name": "stdout",
     "output_type": "stream",
     "text": [
      "Model saved\n"
     ]
    }
   ],
   "source": [
    "model.save('../model.h5')\n",
    "print(\"Model saved\")"
   ]
  },
  {
   "cell_type": "code",
   "execution_count": null,
   "id": "26f9a198",
   "metadata": {},
   "outputs": [],
   "source": []
  }
 ],
 "metadata": {
  "kernelspec": {
   "display_name": "Python 3 (ipykernel)",
   "language": "python",
   "name": "python3"
  },
  "language_info": {
   "codemirror_mode": {
    "name": "ipython",
    "version": 3
   },
   "file_extension": ".py",
   "mimetype": "text/x-python",
   "name": "python",
   "nbconvert_exporter": "python",
   "pygments_lexer": "ipython3",
   "version": "3.9.12"
  },
  "vscode": {
   "interpreter": {
    "hash": "429daceb1b7ca5b0fd445a5943d4d38a9d461d446f33489cc90d4dffb75cd92c"
   }
  }
 },
 "nbformat": 4,
 "nbformat_minor": 5
}
