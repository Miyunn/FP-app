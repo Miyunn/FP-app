{
 "cells": [
  {
   "cell_type": "code",
   "execution_count": 1,
   "id": "3187014a",
   "metadata": {},
   "outputs": [],
   "source": [
    "import tensorflow.keras\n",
    "import pandas as pd\n",
    "from tensorflow.keras.models import Sequential\n",
    "from tensorflow.keras.layers import Conv2D, MaxPool2D, Flatten, Dense, Dropout\n",
    "from tensorflow.keras.utils import to_categorical\n",
    "import matplotlib.pyplot as plt\n",
    "import numpy as np\n",
    "import cv2\n",
    "import os"
   ]
  },
  {
   "cell_type": "code",
   "execution_count": 2,
   "id": "dec0fbb7",
   "metadata": {},
   "outputs": [
    {
     "name": "stdout",
     "output_type": "stream",
     "text": [
      "Importing data from directory...\n"
     ]
    }
   ],
   "source": [
    "print(\"Importing data from directory...\")\n",
    "\n",
    "path = \"dataset/train/\"\n",
    "path_test = \"dataset/test/\"\n",
    "files = os.listdir(path)[:31]\n",
    "files_test = os.listdir(path_test)[:31]\n",
    "\n",
    "classes={'1':0, '2':1, '3':2, '4':3, '5':4, '6':5, '7':6, '8':7, '9':8, '10':9, '11':10, '12':11, '25':12, '38':13, '51':14,\n",
    "        '64':15, '77':16, '90':17, '93':18, '105':19, '120':20, '134':21, '149':22, '164':23, '179':24, '190':25, '198':26,\n",
    "        '208':27, '250':28, '264':29, '274':30 }\n"
   ]
  },
  {
   "cell_type": "code",
   "execution_count": 3,
   "id": "fb5ea3bb",
   "metadata": {},
   "outputs": [
    {
     "name": "stdout",
     "output_type": "stream",
     "text": [
      "Labeling train data...\n"
     ]
    }
   ],
   "source": [
    "print(\"Labeling train data...\")\n",
    "img_train=[]\n",
    "lbl_train=[]\n",
    "\n",
    "for cl in classes:\n",
    "    pth = path+cl\n",
    "    for img_name in os.listdir(pth):\n",
    "        img = cv2.imread(pth+\"/\"+img_name,0)\n",
    "        img_train.append(img)\n",
    "        lbl_train.append(classes[cl])"
   ]
  },
  {
   "cell_type": "code",
   "execution_count": 4,
   "id": "17926f9a",
   "metadata": {},
   "outputs": [
    {
     "name": "stdout",
     "output_type": "stream",
     "text": [
      "Labeling test data...\n"
     ]
    }
   ],
   "source": [
    "print(\"Labeling test data...\")\n",
    "img_test=[]\n",
    "lbl_test=[]\n",
    "\n",
    "for cl in classes:\n",
    "    pth = path_test+cl\n",
    "    for img_name in os.listdir(pth):\n",
    "        img = cv2.imread(pth+\"/\"+img_name,0)\n",
    "        img_test.append(img)\n",
    "        lbl_test.append(classes[cl])"
   ]
  },
  {
   "cell_type": "code",
   "execution_count": 5,
   "id": "392af76c",
   "metadata": {},
   "outputs": [
    {
     "name": "stdout",
     "output_type": "stream",
     "text": [
      "converting to np array\n",
      "5250\n"
     ]
    }
   ],
   "source": [
    "print(\"converting to np array\")\n",
    "\n",
    "img_train = np.array(img_train)\n",
    "lbl_train = np.array(lbl_train)\n",
    "\n",
    "img_test = np.array(img_test)\n",
    "lbl_test = np.array(lbl_test)\n",
    "\n",
    "save_size = lbl_train.size\n",
    "\n",
    "print(save_size)"
   ]
  },
  {
   "cell_type": "code",
   "execution_count": 6,
   "id": "3cc3280e",
   "metadata": {},
   "outputs": [
    {
     "name": "stdout",
     "output_type": "stream",
     "text": [
      "Saved for updating\n"
     ]
    }
   ],
   "source": [
    "np.save('../data/images', img_train)\n",
    "np.save('../data/labels', lbl_train)\n",
    "np.save('../data/size', save_size)\n",
    "print(\"Saved for updating\")"
   ]
  },
  {
   "cell_type": "code",
   "execution_count": 7,
   "id": "457c0521",
   "metadata": {},
   "outputs": [
    {
     "name": "stdout",
     "output_type": "stream",
     "text": [
      "0\n"
     ]
    },
    {
     "data": {
      "image/png": "[encoded data removed]",
      "text/plain": [
       "<Figure size 432x288 with 1 Axes>"
      ]
     },
     "metadata": {
      "needs_background": "light"
     },
     "output_type": "display_data"
    }
   ],
   "source": [
    "plt.imshow(img_train[1], cmap='gray')\n",
    "print(lbl_train[1])"
   ]
  },
  {
   "cell_type": "code",
   "execution_count": 8,
   "id": "8eef341d",
   "metadata": {},
   "outputs": [
    {
     "name": "stdout",
     "output_type": "stream",
     "text": [
      "Preprocessing data for training....\n"
     ]
    }
   ],
   "source": [
    "print(\"Preprocessing data for training....\")"
   ]
  },
  {
   "cell_type": "code",
   "execution_count": 9,
   "id": "39b7403d",
   "metadata": {},
   "outputs": [],
   "source": [
    "img_train = img_train.reshape(img_train.shape[0], img_train.shape[1], img_train.shape[2], 1)\n",
    "img_test = img_test.reshape(img_test.shape[0], img_test.shape[1], img_test.shape[2], 1)"
   ]
  },
  {
   "cell_type": "code",
   "execution_count": 10,
   "id": "fc3cd634",
   "metadata": {},
   "outputs": [],
   "source": [
    "img_train = img_train / 255\n",
    "img_test = img_test / 255"
   ]
  },
  {
   "cell_type": "code",
   "execution_count": 11,
   "id": "328a45c7",
   "metadata": {},
   "outputs": [],
   "source": [
    "img_train = img_train.astype('float32')\n",
    "img_test = img_test.astype('float32')"
   ]
  },
  {
   "cell_type": "code",
   "execution_count": 12,
   "id": "f4b794df",
   "metadata": {},
   "outputs": [
    {
     "name": "stdout",
     "output_type": "stream",
     "text": [
      "Train shape (5250, 50, 50, 1)\n",
      "Test shape (688, 50, 50, 1)\n"
     ]
    }
   ],
   "source": [
    "print(\"Train shape\", img_train.shape)\n",
    "print(\"Test shape\", img_test.shape)"
   ]
  },
  {
   "cell_type": "code",
   "execution_count": 13,
   "id": "71889340",
   "metadata": {},
   "outputs": [
    {
     "name": "stdout",
     "output_type": "stream",
     "text": [
      "Epochs :  100\n",
      "Batch size :  32\n"
     ]
    }
   ],
   "source": [
    "epochs = 100\n",
    "batch = 32\n",
    "\n",
    "print(\"Epochs : \",epochs)\n",
    "print(\"Batch size : \",batch)"
   ]
  },
  {
   "cell_type": "code",
   "execution_count": 14,
   "id": "5ee57bb7",
   "metadata": {},
   "outputs": [],
   "source": [
    "model = Sequential()\n",
    "model.add(Conv2D(64, kernel_size=5, activation='relu'))\n",
    "model.add(MaxPool2D(pool_size=2))\n",
    "model.add(Dropout(0.3))\n",
    "model.add(Conv2D(128, kernel_size=5, activation='relu'))\n",
    "model.add(MaxPool2D(pool_size=2))\n",
    "model.add(Dropout(0.3))\n",
    "model.add(Conv2D(256, kernel_size=5, activation='relu'))\n",
    "model.add(MaxPool2D(pool_size=2))\n",
    "model.add(Dropout(0.3))\n",
    "model.add(Flatten())\n",
    "model.add(Dense(128, activation='relu'))\n",
    "model.add(Dense(256, activation='relu'))\n",
    "model.add(Dense(31, activation='softmax'))\n"
   ]
  },
  {
   "cell_type": "code",
   "execution_count": 15,
   "id": "4efa1f76",
   "metadata": {},
   "outputs": [],
   "source": [
    "model.compile(optimizer=tensorflow.keras.optimizers.RMSprop(learning_rate=0.001),\n",
    "             loss=tensorflow.keras.losses.sparse_categorical_crossentropy, metrics=['accuracy'])"
   ]
  },
  {
   "cell_type": "code",
   "execution_count": 16,
   "id": "2bc8b257",
   "metadata": {},
   "outputs": [
    {
     "name": "stdout",
     "output_type": "stream",
     "text": [
      "Training....\n",
      "Epoch 1/100\n",
      "165/165 [==============================] - 3s 10ms/step - loss: 3.0918 - accuracy: 0.1324 - val_loss: 2.4969 - val_accuracy: 0.2311\n",
      "Epoch 2/100\n",
      "165/165 [==============================] - 2s 9ms/step - loss: 1.9186 - accuracy: 0.4171 - val_loss: 2.1522 - val_accuracy: 0.3517\n",
      "Epoch 3/100\n",
      "165/165 [==============================] - 2s 9ms/step - loss: 1.2626 - accuracy: 0.5979 - val_loss: 1.1451 - val_accuracy: 0.6279\n",
      "Epoch 4/100\n",
      "165/165 [==============================] - 2s 9ms/step - loss: 0.8899 - accuracy: 0.7240 - val_loss: 1.0299 - val_accuracy: 0.6817\n",
      "Epoch 5/100\n",
      "165/165 [==============================] - 2s 10ms/step - loss: 0.6730 - accuracy: 0.7848 - val_loss: 0.9458 - val_accuracy: 0.7093\n",
      "Epoch 6/100\n",
      "165/165 [==============================] - 2s 9ms/step - loss: 0.5060 - accuracy: 0.8392 - val_loss: 0.4274 - val_accuracy: 0.8561\n",
      "Epoch 7/100\n",
      "165/165 [==============================] - 2s 9ms/step - loss: 0.4109 - accuracy: 0.8705 - val_loss: 0.3797 - val_accuracy: 0.8866\n",
      "Epoch 8/100\n",
      "165/165 [==============================] - 2s 9ms/step - loss: 0.3274 - accuracy: 0.8966 - val_loss: 0.3668 - val_accuracy: 0.9055\n",
      "Epoch 9/100\n",
      "165/165 [==============================] - 2s 10ms/step - loss: 0.2790 - accuracy: 0.9050 - val_loss: 0.4711 - val_accuracy: 0.8808\n",
      "Epoch 10/100\n",
      "165/165 [==============================] - 2s 9ms/step - loss: 0.2466 - accuracy: 0.9221 - val_loss: 0.3288 - val_accuracy: 0.9142\n",
      "Epoch 11/100\n",
      "165/165 [==============================] - 2s 9ms/step - loss: 0.2121 - accuracy: 0.9331 - val_loss: 0.3016 - val_accuracy: 0.9317\n",
      "Epoch 12/100\n",
      "165/165 [==============================] - 2s 9ms/step - loss: 0.1846 - accuracy: 0.9421 - val_loss: 0.2682 - val_accuracy: 0.9360\n",
      "Epoch 13/100\n",
      "165/165 [==============================] - 2s 9ms/step - loss: 0.1743 - accuracy: 0.9419 - val_loss: 0.2939 - val_accuracy: 0.9215\n",
      "Epoch 14/100\n",
      "165/165 [==============================] - 2s 9ms/step - loss: 0.1506 - accuracy: 0.9530 - val_loss: 0.3817 - val_accuracy: 0.9113\n",
      "Epoch 15/100\n",
      "165/165 [==============================] - 2s 9ms/step - loss: 0.1412 - accuracy: 0.9543 - val_loss: 0.2945 - val_accuracy: 0.9360\n",
      "Epoch 16/100\n",
      "165/165 [==============================] - 2s 9ms/step - loss: 0.1384 - accuracy: 0.9577 - val_loss: 0.3393 - val_accuracy: 0.9360\n",
      "Epoch 17/100\n",
      "165/165 [==============================] - 2s 9ms/step - loss: 0.1294 - accuracy: 0.9615 - val_loss: 0.2792 - val_accuracy: 0.9317\n",
      "Epoch 18/100\n",
      "165/165 [==============================] - 2s 9ms/step - loss: 0.1478 - accuracy: 0.9602 - val_loss: 0.3396 - val_accuracy: 0.9215\n",
      "Epoch 19/100\n",
      "165/165 [==============================] - 2s 9ms/step - loss: 0.1103 - accuracy: 0.9667 - val_loss: 0.2200 - val_accuracy: 0.9578\n",
      "Epoch 20/100\n",
      "165/165 [==============================] - 2s 9ms/step - loss: 0.0895 - accuracy: 0.9707 - val_loss: 0.2939 - val_accuracy: 0.9462\n",
      "Epoch 21/100\n",
      "165/165 [==============================] - 2s 9ms/step - loss: 0.0990 - accuracy: 0.9684 - val_loss: 0.2307 - val_accuracy: 0.9360\n",
      "Epoch 22/100\n",
      "165/165 [==============================] - 2s 9ms/step - loss: 0.0949 - accuracy: 0.9684 - val_loss: 0.3185 - val_accuracy: 0.9448\n",
      "Epoch 23/100\n",
      "165/165 [==============================] - 2s 9ms/step - loss: 0.0951 - accuracy: 0.9693 - val_loss: 0.2702 - val_accuracy: 0.9506\n",
      "Epoch 24/100\n",
      "165/165 [==============================] - 2s 9ms/step - loss: 0.0868 - accuracy: 0.9739 - val_loss: 0.3449 - val_accuracy: 0.9404\n",
      "Epoch 25/100\n",
      "165/165 [==============================] - 2s 9ms/step - loss: 0.0812 - accuracy: 0.9730 - val_loss: 0.3098 - val_accuracy: 0.9390\n",
      "Epoch 26/100\n",
      "165/165 [==============================] - 2s 9ms/step - loss: 0.0983 - accuracy: 0.9743 - val_loss: 0.2643 - val_accuracy: 0.9506\n",
      "Epoch 27/100\n",
      "165/165 [==============================] - 2s 9ms/step - loss: 0.0734 - accuracy: 0.9775 - val_loss: 0.4325 - val_accuracy: 0.9201\n",
      "Epoch 28/100\n",
      "165/165 [==============================] - 2s 9ms/step - loss: 0.0814 - accuracy: 0.9762 - val_loss: 0.3081 - val_accuracy: 0.9448\n",
      "Epoch 29/100\n",
      "165/165 [==============================] - 2s 9ms/step - loss: 0.0770 - accuracy: 0.9773 - val_loss: 0.3799 - val_accuracy: 0.9346\n",
      "Epoch 30/100\n",
      "165/165 [==============================] - 2s 9ms/step - loss: 0.1017 - accuracy: 0.9739 - val_loss: 0.2786 - val_accuracy: 0.9520\n",
      "Epoch 31/100\n",
      "165/165 [==============================] - 2s 9ms/step - loss: 0.0730 - accuracy: 0.9785 - val_loss: 0.2918 - val_accuracy: 0.9506\n",
      "Epoch 32/100\n",
      "165/165 [==============================] - 2s 9ms/step - loss: 0.0689 - accuracy: 0.9815 - val_loss: 0.3769 - val_accuracy: 0.9462\n",
      "Epoch 33/100\n",
      "165/165 [==============================] - 2s 9ms/step - loss: 0.0805 - accuracy: 0.9815 - val_loss: 0.4217 - val_accuracy: 0.9506\n",
      "Epoch 34/100\n",
      "165/165 [==============================] - 2s 9ms/step - loss: 0.0863 - accuracy: 0.9770 - val_loss: 0.3716 - val_accuracy: 0.9506\n",
      "Epoch 35/100\n",
      "165/165 [==============================] - 2s 9ms/step - loss: 0.0708 - accuracy: 0.9798 - val_loss: 0.3574 - val_accuracy: 0.9549\n",
      "Epoch 36/100\n",
      "165/165 [==============================] - 2s 9ms/step - loss: 0.0768 - accuracy: 0.9790 - val_loss: 0.4131 - val_accuracy: 0.9448\n",
      "Epoch 37/100\n",
      "165/165 [==============================] - 2s 9ms/step - loss: 0.0613 - accuracy: 0.9836 - val_loss: 0.3771 - val_accuracy: 0.9506\n",
      "Epoch 38/100\n",
      "165/165 [==============================] - 2s 9ms/step - loss: 0.0714 - accuracy: 0.9790 - val_loss: 0.3714 - val_accuracy: 0.9390\n",
      "Epoch 39/100\n",
      "165/165 [==============================] - 2s 9ms/step - loss: 0.0705 - accuracy: 0.9819 - val_loss: 0.3889 - val_accuracy: 0.9535\n",
      "Epoch 40/100\n",
      "165/165 [==============================] - 2s 10ms/step - loss: 0.0638 - accuracy: 0.9823 - val_loss: 0.3828 - val_accuracy: 0.9506\n",
      "Epoch 41/100\n",
      "165/165 [==============================] - 2s 9ms/step - loss: 0.0760 - accuracy: 0.9798 - val_loss: 0.3517 - val_accuracy: 0.9535\n",
      "Epoch 42/100\n",
      "165/165 [==============================] - 2s 9ms/step - loss: 0.0743 - accuracy: 0.9817 - val_loss: 0.3031 - val_accuracy: 0.9549\n",
      "Epoch 43/100\n",
      "165/165 [==============================] - 2s 9ms/step - loss: 0.0654 - accuracy: 0.9811 - val_loss: 0.4490 - val_accuracy: 0.9477\n",
      "Epoch 44/100\n",
      "165/165 [==============================] - 2s 9ms/step - loss: 0.0826 - accuracy: 0.9834 - val_loss: 0.3235 - val_accuracy: 0.9549\n",
      "Epoch 45/100\n",
      "165/165 [==============================] - 2s 9ms/step - loss: 0.0732 - accuracy: 0.9796 - val_loss: 0.4768 - val_accuracy: 0.9549\n",
      "Epoch 46/100\n",
      "165/165 [==============================] - 2s 9ms/step - loss: 0.0725 - accuracy: 0.9821 - val_loss: 0.3473 - val_accuracy: 0.9506\n",
      "Epoch 47/100\n",
      "165/165 [==============================] - 2s 9ms/step - loss: 0.0675 - accuracy: 0.9821 - val_loss: 0.4665 - val_accuracy: 0.9506\n",
      "Epoch 48/100\n",
      "165/165 [==============================] - 2s 9ms/step - loss: 0.0638 - accuracy: 0.9838 - val_loss: 0.4631 - val_accuracy: 0.9564\n",
      "Epoch 49/100\n",
      "165/165 [==============================] - 2s 9ms/step - loss: 0.0615 - accuracy: 0.9829 - val_loss: 0.4058 - val_accuracy: 0.9477\n",
      "Epoch 50/100\n",
      "165/165 [==============================] - 2s 10ms/step - loss: 0.0712 - accuracy: 0.9829 - val_loss: 0.4103 - val_accuracy: 0.9564\n",
      "Epoch 51/100\n",
      "165/165 [==============================] - 2s 9ms/step - loss: 0.0533 - accuracy: 0.9865 - val_loss: 0.3999 - val_accuracy: 0.9564\n",
      "Epoch 52/100\n",
      "165/165 [==============================] - 2s 9ms/step - loss: 0.0808 - accuracy: 0.9819 - val_loss: 0.3760 - val_accuracy: 0.9477\n",
      "Epoch 53/100\n",
      "165/165 [==============================] - 2s 9ms/step - loss: 0.0586 - accuracy: 0.9851 - val_loss: 0.4953 - val_accuracy: 0.9477\n",
      "Epoch 54/100\n",
      "165/165 [==============================] - 2s 9ms/step - loss: 0.0719 - accuracy: 0.9842 - val_loss: 0.4348 - val_accuracy: 0.9506\n",
      "Epoch 55/100\n",
      "165/165 [==============================] - 2s 9ms/step - loss: 0.0715 - accuracy: 0.9830 - val_loss: 0.3597 - val_accuracy: 0.9535\n",
      "Epoch 56/100\n",
      "165/165 [==============================] - 2s 9ms/step - loss: 0.0778 - accuracy: 0.9851 - val_loss: 0.4214 - val_accuracy: 0.9506\n",
      "Epoch 57/100\n",
      "165/165 [==============================] - 2s 9ms/step - loss: 0.0691 - accuracy: 0.9842 - val_loss: 0.3784 - val_accuracy: 0.9520\n"
     ]
    },
    {
     "name": "stdout",
     "output_type": "stream",
     "text": [
      "Epoch 58/100\n",
      "165/165 [==============================] - 2s 9ms/step - loss: 0.0592 - accuracy: 0.9870 - val_loss: 0.4969 - val_accuracy: 0.9491\n",
      "Epoch 59/100\n",
      "165/165 [==============================] - 2s 9ms/step - loss: 0.0702 - accuracy: 0.9846 - val_loss: 0.5334 - val_accuracy: 0.9535\n",
      "Epoch 60/100\n",
      "165/165 [==============================] - 2s 9ms/step - loss: 0.0617 - accuracy: 0.9842 - val_loss: 0.4423 - val_accuracy: 0.9578\n",
      "Epoch 61/100\n",
      "165/165 [==============================] - 2s 9ms/step - loss: 0.0661 - accuracy: 0.9857 - val_loss: 0.5272 - val_accuracy: 0.9608\n",
      "Epoch 62/100\n",
      "165/165 [==============================] - 2s 9ms/step - loss: 0.0651 - accuracy: 0.9844 - val_loss: 0.4807 - val_accuracy: 0.9564\n",
      "Epoch 63/100\n",
      "165/165 [==============================] - 2s 9ms/step - loss: 0.0640 - accuracy: 0.9850 - val_loss: 0.4529 - val_accuracy: 0.9578\n",
      "Epoch 64/100\n",
      "165/165 [==============================] - 2s 9ms/step - loss: 0.0639 - accuracy: 0.9867 - val_loss: 0.4218 - val_accuracy: 0.9506\n",
      "Epoch 65/100\n",
      "165/165 [==============================] - 2s 9ms/step - loss: 0.0622 - accuracy: 0.9869 - val_loss: 0.5621 - val_accuracy: 0.9520\n",
      "Epoch 66/100\n",
      "165/165 [==============================] - 2s 9ms/step - loss: 0.0614 - accuracy: 0.9855 - val_loss: 0.3887 - val_accuracy: 0.9578\n",
      "Epoch 67/100\n",
      "165/165 [==============================] - 2s 9ms/step - loss: 0.0646 - accuracy: 0.9848 - val_loss: 0.4078 - val_accuracy: 0.9564\n",
      "Epoch 68/100\n",
      "165/165 [==============================] - 2s 9ms/step - loss: 0.0549 - accuracy: 0.9872 - val_loss: 0.6092 - val_accuracy: 0.9593\n",
      "Epoch 69/100\n",
      "165/165 [==============================] - 2s 9ms/step - loss: 0.0655 - accuracy: 0.9876 - val_loss: 0.4938 - val_accuracy: 0.9535\n",
      "Epoch 70/100\n",
      "165/165 [==============================] - 2s 9ms/step - loss: 0.0618 - accuracy: 0.9867 - val_loss: 0.4755 - val_accuracy: 0.9520\n",
      "Epoch 71/100\n",
      "165/165 [==============================] - 2s 9ms/step - loss: 0.0580 - accuracy: 0.9870 - val_loss: 0.4457 - val_accuracy: 0.9593\n",
      "Epoch 72/100\n",
      "165/165 [==============================] - 2s 9ms/step - loss: 0.0708 - accuracy: 0.9861 - val_loss: 0.4680 - val_accuracy: 0.9462\n",
      "Epoch 73/100\n",
      "165/165 [==============================] - 2s 9ms/step - loss: 0.0814 - accuracy: 0.9844 - val_loss: 0.4172 - val_accuracy: 0.9520\n",
      "Epoch 74/100\n",
      "165/165 [==============================] - 2s 9ms/step - loss: 0.0578 - accuracy: 0.9855 - val_loss: 0.3742 - val_accuracy: 0.9520\n",
      "Epoch 75/100\n",
      "165/165 [==============================] - 2s 9ms/step - loss: 0.0636 - accuracy: 0.9876 - val_loss: 0.4796 - val_accuracy: 0.9549\n",
      "Epoch 76/100\n",
      "165/165 [==============================] - 2s 9ms/step - loss: 0.0865 - accuracy: 0.9853 - val_loss: 0.5264 - val_accuracy: 0.9506\n",
      "Epoch 77/100\n",
      "165/165 [==============================] - 2s 9ms/step - loss: 0.0704 - accuracy: 0.9886 - val_loss: 0.4323 - val_accuracy: 0.9535\n",
      "Epoch 78/100\n",
      "165/165 [==============================] - 2s 9ms/step - loss: 0.0740 - accuracy: 0.9855 - val_loss: 0.4283 - val_accuracy: 0.9622\n",
      "Epoch 79/100\n",
      "165/165 [==============================] - 2s 9ms/step - loss: 0.0607 - accuracy: 0.9880 - val_loss: 0.3933 - val_accuracy: 0.9549\n",
      "Epoch 80/100\n",
      "165/165 [==============================] - 2s 9ms/step - loss: 0.0559 - accuracy: 0.9897 - val_loss: 0.5067 - val_accuracy: 0.9549\n",
      "Epoch 81/100\n",
      "165/165 [==============================] - 2s 9ms/step - loss: 0.0514 - accuracy: 0.9880 - val_loss: 0.6129 - val_accuracy: 0.9506\n",
      "Epoch 82/100\n",
      "165/165 [==============================] - 2s 10ms/step - loss: 0.0719 - accuracy: 0.9865 - val_loss: 0.5151 - val_accuracy: 0.9578\n",
      "Epoch 83/100\n",
      "165/165 [==============================] - 2s 9ms/step - loss: 0.0642 - accuracy: 0.9888 - val_loss: 0.5793 - val_accuracy: 0.9578\n",
      "Epoch 84/100\n",
      "165/165 [==============================] - 2s 9ms/step - loss: 0.0703 - accuracy: 0.9903 - val_loss: 0.4429 - val_accuracy: 0.9622\n",
      "Epoch 85/100\n",
      "165/165 [==============================] - 2s 9ms/step - loss: 0.0666 - accuracy: 0.9880 - val_loss: 0.5581 - val_accuracy: 0.9578\n",
      "Epoch 86/100\n",
      "165/165 [==============================] - 2s 9ms/step - loss: 0.0630 - accuracy: 0.9880 - val_loss: 0.4584 - val_accuracy: 0.9608\n",
      "Epoch 87/100\n",
      "165/165 [==============================] - 2s 9ms/step - loss: 0.0701 - accuracy: 0.9872 - val_loss: 0.5870 - val_accuracy: 0.9506\n",
      "Epoch 88/100\n",
      "165/165 [==============================] - 2s 9ms/step - loss: 0.0682 - accuracy: 0.9886 - val_loss: 0.3888 - val_accuracy: 0.9535\n",
      "Epoch 89/100\n",
      "165/165 [==============================] - 2s 9ms/step - loss: 0.0585 - accuracy: 0.9888 - val_loss: 0.5569 - val_accuracy: 0.9535\n",
      "Epoch 90/100\n",
      "165/165 [==============================] - 2s 9ms/step - loss: 0.0734 - accuracy: 0.9870 - val_loss: 0.5637 - val_accuracy: 0.9535\n",
      "Epoch 91/100\n",
      "165/165 [==============================] - 2s 9ms/step - loss: 0.0567 - accuracy: 0.9891 - val_loss: 0.7636 - val_accuracy: 0.9549\n",
      "Epoch 92/100\n",
      "165/165 [==============================] - 2s 10ms/step - loss: 0.0699 - accuracy: 0.9884 - val_loss: 0.5690 - val_accuracy: 0.9608\n",
      "Epoch 93/100\n",
      "165/165 [==============================] - 2s 9ms/step - loss: 0.0520 - accuracy: 0.9899 - val_loss: 0.4537 - val_accuracy: 0.9593\n",
      "Epoch 94/100\n",
      "165/165 [==============================] - 2s 9ms/step - loss: 0.0509 - accuracy: 0.9893 - val_loss: 0.6467 - val_accuracy: 0.9549\n",
      "Epoch 95/100\n",
      "165/165 [==============================] - 2s 9ms/step - loss: 0.0650 - accuracy: 0.9891 - val_loss: 0.6072 - val_accuracy: 0.9637\n",
      "Epoch 96/100\n",
      "165/165 [==============================] - 2s 9ms/step - loss: 0.0788 - accuracy: 0.9872 - val_loss: 0.5643 - val_accuracy: 0.9578\n",
      "Epoch 97/100\n",
      "165/165 [==============================] - 2s 9ms/step - loss: 0.0830 - accuracy: 0.9869 - val_loss: 0.5825 - val_accuracy: 0.9622\n",
      "Epoch 98/100\n",
      "165/165 [==============================] - 2s 9ms/step - loss: 0.0755 - accuracy: 0.9869 - val_loss: 0.4556 - val_accuracy: 0.9578\n",
      "Epoch 99/100\n",
      "165/165 [==============================] - 2s 9ms/step - loss: 0.0477 - accuracy: 0.9910 - val_loss: 0.6146 - val_accuracy: 0.9564\n",
      "Epoch 100/100\n",
      "165/165 [==============================] - 2s 9ms/step - loss: 0.0838 - accuracy: 0.9876 - val_loss: 0.5458 - val_accuracy: 0.9578\n"
     ]
    }
   ],
   "source": [
    "print(\"Training....\")\n",
    "acc = model.fit(img_train, lbl_train, epochs=epochs, batch_size=batch, validation_data=(img_test, lbl_test))"
   ]
  },
  {
   "cell_type": "code",
   "execution_count": 17,
   "id": "3f7111a0",
   "metadata": {},
   "outputs": [
    {
     "name": "stdout",
     "output_type": "stream",
     "text": [
      "22/22 [==============================] - 0s 3ms/step - loss: 0.5458 - accuracy: 0.9578\n"
     ]
    }
   ],
   "source": [
    "score = model.evaluate(img_test, lbl_test)"
   ]
  },
  {
   "cell_type": "code",
   "execution_count": 18,
   "id": "36b1b3b1",
   "metadata": {},
   "outputs": [
    {
     "data": {
      "text/plain": [
       "<Figure size 576x360 with 0 Axes>"
      ]
     },
     "metadata": {},
     "output_type": "display_data"
    },
    {
     "data": {
      "image/png": "[encoded data removed]",
      "text/plain": [
       "<Figure size 432x288 with 1 Axes>"
      ]
     },
     "metadata": {
      "needs_background": "light"
     },
     "output_type": "display_data"
    }
   ],
   "source": [
    "plt.figure(figsize=(8,5))\n",
    "pd.DataFrame(acc.history).plot()\n",
    "plt.show()"
   ]
  },
  {
   "cell_type": "code",
   "execution_count": 19,
   "id": "958c90a9",
   "metadata": {
    "scrolled": false
   },
   "outputs": [
    {
     "name": "stdout",
     "output_type": "stream",
     "text": [
      "Model: \"sequential\"\n",
      "_________________________________________________________________\n",
      " Layer (type)                Output Shape              Param #   \n",
      "=================================================================\n",
      " conv2d (Conv2D)             (None, 46, 46, 64)        1664      \n",
      "                                                                 \n",
      " max_pooling2d (MaxPooling2D  (None, 23, 23, 64)       0         \n",
      " )                                                               \n",
      "                                                                 \n",
      " dropout (Dropout)           (None, 23, 23, 64)        0         \n",
      "                                                                 \n",
      " conv2d_1 (Conv2D)           (None, 19, 19, 128)       204928    \n",
      "                                                                 \n",
      " max_pooling2d_1 (MaxPooling  (None, 9, 9, 128)        0         \n",
      " 2D)                                                             \n",
      "                                                                 \n",
      " dropout_1 (Dropout)         (None, 9, 9, 128)         0         \n",
      "                                                                 \n",
      " conv2d_2 (Conv2D)           (None, 5, 5, 256)         819456    \n",
      "                                                                 \n",
      " max_pooling2d_2 (MaxPooling  (None, 2, 2, 256)        0         \n",
      " 2D)                                                             \n",
      "                                                                 \n",
      " dropout_2 (Dropout)         (None, 2, 2, 256)         0         \n",
      "                                                                 \n",
      " flatten (Flatten)           (None, 1024)              0         \n",
      "                                                                 \n",
      " dense (Dense)               (None, 128)               131200    \n",
      "                                                                 \n",
      " dense_1 (Dense)             (None, 256)               33024     \n",
      "                                                                 \n",
      " dense_2 (Dense)             (None, 31)                7967      \n",
      "                                                                 \n",
      "=================================================================\n",
      "Total params: 1,198,239\n",
      "Trainable params: 1,198,239\n",
      "Non-trainable params: 0\n",
      "_________________________________________________________________\n",
      "None\n",
      "Loss :  0.5457886457443237\n",
      "Accuracy : 0.957848846912384\n"
     ]
    }
   ],
   "source": [
    "print(model.summary()) \n",
    "print('Loss : ', score[0])\n",
    "print('Accuracy :',score[1])"
   ]
  },
  {
   "cell_type": "code",
   "execution_count": 20,
   "id": "6935283f",
   "metadata": {},
   "outputs": [
    {
     "name": "stdout",
     "output_type": "stream",
     "text": [
      "Model saved\n"
     ]
    }
   ],
   "source": [
    "model.save('../model.h5')\n",
    "print(\"Model saved\")"
   ]
  },
  {
   "cell_type": "code",
   "execution_count": null,
   "id": "26f9a198",
   "metadata": {},
   "outputs": [],
   "source": []
  }
 ],
 "metadata": {
  "kernelspec": {
   "display_name": "Python 3 (ipykernel)",
   "language": "python",
   "name": "python3"
  },
  "language_info": {
   "codemirror_mode": {
    "name": "ipython",
    "version": 3
   },
   "file_extension": ".py",
   "mimetype": "text/x-python",
   "name": "python",
   "nbconvert_exporter": "python",
   "pygments_lexer": "ipython3",
   "version": "3.9.12"
  },
  "vscode": {
   "interpreter": {
    "hash": "429daceb1b7ca5b0fd445a5943d4d38a9d461d446f33489cc90d4dffb75cd92c"
   }
  }
 },
 "nbformat": 4,
 "nbformat_minor": 5
}
