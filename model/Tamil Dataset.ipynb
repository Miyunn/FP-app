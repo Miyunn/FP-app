{
 "cells": [
  {
   "cell_type": "code",
   "execution_count": 7,
   "id": "dd67c734",
   "metadata": {},
   "outputs": [
    {
     "name": "stdout",
     "output_type": "stream",
     "text": [
      "u16_000t01.tiff\n"
     ]
    },
    {
     "ename": "TypeError",
     "evalue": "unsupported operand type(s) for -: 'NoneType' and 'int'",
     "output_type": "error",
     "traceback": [
      "\u001b[1;31m---------------------------------------------------------------------------\u001b[0m",
      "\u001b[1;31mTypeError\u001b[0m                                 Traceback (most recent call last)",
      "Input \u001b[1;32mIn [7]\u001b[0m, in \u001b[0;36m<cell line: 4>\u001b[1;34m()\u001b[0m\n\u001b[0;32m      5\u001b[0m \u001b[38;5;28mprint\u001b[39m(files)\n\u001b[0;32m      6\u001b[0m img\u001b[38;5;241m=\u001b[39mcv2\u001b[38;5;241m.\u001b[39mimread(\u001b[38;5;124m'\u001b[39m\u001b[38;5;124m./dataset/tamil\u001b[39m\u001b[38;5;124m'\u001b[39m\u001b[38;5;241m+\u001b[39m\u001b[38;5;28mstr\u001b[39m(files),\u001b[38;5;241m0\u001b[39m)\n\u001b[1;32m----> 7\u001b[0m img2 \u001b[38;5;241m=\u001b[39m \u001b[43mimg\u001b[49m\u001b[38;5;241;43m-\u001b[39;49m\u001b[38;5;241;43m255\u001b[39;49m\n\u001b[0;32m      8\u001b[0m img2\u001b[38;5;241m=\u001b[39mcv2\u001b[38;5;241m.\u001b[39mresize(img2(\u001b[38;5;241m224\u001b[39m, \u001b[38;5;241m224\u001b[39m))\n",
      "\u001b[1;31mTypeError\u001b[0m: unsupported operand type(s) for -: 'NoneType' and 'int'"
     ]
    }
   ],
   "source": [
    "#please change directories according to your file system\n",
    "import cv2 \n",
    "import os\n",
    "for files in  os.listdir(\"./dataset/tamil\"):\n",
    "    print(files)\n",
    "    img=cv2.imread('./dataset/tamil'+str(files),0)\n",
    "    img2 = img-255\n",
    "    img2=cv2.resize(img2(224, 224))"
   ]
  },
  {
   "cell_type": "code",
   "execution_count": 4,
   "id": "71f3f746",
   "metadata": {},
   "outputs": [
    {
     "ename": "FileNotFoundError",
     "evalue": "[WinError 3] The system cannot find the path specified: './processed_dataset'",
     "output_type": "error",
     "traceback": [
      "\u001b[1;31m---------------------------------------------------------------------------\u001b[0m",
      "\u001b[1;31mFileNotFoundError\u001b[0m                         Traceback (most recent call last)",
      "Input \u001b[1;32mIn [4]\u001b[0m, in \u001b[0;36m<cell line: 2>\u001b[1;34m()\u001b[0m\n\u001b[0;32m      1\u001b[0m \u001b[38;5;28;01mimport\u001b[39;00m \u001b[38;5;21;01mre\u001b[39;00m\n\u001b[1;32m----> 2\u001b[0m \u001b[38;5;28;01mfor\u001b[39;00m files \u001b[38;5;129;01min\u001b[39;00m  \u001b[43mos\u001b[49m\u001b[38;5;241;43m.\u001b[39;49m\u001b[43mlistdir\u001b[49m\u001b[43m(\u001b[49m\u001b[38;5;124;43m\"\u001b[39;49m\u001b[38;5;124;43m./processed_dataset\u001b[39;49m\u001b[38;5;124;43m\"\u001b[39;49m\u001b[43m)\u001b[49m:\n\u001b[0;32m      3\u001b[0m     index1\u001b[38;5;241m=\u001b[39mre\u001b[38;5;241m.\u001b[39mfindall(\u001b[38;5;124mr\u001b[39m\u001b[38;5;124m'\u001b[39m\u001b[38;5;124m\\\u001b[39m\u001b[38;5;124md\u001b[39m\u001b[38;5;124m\\\u001b[39m\u001b[38;5;124mdt\u001b[39m\u001b[38;5;124m'\u001b[39m,files)\n\u001b[0;32m      4\u001b[0m     index\u001b[38;5;241m=\u001b[39m\u001b[38;5;28mint\u001b[39m(index1[\u001b[38;5;241m0\u001b[39m][\u001b[38;5;241m0\u001b[39m:\u001b[38;5;241m2\u001b[39m])\n",
      "\u001b[1;31mFileNotFoundError\u001b[0m: [WinError 3] The system cannot find the path specified: './processed_dataset'"
     ]
    }
   ],
   "source": [
    "import re\n",
    "for files in  os.listdir(\"./processed_dataset\"):\n",
    "    index1=re.findall(r'\\d\\dt',files)\n",
    "    index=int(index1[0][0:2])\n",
    "    img=cv2.imread('./processed_dataset/'+str(files),0)\n",
    "    print(index)\n",
    "    if not os.path.exists('./classified_dataset/'+str(index)+'/'):\n",
    "        os.makedirs('./classified_dataset/'+str(index)+'/')\n",
    "    cv2.imwrite('./classified_dataset/'+str(index)+'/'+files,img)"
   ]
  },
  {
   "cell_type": "code",
   "execution_count": null,
   "id": "8edbeeef",
   "metadata": {},
   "outputs": [],
   "source": []
  },
  {
   "cell_type": "code",
   "execution_count": null,
   "id": "30004d09",
   "metadata": {},
   "outputs": [],
   "source": []
  },
  {
   "cell_type": "code",
   "execution_count": null,
   "id": "909fc6e4",
   "metadata": {},
   "outputs": [],
   "source": []
  }
 ],
 "metadata": {
  "kernelspec": {
   "display_name": "Python 3 (ipykernel)",
   "language": "python",
   "name": "python3"
  },
  "language_info": {
   "codemirror_mode": {
    "name": "ipython",
    "version": 3
   },
   "file_extension": ".py",
   "mimetype": "text/x-python",
   "name": "python",
   "nbconvert_exporter": "python",
   "pygments_lexer": "ipython3",
   "version": "3.9.12"
  }
 },
 "nbformat": 4,
 "nbformat_minor": 5
}
