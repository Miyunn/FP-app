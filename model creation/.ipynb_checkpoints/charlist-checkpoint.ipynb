{
 "cells": [
  {
   "cell_type": "code",
   "execution_count": 16,
   "id": "efaa3d9d",
   "metadata": {},
   "outputs": [],
   "source": [
    "from numpy import asarray\n",
    "from numpy import save"
   ]
  },
  {
   "cell_type": "code",
   "execution_count": 17,
   "id": "f795df4b",
   "metadata": {},
   "outputs": [],
   "source": [
    "data = asarray(['අ', 'ආ', 'ඇ',\n",
    "'ඈ',\n",
    "'ඉ',\n",
    "'ඊ',\n",
    "'උ',\n",
    "'එ',\n",
    "'ඔ',\n",
    "'ඕ',\n",
    "'ක',\n",
    "'ග',\n",
    "'ච',\n",
    "'ජ',\n",
    "''\n",
    "])"
   ]
  },
  {
   "cell_type": "code",
   "execution_count": 18,
   "id": "00bc6634",
   "metadata": {},
   "outputs": [],
   "source": [
    "save('data.npy', data)"
   ]
  },
  {
   "cell_type": "code",
   "execution_count": 19,
   "id": "3fa025fa",
   "metadata": {},
   "outputs": [
    {
     "name": "stdout",
     "output_type": "stream",
     "text": [
      "['අ' 'ආ' 'ඇ' 'ඈ' 'ඉ' 'ඊ' 'උ' 'එ']\n"
     ]
    }
   ],
   "source": [
    "from numpy import load\n",
    "# load array\n",
    "data = load('data.npy')\n",
    "# print the array\n",
    "print(data)"
   ]
  },
  {
   "cell_type": "code",
   "execution_count": 20,
   "id": "3e2827e1",
   "metadata": {},
   "outputs": [
    {
     "name": "stdout",
     "output_type": "stream",
     "text": [
      "<class 'numpy.ndarray'>\n"
     ]
    }
   ],
   "source": [
    "print(type(data))"
   ]
  },
  {
   "cell_type": "code",
   "execution_count": 21,
   "id": "9d7e3614",
   "metadata": {},
   "outputs": [
    {
     "name": "stdout",
     "output_type": "stream",
     "text": [
      "ඇ\n"
     ]
    }
   ],
   "source": [
    "print(data[2])"
   ]
  },
  {
   "cell_type": "code",
   "execution_count": null,
   "id": "e7a61e0a",
   "metadata": {},
   "outputs": [],
   "source": []
  }
 ],
 "metadata": {
  "kernelspec": {
   "display_name": "Python 3 (ipykernel)",
   "language": "python",
   "name": "python3"
  },
  "language_info": {
   "codemirror_mode": {
    "name": "ipython",
    "version": 3
   },
   "file_extension": ".py",
   "mimetype": "text/x-python",
   "name": "python",
   "nbconvert_exporter": "python",
   "pygments_lexer": "ipython3",
   "version": "3.9.12"
  }
 },
 "nbformat": 4,
 "nbformat_minor": 5
}
